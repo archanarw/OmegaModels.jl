{
 "cells": [
  {
   "outputs": [],
   "cell_type": "code",
   "source": [
    "using Omega\n",
    "using UnicodePlots"
   ],
   "metadata": {},
   "execution_count": 1
  },
  {
   "outputs": [],
   "cell_type": "markdown",
   "source": [
    "Use a Beta distribution for a prior"
   ],
   "metadata": {}
  },
  {
   "outputs": [
    {
     "output_type": "execute_result",
     "data": {
      "text/plain": "3:Beta(2.0, 2.0)::Float64"
     },
     "metadata": {},
     "execution_count": 2
    }
   ],
   "cell_type": "code",
   "source": [
    "weight = β(2.0, 2.0)"
   ],
   "metadata": {},
   "execution_count": 2
  },
  {
   "outputs": [],
   "cell_type": "markdown",
   "source": [
    "Draw 1000 samples from the prior"
   ],
   "metadata": {}
  },
  {
   "outputs": [
    {
     "output_type": "execute_result",
     "data": {
      "text/plain": "10000-element Array{Float64,1}:\n 0.8392332471999232 \n 0.47200973522577744\n 0.6070972059165498 \n 0.8449674421242732 \n 0.4441244579660807 \n 0.18379343451549318\n 0.2953455557185459 \n 0.7311504715307935 \n 0.16053369116706245\n 0.820543220527951  \n ⋮                  \n 0.5000242470479193 \n 0.3141938344420238 \n 0.10500570024137561\n 0.99322655279977   \n 0.7817117073818283 \n 0.7219676173906276 \n 0.2723112160256563 \n 0.7990938614057437 \n 0.6203727378958774 "
     },
     "metadata": {},
     "execution_count": 3
    }
   ],
   "cell_type": "code",
   "source": [
    "beta_samples = rand(weight, 10000)"
   ],
   "metadata": {},
   "execution_count": 3
  },
  {
   "outputs": [],
   "cell_type": "markdown",
   "source": [
    "Visualize the prior of the weight"
   ],
   "metadata": {}
  },
  {
   "outputs": [
    {
     "output_type": "execute_result",
     "data": {
      "text/plain": "\u001b[90m              ┌                                        ┐\u001b[39m \n   \u001b[0m\u001b[90m[\u001b[0m0.0\u001b[90m, \u001b[0m0.1\u001b[90m)\u001b[0m\u001b[90m ┤\u001b[39m\u001b[32m▇▇▇▇▇▇\u001b[39m\u001b[0m 287                              \u001b[90m \u001b[39m \n   \u001b[0m\u001b[90m[\u001b[0m0.1\u001b[90m, \u001b[0m0.2\u001b[90m)\u001b[0m\u001b[90m ┤\u001b[39m\u001b[32m▇▇▇▇▇▇▇▇▇▇▇▇▇▇▇▇\u001b[39m\u001b[0m 725                    \u001b[90m \u001b[39m \n   \u001b[0m\u001b[90m[\u001b[0m0.2\u001b[90m, \u001b[0m0.3\u001b[90m)\u001b[0m\u001b[90m ┤\u001b[39m\u001b[32m▇▇▇▇▇▇▇▇▇▇▇▇▇▇▇▇▇▇▇▇▇▇▇▇\u001b[39m\u001b[0m 1080           \u001b[90m \u001b[39m \n   \u001b[0m\u001b[90m[\u001b[0m0.3\u001b[90m, \u001b[0m0.4\u001b[90m)\u001b[0m\u001b[90m ┤\u001b[39m\u001b[32m▇▇▇▇▇▇▇▇▇▇▇▇▇▇▇▇▇▇▇▇▇▇▇▇▇▇▇▇▇▇▇\u001b[39m\u001b[0m 1384    \u001b[90m \u001b[39m \n   \u001b[0m\u001b[90m[\u001b[0m0.4\u001b[90m, \u001b[0m0.5\u001b[90m)\u001b[0m\u001b[90m ┤\u001b[39m\u001b[32m▇▇▇▇▇▇▇▇▇▇▇▇▇▇▇▇▇▇▇▇▇▇▇▇▇▇▇▇▇▇▇▇▇▇\u001b[39m\u001b[0m 1504 \u001b[90m \u001b[39m \n   \u001b[0m\u001b[90m[\u001b[0m0.5\u001b[90m, \u001b[0m0.6\u001b[90m)\u001b[0m\u001b[90m ┤\u001b[39m\u001b[32m▇▇▇▇▇▇▇▇▇▇▇▇▇▇▇▇▇▇▇▇▇▇▇▇▇▇▇▇▇▇▇▇▇▇\u001b[39m\u001b[0m 1485 \u001b[90m \u001b[39m \n   \u001b[0m\u001b[90m[\u001b[0m0.6\u001b[90m, \u001b[0m0.7\u001b[90m)\u001b[0m\u001b[90m ┤\u001b[39m\u001b[32m▇▇▇▇▇▇▇▇▇▇▇▇▇▇▇▇▇▇▇▇▇▇▇▇▇▇▇▇▇▇\u001b[39m\u001b[0m 1338     \u001b[90m \u001b[39m \n   \u001b[0m\u001b[90m[\u001b[0m0.7\u001b[90m, \u001b[0m0.8\u001b[90m)\u001b[0m\u001b[90m ┤\u001b[39m\u001b[32m▇▇▇▇▇▇▇▇▇▇▇▇▇▇▇▇▇▇▇▇▇▇▇▇▇▇\u001b[39m\u001b[0m 1132         \u001b[90m \u001b[39m \n   \u001b[0m\u001b[90m[\u001b[0m0.8\u001b[90m, \u001b[0m0.9\u001b[90m)\u001b[0m\u001b[90m ┤\u001b[39m\u001b[32m▇▇▇▇▇▇▇▇▇▇▇▇▇▇▇▇▇▇\u001b[39m\u001b[0m 784                  \u001b[90m \u001b[39m \n   \u001b[0m\u001b[90m[\u001b[0m0.9\u001b[90m, \u001b[0m1.0\u001b[90m)\u001b[0m\u001b[90m ┤\u001b[39m\u001b[32m▇▇▇▇▇▇\u001b[39m\u001b[0m 281                              \u001b[90m \u001b[39m \n\u001b[90m              └                                        ┘\u001b[39m \n\u001b[0m                              Frequency"
     },
     "metadata": {},
     "execution_count": 4
    }
   ],
   "cell_type": "code",
   "source": [
    "UnicodePlots.histogram(beta_samples)"
   ],
   "metadata": {},
   "execution_count": 4
  },
  {
   "outputs": [],
   "cell_type": "markdown",
   "source": [
    "Construct a distribution over coinflips"
   ],
   "metadata": {}
  },
  {
   "outputs": [
    {
     "output_type": "execute_result",
     "data": {
      "text/plain": "9:Omega.applymany(Omega.Prim.Bernoulli{Bool,Omega.Prim.Beta{Float64,Float64}}[5:Bernoulli(Beta)::Bool, 6:Bernoulli(Beta)::Bool, 7:Bernoulli(Beta)::Bool, 8:Bernoulli(Beta)::Bool])::Array{Bool,1}"
     },
     "metadata": {},
     "execution_count": 5
    }
   ],
   "cell_type": "code",
   "source": [
    "nflips = 4\n",
    "coinflips = [bernoulli(weight, Bool) for i = 1:nflips]ᵣ"
   ],
   "metadata": {},
   "execution_count": 5
  },
  {
   "outputs": [],
   "cell_type": "markdown",
   "source": [
    "`coinflips` is a `RandVar` and hence we can sample from it with `rand`"
   ],
   "metadata": {}
  },
  {
   "outputs": [
    {
     "output_type": "execute_result",
     "data": {
      "text/plain": "4-element Array{Bool,1}:\n  true\n false\n false\n false"
     },
     "metadata": {},
     "execution_count": 6
    }
   ],
   "cell_type": "code",
   "source": [
    "rand(coinflips)"
   ],
   "metadata": {},
   "execution_count": 6
  },
  {
   "outputs": [],
   "cell_type": "markdown",
   "source": [
    "First create some fake data"
   ],
   "metadata": {}
  },
  {
   "outputs": [
    {
     "output_type": "execute_result",
     "data": {
      "text/plain": "4-element Array{Bool,1}:\n  true\n  true\n  true\n false"
     },
     "metadata": {},
     "execution_count": 7
    }
   ],
   "cell_type": "code",
   "source": [
    "observations = [true, true, true, false]"
   ],
   "metadata": {},
   "execution_count": 7
  },
  {
   "outputs": [],
   "cell_type": "markdown",
   "source": [
    "and then use `rand` to draw conditional samples:"
   ],
   "metadata": {}
  },
  {
   "outputs": [
    {
     "output_type": "execute_result",
     "data": {
      "text/plain": "10000-element Array{Float64,1}:\n 0.5167495990901216 \n 0.9132715237933073 \n 0.6435578153898522 \n 0.6088641030302502 \n 0.6937820311475329 \n 0.28286059670689573\n 0.85937664845461   \n 0.5118284654286591 \n 0.5537960180449962 \n 0.6464496998989858 \n ⋮                  \n 0.79225880176557   \n 0.33885601341790594\n 0.741702237901344  \n 0.8936449974303675 \n 0.6585705320241714 \n 0.5413743176677477 \n 0.5453208229764765 \n 0.6203440127162407 \n 0.742876075707781  "
     },
     "metadata": {},
     "execution_count": 8
    }
   ],
   "cell_type": "code",
   "source": [
    "weight_samples = rand(weight, coinflips ==ᵣ observations, 10000; alg = RejectionSample)"
   ],
   "metadata": {},
   "execution_count": 8
  },
  {
   "outputs": [],
   "cell_type": "markdown",
   "source": [
    "Vizualise the conditional (aka, posterior)"
   ],
   "metadata": {}
  },
  {
   "outputs": [
    {
     "output_type": "execute_result",
     "data": {
      "text/plain": "\u001b[90m              ┌                                        ┐\u001b[39m \n   \u001b[0m\u001b[90m[\u001b[0m0.1\u001b[90m, \u001b[0m0.2\u001b[90m)\u001b[0m\u001b[90m ┤\u001b[39m\u001b[32m▇\u001b[39m\u001b[0m 48                                    \u001b[90m \u001b[39m \n   \u001b[0m\u001b[90m[\u001b[0m0.2\u001b[90m, \u001b[0m0.3\u001b[90m)\u001b[0m\u001b[90m ┤\u001b[39m\u001b[32m▇▇▇\u001b[39m\u001b[0m 221                                 \u001b[90m \u001b[39m \n   \u001b[0m\u001b[90m[\u001b[0m0.3\u001b[90m, \u001b[0m0.4\u001b[90m)\u001b[0m\u001b[90m ┤\u001b[39m\u001b[32m▇▇▇▇▇▇▇▇▇▇▇\u001b[39m\u001b[0m 708                         \u001b[90m \u001b[39m \n   \u001b[0m\u001b[90m[\u001b[0m0.4\u001b[90m, \u001b[0m0.5\u001b[90m)\u001b[0m\u001b[90m ┤\u001b[39m\u001b[32m▇▇▇▇▇▇▇▇▇▇▇▇▇▇▇▇▇▇▇\u001b[39m\u001b[0m 1267                \u001b[90m \u001b[39m \n   \u001b[0m\u001b[90m[\u001b[0m0.5\u001b[90m, \u001b[0m0.6\u001b[90m)\u001b[0m\u001b[90m ┤\u001b[39m\u001b[32m▇▇▇▇▇▇▇▇▇▇▇▇▇▇▇▇▇▇▇▇▇▇▇▇▇▇▇▇▇\u001b[39m\u001b[0m 1966      \u001b[90m \u001b[39m \n   \u001b[0m\u001b[90m[\u001b[0m0.6\u001b[90m, \u001b[0m0.7\u001b[90m)\u001b[0m\u001b[90m ┤\u001b[39m\u001b[32m▇▇▇▇▇▇▇▇▇▇▇▇▇▇▇▇▇▇▇▇▇▇▇▇▇▇▇▇▇▇▇▇▇▇\u001b[39m\u001b[0m 2278 \u001b[90m \u001b[39m \n   \u001b[0m\u001b[90m[\u001b[0m0.7\u001b[90m, \u001b[0m0.8\u001b[90m)\u001b[0m\u001b[90m ┤\u001b[39m\u001b[32m▇▇▇▇▇▇▇▇▇▇▇▇▇▇▇▇▇▇▇▇▇▇▇▇▇▇▇▇▇▇\u001b[39m\u001b[0m 2021     \u001b[90m \u001b[39m \n   \u001b[0m\u001b[90m[\u001b[0m0.8\u001b[90m, \u001b[0m0.9\u001b[90m)\u001b[0m\u001b[90m ┤\u001b[39m\u001b[32m▇▇▇▇▇▇▇▇▇▇▇▇▇▇▇▇▇▇\u001b[39m\u001b[0m 1219                 \u001b[90m \u001b[39m \n   \u001b[0m\u001b[90m[\u001b[0m0.9\u001b[90m, \u001b[0m1.0\u001b[90m)\u001b[0m\u001b[90m ┤\u001b[39m\u001b[32m▇▇▇▇\u001b[39m\u001b[0m 272                                \u001b[90m \u001b[39m \n\u001b[90m              └                                        ┘\u001b[39m \n\u001b[0m                              Frequency"
     },
     "metadata": {},
     "execution_count": 9
    }
   ],
   "cell_type": "code",
   "source": [
    "UnicodePlots.histogram(weight_samples)"
   ],
   "metadata": {},
   "execution_count": 9
  },
  {
   "outputs": [],
   "cell_type": "markdown",
   "source": [
    "Observe that our belief about the weight has now changed.\n",
    "We are more convinced the coin is biased towards heads (`true`).#-\n",
    "*This notebook was generated using [Literate.jl](https://github.com/fredrikekre/Literate.jl).*"
   ],
   "metadata": {}
  }
 ],
 "nbformat_minor": 3,
 "metadata": {
  "language_info": {
   "file_extension": ".jl",
   "mimetype": "application/julia",
   "name": "julia",
   "version": "1.0.2"
  },
  "kernelspec": {
   "name": "julia-1.0",
   "display_name": "Julia 1.0.2",
   "language": "julia"
  }
 },
 "nbformat": 4
}
