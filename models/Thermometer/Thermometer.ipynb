{
 "cells": [
  {
   "cell_type": "markdown",
   "metadata": {},
   "source": [
    "\"Causal Modeling of time of day, ac, window, and thermometer\"\n",
    "module Thermometer"
   ]
  },
  {
   "cell_type": "code",
   "execution_count": 1,
   "metadata": {},
   "outputs": [
    {
     "name": "stderr",
     "output_type": "stream",
     "text": [
      "┌ Info: Recompiling stale cache file /home/zenna/.julia/compiled/v1.0/Omega/a1aeQ.ji for Omega [f05e9b56-6544-11e8-2dc8-1fe18f3ca5da]\n",
      "└ @ Base loading.jl:1190\n",
      "┌ Info: Recompiling stale cache file /home/zenna/.julia/compiled/v1.0/Plots/ld3vC.ji for Plots [91a5bcdd-55d7-5caf-9e0b-520d859cae80]\n",
      "└ @ Base loading.jl:1190\n"
     ]
    }
   ],
   "source": [
    "using Omega, Plots"
   ]
  },
  {
   "cell_type": "markdown",
   "metadata": {},
   "source": [
    "Create a model. Firstm a uniform distribution over the time of day"
   ]
  },
  {
   "cell_type": "code",
   "execution_count": 2,
   "metadata": {},
   "outputs": [
    {
     "data": {
      "text/plain": [
       "3:UniformChoice(Symbol[:morning, :afternoon, :evening])::Symbol"
      ]
     },
     "execution_count": 2,
     "metadata": {},
     "output_type": "execute_result"
    }
   ],
   "source": [
    "timeofday = uniform([:morning, :afternoon, :evening])"
   ]
  },
  {
   "cell_type": "markdown",
   "metadata": {},
   "source": [
    "The window is either open or not (with equal probability)"
   ]
  },
  {
   "cell_type": "code",
   "execution_count": 3,
   "metadata": {},
   "outputs": [
    {
     "data": {
      "text/plain": [
       "4:Bernoulli(0.5)::Bool"
      ]
     },
     "execution_count": 3,
     "metadata": {},
     "output_type": "execute_result"
    }
   ],
   "source": [
    "is_window_open = bernoulli(0.5, Bool)"
   ]
  },
  {
   "cell_type": "markdown",
   "metadata": {},
   "source": [
    "Turn off the a.c. when the window is closed!"
   ]
  },
  {
   "cell_type": "code",
   "execution_count": 4,
   "metadata": {},
   "outputs": [
    {
     "data": {
      "text/plain": [
       "7:getfield(Main, Symbol(\"##7#8\"))()()::Bool"
      ]
     },
     "execution_count": 4,
     "metadata": {},
     "output_type": "execute_result"
    }
   ],
   "source": [
    "const is_ac_on = ciid(rng -> is_window_open(rng[@id]) ? false : bernoulli(rng[@id], 0.5, Bool))"
   ]
  },
  {
   "cell_type": "markdown",
   "metadata": {},
   "source": [
    "The outside temperature is normally distributed with a mean depending on the time of day"
   ]
  },
  {
   "cell_type": "code",
   "execution_count": 5,
   "metadata": {},
   "outputs": [
    {
     "data": {
      "text/plain": [
       "12:outside_temp_()::Float64"
      ]
     },
     "execution_count": 5,
     "metadata": {},
     "output_type": "execute_result"
    }
   ],
   "source": [
    "function outside_temp_(rng)\n",
    "  tod = timeofday(rng[@id])\n",
    "  if tod == :morning\n",
    "    normal(rng[@id], 20.0, 2.0)\n",
    "  elseif tod == :afternoon\n",
    "    normal(rng[@id], 32.0, 2.0)\n",
    "  else\n",
    "    normal(rng[@id], 10.0, 2.0)\n",
    "  end\n",
    "end\n",
    "\n",
    "const outside_temp = ciid(outside_temp_)"
   ]
  },
  {
   "cell_type": "markdown",
   "metadata": {},
   "source": [
    "The inside temperature is normally distributed with a mean depending on whether the ac is on"
   ]
  },
  {
   "cell_type": "code",
   "execution_count": 6,
   "metadata": {},
   "outputs": [
    {
     "data": {
      "text/plain": [
       "16:inside_temp_()::Float64"
      ]
     },
     "execution_count": 6,
     "metadata": {},
     "output_type": "execute_result"
    }
   ],
   "source": [
    "function inside_temp_(rng)\n",
    "  if is_ac_on(rng[@id])\n",
    "    normal(rng[@id], 20.0, 2.0)\n",
    "  else\n",
    "    normal(rng[@id], 25.0, 2.0)\n",
    "  end\n",
    "end\n",
    "\n",
    "const inside_temp = ciid(inside_temp_)"
   ]
  },
  {
   "cell_type": "markdown",
   "metadata": {},
   "source": [
    "The room is a perfect insulator: when the window is closed its only the inside temperature that matters\n",
    "Otherwise, its the mean of the outside and inside temperatures"
   ]
  },
  {
   "cell_type": "code",
   "execution_count": 7,
   "metadata": {},
   "outputs": [
    {
     "data": {
      "text/plain": [
       "plotbar (generic function with 1 method)"
      ]
     },
     "execution_count": 7,
     "metadata": {},
     "output_type": "execute_result"
    }
   ],
   "source": [
    "function thermometer_(rng)\n",
    "  if is_window_open(rng)\n",
    "    (outside_temp(rng[@id]) + inside_temp(rng[@id])) / 2.0\n",
    "  else\n",
    "    inside_temp(rng[@id])\n",
    "  end\n",
    "end\n",
    "\n",
    "const thermometer = ciid(thermometer_)\n",
    "\n",
    "function plothist(samples; bins = 100, kwargs...)\n",
    "  Plots.histogram(samples;\n",
    "                  bins = bins,\n",
    "                  normalize = true,\n",
    "                  yticks = [],\n",
    "                  xtickfont= Plots.font(\"Helvetica\", 20),\n",
    "                  label = \"\",\n",
    "                  kwargs...)\n",
    "end\n",
    "\n",
    "function plotbar(scenarios)\n",
    "  counts(xs::Vector{T}) where T = (d = Dict{T, Int}(); foreach(x -> d[x] = get!(d, x, 0) + 1, xs); d)\n",
    "  seccounts = counts(scenarios)\n",
    "  Plots.bar(string.(collect((keys(seccounts)))), collect(values(seccounts)),\n",
    "            normalize=true)\n",
    "end"
   ]
  },
  {
   "cell_type": "markdown",
   "metadata": {},
   "source": [
    "Given the model, we can now define queries #"
   ]
  },
  {
   "cell_type": "code",
   "execution_count": null,
   "metadata": {},
   "outputs": [],
   "source": [
    "const allvars = (timeofday, is_window_open, is_ac_on, outside_temp, inside_temp, thermometer)\n",
    "\n",
    "priorsamples = rand(outside_temp, 10000, alg = RejectionSample)\n",
    "plothist(priorsamples)"
   ]
  },
  {
   "cell_type": "markdown",
   "metadata": {},
   "source": [
    "Conditional Inference: the thermometer reads hot. What does this tell you about outside temp?"
   ]
  },
  {
   "cell_type": "code",
   "execution_count": null,
   "metadata": {},
   "outputs": [],
   "source": [
    "priorsamplescond = rand(outside_temp, thermometer > 30.0, 10000, alg = RejectionSample)\n",
    "plothist(priorsamplescond)"
   ]
  },
  {
   "cell_type": "markdown",
   "metadata": {},
   "source": [
    "You intervene on thermometer to be hot,  What does this tell you about outside temp? (answer: nothing!)"
   ]
  },
  {
   "cell_type": "code",
   "execution_count": null,
   "metadata": {},
   "outputs": [],
   "source": [
    "outside_temp_do = replace(outside_temp, thermometer => 35.0)\n",
    "priorsamplesdo = rand(outside_temp_do, 10000, alg = RejectionSample)\n",
    "plothist(priorsamplesdo)"
   ]
  },
  {
   "cell_type": "markdown",
   "metadata": {},
   "source": [
    "Prior thermometer reading"
   ]
  },
  {
   "cell_type": "code",
   "execution_count": null,
   "metadata": {},
   "outputs": [],
   "source": [
    "thermopriorsamples = rand(thermometer, 100000, alg = RejectionSample)\n",
    "plothist(thermopriorsamples, bins = 100, xlim = (10, 40))"
   ]
  },
  {
   "cell_type": "markdown",
   "metadata": {},
   "source": [
    "If I were to close the window and turn on the AC would that make it hotter or colder"
   ]
  },
  {
   "cell_type": "code",
   "execution_count": null,
   "metadata": {},
   "outputs": [],
   "source": [
    "thermometernew = replace(thermometer, is_ac_on => true, is_window_open => false)\n",
    "diffs = rand(thermometernew - thermometer, 100000, alg = RejectionSample)\n",
    "plothist(diffs, bins = 100)"
   ]
  },
  {
   "cell_type": "markdown",
   "metadata": {},
   "source": [
    "In what scenarios would it still be hotter after turning on the AC and closing the window?"
   ]
  },
  {
   "cell_type": "code",
   "execution_count": null,
   "metadata": {},
   "outputs": [],
   "source": [
    "scenarios = rand(timeofday, thermometernew - thermometer > 0.0, 1000, alg = RejectionSample)\n",
    "plotbar(scenarios)"
   ]
  },
  {
   "cell_type": "markdown",
   "metadata": {},
   "source": [
    "What if we opened the window and turned the AC on (logical inconsistency w.r.t to original model)"
   ]
  },
  {
   "cell_type": "code",
   "execution_count": null,
   "metadata": {},
   "outputs": [],
   "source": [
    "thermometer_imposs = replace(thermometer, is_ac_on => true, is_window_open => true)\n",
    "samples_imposs = rand(thermometer_imposs, 100000, alg = RejectionSample)\n",
    "plothist(samples_imposs, bins = 100, xlim = (10, 40))"
   ]
  },
  {
   "cell_type": "markdown",
   "metadata": {},
   "source": [
    "savefig(\"dothermoimposs.svg\")"
   ]
  },
  {
   "cell_type": "code",
   "execution_count": null,
   "metadata": {},
   "outputs": [],
   "source": [
    "diffsamples_imposs = rand(thermometer_imposs - thermometer, 10000, alg = RejectionSample)\n",
    "plothist(diffsamples_imposs, bins = 100, xlim = :auto)\n",
    "mean(diffsamples_imposs)"
   ]
  },
  {
   "cell_type": "markdown",
   "metadata": {},
   "source": [
    "end#-\n",
    "*This notebook was generated using [Literate.jl](https://github.com/fredrikekre/Literate.jl).*"
   ]
  }
 ],
 "metadata": {
  "@webio": {
   "lastCommId": "402AA92DCBF0459486F78A50B60FDADF",
   "lastKernelId": "06026477-fbce-44df-99e4-7338eba1d175"
  },
  "kernelspec": {
   "display_name": "Julia 1.0.2",
   "language": "julia",
   "name": "julia-1.0"
  },
  "language_info": {
   "file_extension": ".jl",
   "mimetype": "application/julia",
   "name": "julia",
   "version": "1.0.2"
  }
 },
 "nbformat": 4,
 "nbformat_minor": 3
}
