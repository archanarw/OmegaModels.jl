{
 "cells": [
  {
   "cell_type": "code",
   "execution_count": 1,
   "metadata": {},
   "outputs": [
    {
     "data": {
      "text/plain": [
       "Main.##393.vizscene"
      ]
     },
     "execution_count": 1,
     "metadata": {},
     "output_type": "execute_result"
    }
   ],
   "source": [
    "using Omega\n",
    "using Omega.Inference: ReplicaAlg\n",
    "using Plots\n",
    "import Statistics\n",
    "using Random\n",
    "include(\"viz.jl\")"
   ]
  },
  {
   "cell_type": "markdown",
   "metadata": {},
   "source": [
    "Consider a projectile launched at an angle θ with initial velocity vo on a level plane\n",
    "We know the  equations of motion are:"
   ]
  },
  {
   "cell_type": "markdown",
   "metadata": {},
   "source": [
    "\\begin{equation}\n",
    "x(t) = v_0 \\cos \\theta t  \\;\\;\\;\\;\\;\\; \\\\\n",
    "y(t) = v_0 \\sin \\theta t - \\frac{1}{2}gt^2\n",
    "\\end{equation}"
   ]
  },
  {
   "cell_type": "markdown",
   "metadata": {},
   "source": [
    "Launch point and gravity are constants but we have uncertainty over velocity,"
   ]
  },
  {
   "cell_type": "code",
   "execution_count": 2,
   "metadata": {},
   "outputs": [
    {
     "data": {
      "text/plain": [
       "16559:Omega.reifyapply(+, 0.7853981633974483, Normal)::Float64"
      ]
     },
     "execution_count": 2,
     "metadata": {},
     "output_type": "execute_result"
    }
   ],
   "source": [
    "const v0 = normal(10, 1)\n",
    "const u0 = constant((0.0, 0.0))\n",
    "const g = constant(9.81)\n",
    "const θ = π/4 + normal(0, 1)"
   ]
  },
  {
   "cell_type": "markdown",
   "metadata": {},
   "source": [
    "We will simulate step by step, which preserves causal order"
   ]
  },
  {
   "cell_type": "code",
   "execution_count": 3,
   "metadata": {},
   "outputs": [
    {
     "data": {
      "text/plain": [
       "Main.##393.simulate"
      ]
     },
     "execution_count": 3,
     "metadata": {},
     "output_type": "execute_result"
    }
   ],
   "source": [
    "\"Simulate projectile motion for `nsteps` with `Δt`\"\n",
    "function simulate(u0, v0, θ, g; maxsteps = 10000, Δt = 0.01)\n",
    "  t = 0.0\n",
    "  series = [u0]\n",
    "  for i = 1:(maxsteps - 1)\n",
    "    x = v0 * t * cos(θ)\n",
    "    y = v0 * t * sin(θ) - 0.5 * g * t^2\n",
    "    if y < 0\n",
    "      break\n",
    "    end\n",
    "    push!(series, (x, y))\n",
    "    t += Δt\n",
    "  end\n",
    "  series\n",
    "end"
   ]
  },
  {
   "cell_type": "markdown",
   "metadata": {},
   "source": [
    "`series` is a random variable over position of the projectile"
   ]
  },
  {
   "cell_type": "code",
   "execution_count": 4,
   "metadata": {},
   "outputs": [
    {
     "data": {
      "text/plain": [
       "16560:Omega.reifyapply(Main.##393.simulate, getfield(Omega, Symbol(\"##1#2\")){Tuple{Float64,Float64}}((0.0, 0.0)), Normal, Omega.reifyapply, getfield(Omega, Symbol(\"##1#2\")){Float64}(9.81))::Array{Tuple{Float64,Float64},1}"
      ]
     },
     "execution_count": 4,
     "metadata": {},
     "output_type": "execute_result"
    }
   ],
   "source": [
    "const series = lift(simulate)(u0, v0, θ, g)"
   ]
  },
  {
   "cell_type": "markdown",
   "metadata": {},
   "source": [
    "### But-For causality\n",
    "Next we will add a (yellow) ball to the scene, which the projectile may or may not hit."
   ]
  },
  {
   "cell_type": "markdown",
   "metadata": {},
   "source": [
    "We assume a ball of constant radius and position"
   ]
  },
  {
   "cell_type": "code",
   "execution_count": 5,
   "metadata": {
    "collapsed": true
   },
   "outputs": [],
   "source": [
    "const ball_radius = constant(0.5)\n",
    "const ball_pos = constant((8.0, 0.25));"
   ]
  },
  {
   "cell_type": "markdown",
   "metadata": {},
   "source": [
    "We can simulate projectile samples from the prior"
   ]
  },
  {
   "cell_type": "code",
   "execution_count": 6,
   "metadata": {},
   "outputs": [
    {
     "data": {
      "image/png": "[encoded data removed]",
      "image/svg+xml": [
       "<?xml version=\"1.0\" encoding=\"utf-8\"?>\n",
       "<svg xmlns=\"http://www.w3.org/2000/svg\" xmlns:xlink=\"http://www.w3.org/1999/xlink\" width=\"600\" height=\"400\" viewBox=\"0 0 2400 1600\">\n",
       "<defs>\n",
       "  <clipPath id=\"clip0100\">\n",
       "    <rect x=\"0\" y=\"0\" width=\"2400\" height=\"1600\"/>\n",
       "  </clipPath>\n",
       "</defs>\n",
       "<polygon clip-path=\"url(#clip0100)\" points=\"\n",
       "0,1600 2400,1600 2400,0 0,0 \n",
       "  \" fill=\"#ffffff\" fill-rule=\"evenodd\" fill-opacity=\"1\"/>\n",
       "<defs>\n",
       "  <clipPath id=\"clip0101\">\n",
       "    <rect x=\"480\" y=\"0\" width=\"1681\" height=\"1600\"/>\n",
       "  </clipPath>\n",
       "</defs>\n",
       "<polygon clip-path=\"url(#clip0100)\" points=\"\n",
       "161.394,949.283 2321.26,949.283 2321.26,601.436 161.394,601.436 \n",
       "  \" fill=\"#ffffff\" fill-rule=\"evenodd\" fill-opacity=\"1\"/>\n",
       "<defs>\n",
       "  <clipPath id=\"clip0102\">\n",
       "    <rect x=\"161\" y=\"601\" width=\"2161\" height=\"349\"/>\n",
       "  </clipPath>\n",
       "</defs>\n",
       "<polyline clip-path=\"url(#clip0102)\" style=\"stroke:#000000; stroke-width:2; stroke-opacity:0.1; fill:none\" points=\"\n",
       "  334.716,949.283 334.716,601.436 \n",
       "  \"/>\n",
       "<polyline clip-path=\"url(#clip0102)\" style=\"stroke:#000000; stroke-width:2; stroke-opacity:0.1; fill:none\" points=\"\n",
       "  855.098,949.283 855.098,601.436 \n",
       "  \"/>\n",
       "<polyline clip-path=\"url(#clip0102)\" style=\"stroke:#000000; stroke-width:2; stroke-opacity:0.1; fill:none\" points=\"\n",
       "  1375.48,949.283 1375.48,601.436 \n",
       "  \"/>\n",
       "<polyline clip-path=\"url(#clip0102)\" style=\"stroke:#000000; stroke-width:2; stroke-opacity:0.1; fill:none\" points=\"\n",
       "  1895.86,949.283 1895.86,601.436 \n",
       "  \"/>\n",
       "<polyline clip-path=\"url(#clip0102)\" style=\"stroke:#000000; stroke-width:2; stroke-opacity:0.1; fill:none\" points=\"\n",
       "  161.394,913.425 2321.26,913.425 \n",
       "  \"/>\n",
       "<polyline clip-path=\"url(#clip0102)\" style=\"stroke:#000000; stroke-width:2; stroke-opacity:0.1; fill:none\" points=\"\n",
       "  161.394,861.387 2321.26,861.387 \n",
       "  \"/>\n",
       "<polyline clip-path=\"url(#clip0102)\" style=\"stroke:#000000; stroke-width:2; stroke-opacity:0.1; fill:none\" points=\"\n",
       "  161.394,809.349 2321.26,809.349 \n",
       "  \"/>\n",
       "<polyline clip-path=\"url(#clip0102)\" style=\"stroke:#000000; stroke-width:2; stroke-opacity:0.1; fill:none\" points=\"\n",
       "  161.394,757.31 2321.26,757.31 \n",
       "  \"/>\n",
       "<polyline clip-path=\"url(#clip0102)\" style=\"stroke:#000000; stroke-width:2; stroke-opacity:0.1; fill:none\" points=\"\n",
       "  161.394,705.272 2321.26,705.272 \n",
       "  \"/>\n",
       "<polyline clip-path=\"url(#clip0102)\" style=\"stroke:#000000; stroke-width:2; stroke-opacity:0.1; fill:none\" points=\"\n",
       "  161.394,653.234 2321.26,653.234 \n",
       "  \"/>\n",
       "<polyline clip-path=\"url(#clip0100)\" style=\"stroke:#000000; stroke-width:4; stroke-opacity:1; fill:none\" points=\"\n",
       "  161.394,949.283 2321.26,949.283 \n",
       "  \"/>\n",
       "<polyline clip-path=\"url(#clip0100)\" style=\"stroke:#000000; stroke-width:4; stroke-opacity:1; fill:none\" points=\"\n",
       "  161.394,949.283 161.394,601.436 \n",
       "  \"/>\n",
       "<polyline clip-path=\"url(#clip0100)\" style=\"stroke:#000000; stroke-width:4; stroke-opacity:1; fill:none\" points=\"\n",
       "  334.716,949.283 334.716,944.065 \n",
       "  \"/>\n",
       "<polyline clip-path=\"url(#clip0100)\" style=\"stroke:#000000; stroke-width:4; stroke-opacity:1; fill:none\" points=\"\n",
       "  855.098,949.283 855.098,944.065 \n",
       "  \"/>\n",
       "<polyline clip-path=\"url(#clip0100)\" style=\"stroke:#000000; stroke-width:4; stroke-opacity:1; fill:none\" points=\"\n",
       "  1375.48,949.283 1375.48,944.065 \n",
       "  \"/>\n",
       "<polyline clip-path=\"url(#clip0100)\" style=\"stroke:#000000; stroke-width:4; stroke-opacity:1; fill:none\" points=\"\n",
       "  1895.86,949.283 1895.86,944.065 \n",
       "  \"/>\n",
       "<polyline clip-path=\"url(#clip0100)\" style=\"stroke:#000000; stroke-width:4; stroke-opacity:1; fill:none\" points=\"\n",
       "  161.394,913.425 193.792,913.425 \n",
       "  \"/>\n",
       "<polyline clip-path=\"url(#clip0100)\" style=\"stroke:#000000; stroke-width:4; stroke-opacity:1; fill:none\" points=\"\n",
       "  161.394,861.387 193.792,861.387 \n",
       "  \"/>\n",
       "<polyline clip-path=\"url(#clip0100)\" style=\"stroke:#000000; stroke-width:4; stroke-opacity:1; fill:none\" points=\"\n",
       "  161.394,809.349 193.792,809.349 \n",
       "  \"/>\n",
       "<polyline clip-path=\"url(#clip0100)\" style=\"stroke:#000000; stroke-width:4; stroke-opacity:1; fill:none\" points=\"\n",
       "  161.394,757.31 193.792,757.31 \n",
       "  \"/>\n",
       "<polyline clip-path=\"url(#clip0100)\" style=\"stroke:#000000; stroke-width:4; stroke-opacity:1; fill:none\" points=\"\n",
       "  161.394,705.272 193.792,705.272 \n",
       "  \"/>\n",
       "<polyline clip-path=\"url(#clip0100)\" style=\"stroke:#000000; stroke-width:4; stroke-opacity:1; fill:none\" points=\"\n",
       "  161.394,653.234 193.792,653.234 \n",
       "  \"/>\n",
       "<g clip-path=\"url(#clip0100)\">\n",
       "<text style=\"fill:#000000; fill-opacity:1; font-family:Arial,Helvetica Neue,Helvetica,sans-serif; font-size:48px; text-anchor:middle;\" transform=\"rotate(0, 334.716, 1003.28)\" x=\"334.716\" y=\"1003.28\">-10</text>\n",
       "</g>\n",
       "<g clip-path=\"url(#clip0100)\">\n",
       "<text style=\"fill:#000000; fill-opacity:1; font-family:Arial,Helvetica Neue,Helvetica,sans-serif; font-size:48px; text-anchor:middle;\" transform=\"rotate(0, 855.098, 1003.28)\" x=\"855.098\" y=\"1003.28\">-5</text>\n",
       "</g>\n",
       "<g clip-path=\"url(#clip0100)\">\n",
       "<text style=\"fill:#000000; fill-opacity:1; font-family:Arial,Helvetica Neue,Helvetica,sans-serif; font-size:48px; text-anchor:middle;\" transform=\"rotate(0, 1375.48, 1003.28)\" x=\"1375.48\" y=\"1003.28\">0</text>\n",
       "</g>\n",
       "<g clip-path=\"url(#clip0100)\">\n",
       "<text style=\"fill:#000000; fill-opacity:1; font-family:Arial,Helvetica Neue,Helvetica,sans-serif; font-size:48px; text-anchor:middle;\" transform=\"rotate(0, 1895.86, 1003.28)\" x=\"1895.86\" y=\"1003.28\">5</text>\n",
       "</g>\n",
       "<g clip-path=\"url(#clip0100)\">\n",
       "<text style=\"fill:#000000; fill-opacity:1; font-family:Arial,Helvetica Neue,Helvetica,sans-serif; font-size:48px; text-anchor:end;\" transform=\"rotate(0, 137.394, 930.925)\" x=\"137.394\" y=\"930.925\">0.0</text>\n",
       "</g>\n",
       "<g clip-path=\"url(#clip0100)\">\n",
       "<text style=\"fill:#000000; fill-opacity:1; font-family:Arial,Helvetica Neue,Helvetica,sans-serif; font-size:48px; text-anchor:end;\" transform=\"rotate(0, 137.394, 878.887)\" x=\"137.394\" y=\"878.887\">0.5</text>\n",
       "</g>\n",
       "<g clip-path=\"url(#clip0100)\">\n",
       "<text style=\"fill:#000000; fill-opacity:1; font-family:Arial,Helvetica Neue,Helvetica,sans-serif; font-size:48px; text-anchor:end;\" transform=\"rotate(0, 137.394, 826.849)\" x=\"137.394\" y=\"826.849\">1.0</text>\n",
       "</g>\n",
       "<g clip-path=\"url(#clip0100)\">\n",
       "<text style=\"fill:#000000; fill-opacity:1; font-family:Arial,Helvetica Neue,Helvetica,sans-serif; font-size:48px; text-anchor:end;\" transform=\"rotate(0, 137.394, 774.81)\" x=\"137.394\" y=\"774.81\">1.5</text>\n",
       "</g>\n",
       "<g clip-path=\"url(#clip0100)\">\n",
       "<text style=\"fill:#000000; fill-opacity:1; font-family:Arial,Helvetica Neue,Helvetica,sans-serif; font-size:48px; text-anchor:end;\" transform=\"rotate(0, 137.394, 722.772)\" x=\"137.394\" y=\"722.772\">2.0</text>\n",
       "</g>\n",
       "<g clip-path=\"url(#clip0100)\">\n",
       "<text style=\"fill:#000000; fill-opacity:1; font-family:Arial,Helvetica Neue,Helvetica,sans-serif; font-size:48px; text-anchor:end;\" transform=\"rotate(0, 137.394, 670.734)\" x=\"137.394\" y=\"670.734\">2.5</text>\n",
       "</g>\n",
       "<polyline clip-path=\"url(#clip0102)\" style=\"stroke:#009af9; stroke-width:4; stroke-opacity:1; fill:none\" points=\"\n",
       "  1375.48,913.425 1375.48,913.425 1367.95,905.622 1360.41,897.92 1352.87,890.32 1345.34,882.823 1337.8,875.428 1330.27,868.134 1322.73,860.943 1315.2,853.854 \n",
       "  1307.66,846.867 1300.12,839.983 1292.59,833.2 1285.05,826.519 1277.52,819.941 1269.98,813.464 1262.45,807.09 1254.91,800.818 1247.37,794.648 1239.84,788.58 \n",
       "  1232.3,782.614 1224.77,776.75 1217.23,770.988 1209.7,765.328 1202.16,759.771 1194.62,754.315 1187.09,748.962 1179.55,743.711 1172.02,738.562 1164.48,733.515 \n",
       "  1156.95,728.57 1149.41,723.727 1141.88,718.986 1134.34,714.347 1126.8,709.811 1119.27,705.376 1111.73,701.044 1104.2,696.814 1096.66,692.686 1089.13,688.66 \n",
       "  1081.59,684.736 1074.05,680.914 1066.52,677.194 1058.98,673.576 1051.45,670.061 1043.91,666.647 1036.38,663.336 1028.84,660.127 1021.3,657.02 1013.77,654.015 \n",
       "  1006.23,651.112 998.697,648.311 991.161,645.612 983.626,643.015 976.09,640.521 968.554,638.128 961.019,635.838 953.483,633.65 945.947,631.564 938.412,629.579 \n",
       "  930.876,627.697 923.34,625.918 915.805,624.24 908.269,622.664 900.733,621.191 893.198,619.819 885.662,618.55 878.126,617.382 870.591,616.317 863.055,615.354 \n",
       "  855.519,614.493 847.984,613.734 840.448,613.078 832.912,612.523 825.377,612.07 817.841,611.72 810.305,611.471 802.77,611.325 795.234,611.281 787.698,611.339 \n",
       "  780.162,611.499 772.627,611.761 765.091,612.125 757.555,612.591 750.02,613.16 742.484,613.83 734.948,614.603 727.413,615.478 719.877,616.455 712.341,617.533 \n",
       "  704.806,618.714 697.27,619.998 689.734,621.383 682.199,622.87 674.663,624.459 667.127,626.151 659.592,627.945 652.056,629.84 644.52,631.838 636.985,633.938 \n",
       "  629.449,636.14 621.913,638.444 614.378,640.85 606.842,643.358 599.306,645.969 591.771,648.681 584.235,651.496 576.699,654.413 569.164,657.431 561.628,660.552 \n",
       "  554.092,663.775 546.556,667.1 539.021,670.528 531.485,674.057 523.949,677.688 516.414,681.422 508.878,685.257 501.342,689.195 493.807,693.235 486.271,697.377 \n",
       "  478.735,701.621 471.2,705.967 463.664,710.415 456.128,714.965 448.593,719.617 441.057,724.372 433.521,729.228 425.986,734.187 418.45,739.248 410.914,744.411 \n",
       "  403.379,749.676 395.843,755.043 388.307,760.512 380.772,766.083 373.236,771.757 365.7,777.532 358.165,783.41 350.629,789.389 343.093,795.471 335.557,801.655 \n",
       "  328.022,807.941 320.486,814.329 312.95,820.819 305.415,827.411 297.879,834.106 290.343,840.902 282.808,847.801 275.272,854.801 267.736,861.904 260.201,869.109 \n",
       "  252.665,876.416 245.129,883.825 237.594,891.336 230.058,898.949 222.522,906.665 \n",
       "  \"/>\n",
       "<polygon clip-path=\"url(#clip0102)\" points=\"\n",
       "2260.13,887.406 2260.03,884.106 2259.71,880.819 2259.19,877.558 2258.46,874.337 2257.53,871.168 2256.4,868.065 2255.08,865.04 2253.57,862.105 2251.87,859.272 \n",
       "  2250,856.552 2247.96,853.957 2245.76,851.496 2243.4,849.179 2240.91,847.017 2238.28,845.017 2235.53,843.188 2232.67,841.537 2229.71,840.07 2226.67,838.795 \n",
       "  2223.54,837.715 2220.36,836.835 2217.13,836.158 2213.86,835.689 2210.57,835.427 2207.27,835.374 2203.97,835.532 2200.69,835.898 2197.44,836.471 2194.23,837.249 \n",
       "  2191.07,838.23 2187.99,839.408 2184.98,840.78 2182.07,842.34 2179.27,844.081 2176.58,845.996 2174.02,848.078 2171.59,850.319 2169.31,852.709 2167.19,855.238 \n",
       "  2165.23,857.897 2163.45,860.675 2161.84,863.561 2160.42,866.542 2159.19,869.608 2158.16,872.745 2157.33,875.942 2156.71,879.184 2156.29,882.46 2156.08,885.755 \n",
       "  2156.08,889.057 2156.29,892.353 2156.71,895.628 2157.33,898.871 2158.16,902.067 2159.19,905.204 2160.42,908.27 2161.84,911.251 2163.45,914.137 2165.23,916.915 \n",
       "  2167.19,919.574 2169.31,922.104 2171.59,924.494 2174.02,926.734 2176.58,928.816 2179.27,930.732 2182.07,932.473 2184.98,934.032 2187.99,935.404 2191.07,936.582 \n",
       "  2194.23,937.563 2197.44,938.341 2200.69,938.915 2203.97,939.281 2207.27,939.438 2210.57,939.385 2213.86,939.124 2217.13,938.654 2220.36,937.978 2223.54,937.098 \n",
       "  2226.67,936.018 2229.71,934.742 2232.67,933.275 2235.53,931.624 2238.28,929.795 2240.91,927.795 2243.4,925.633 2245.76,923.317 2247.96,920.856 2250,918.26 \n",
       "  2251.87,915.54 2253.57,912.707 2255.08,909.772 2256.4,906.747 2257.53,903.644 2258.46,900.475 2259.19,897.254 2259.71,893.994 2260.03,890.707 2260.13,887.406 \n",
       "  2260.13,887.406 \n",
       "  \" fill=\"#ffff00\" fill-rule=\"evenodd\" fill-opacity=\"1\"/>\n",
       "<polyline clip-path=\"url(#clip0102)\" style=\"stroke:#000000; stroke-width:4; stroke-opacity:1; fill:none\" points=\"\n",
       "  2260.13,887.406 2260.03,884.106 2259.71,880.819 2259.19,877.558 2258.46,874.337 2257.53,871.168 2256.4,868.065 2255.08,865.04 2253.57,862.105 2251.87,859.272 \n",
       "  2250,856.552 2247.96,853.957 2245.76,851.496 2243.4,849.179 2240.91,847.017 2238.28,845.017 2235.53,843.188 2232.67,841.537 2229.71,840.07 2226.67,838.795 \n",
       "  2223.54,837.715 2220.36,836.835 2217.13,836.158 2213.86,835.689 2210.57,835.427 2207.27,835.374 2203.97,835.532 2200.69,835.898 2197.44,836.471 2194.23,837.249 \n",
       "  2191.07,838.23 2187.99,839.408 2184.98,840.78 2182.07,842.34 2179.27,844.081 2176.58,845.996 2174.02,848.078 2171.59,850.319 2169.31,852.709 2167.19,855.238 \n",
       "  2165.23,857.897 2163.45,860.675 2161.84,863.561 2160.42,866.542 2159.19,869.608 2158.16,872.745 2157.33,875.942 2156.71,879.184 2156.29,882.46 2156.08,885.755 \n",
       "  2156.08,889.057 2156.29,892.353 2156.71,895.628 2157.33,898.871 2158.16,902.067 2159.19,905.204 2160.42,908.27 2161.84,911.251 2163.45,914.137 2165.23,916.915 \n",
       "  2167.19,919.574 2169.31,922.104 2171.59,924.494 2174.02,926.734 2176.58,928.816 2179.27,930.732 2182.07,932.473 2184.98,934.032 2187.99,935.404 2191.07,936.582 \n",
       "  2194.23,937.563 2197.44,938.341 2200.69,938.915 2203.97,939.281 2207.27,939.438 2210.57,939.385 2213.86,939.124 2217.13,938.654 2220.36,937.978 2223.54,937.098 \n",
       "  2226.67,936.018 2229.71,934.742 2232.67,933.275 2235.53,931.624 2238.28,929.795 2240.91,927.795 2243.4,925.633 2245.76,923.317 2247.96,920.856 2250,918.26 \n",
       "  2251.87,915.54 2253.57,912.707 2255.08,909.772 2256.4,906.747 2257.53,903.644 2258.46,900.475 2259.19,897.254 2259.71,893.994 2260.03,890.707 2260.13,887.406 \n",
       "  2260.13,887.406 \n",
       "  \"/>\n",
       "</svg>\n"
      ],
      "text/html": [
       "<?xml version=\"1.0\" encoding=\"utf-8\"?>\n",
       "<svg xmlns=\"http://www.w3.org/2000/svg\" xmlns:xlink=\"http://www.w3.org/1999/xlink\" width=\"600\" height=\"400\" viewBox=\"0 0 2400 1600\">\n",
       "<defs>\n",
       "  <clipPath id=\"clip0400\">\n",
       "    <rect x=\"0\" y=\"0\" width=\"2400\" height=\"1600\"/>\n",
       "  </clipPath>\n",
       "</defs>\n",
       "<polygon clip-path=\"url(#clip0400)\" points=\"\n",
       "0,1600 2400,1600 2400,0 0,0 \n",
       "  \" fill=\"#ffffff\" fill-rule=\"evenodd\" fill-opacity=\"1\"/>\n",
       "<defs>\n",
       "  <clipPath id=\"clip0401\">\n",
       "    <rect x=\"480\" y=\"0\" width=\"1681\" height=\"1600\"/>\n",
       "  </clipPath>\n",
       "</defs>\n",
       "<polygon clip-path=\"url(#clip0400)\" points=\"\n",
       "161.394,949.283 2321.26,949.283 2321.26,601.436 161.394,601.436 \n",
       "  \" fill=\"#ffffff\" fill-rule=\"evenodd\" fill-opacity=\"1\"/>\n",
       "<defs>\n",
       "  <clipPath id=\"clip0402\">\n",
       "    <rect x=\"161\" y=\"601\" width=\"2161\" height=\"349\"/>\n",
       "  </clipPath>\n",
       "</defs>\n",
       "<polyline clip-path=\"url(#clip0402)\" style=\"stroke:#000000; stroke-width:2; stroke-opacity:0.1; fill:none\" points=\"\n",
       "  334.716,949.283 334.716,601.436 \n",
       "  \"/>\n",
       "<polyline clip-path=\"url(#clip0402)\" style=\"stroke:#000000; stroke-width:2; stroke-opacity:0.1; fill:none\" points=\"\n",
       "  855.098,949.283 855.098,601.436 \n",
       "  \"/>\n",
       "<polyline clip-path=\"url(#clip0402)\" style=\"stroke:#000000; stroke-width:2; stroke-opacity:0.1; fill:none\" points=\"\n",
       "  1375.48,949.283 1375.48,601.436 \n",
       "  \"/>\n",
       "<polyline clip-path=\"url(#clip0402)\" style=\"stroke:#000000; stroke-width:2; stroke-opacity:0.1; fill:none\" points=\"\n",
       "  1895.86,949.283 1895.86,601.436 \n",
       "  \"/>\n",
       "<polyline clip-path=\"url(#clip0402)\" style=\"stroke:#000000; stroke-width:2; stroke-opacity:0.1; fill:none\" points=\"\n",
       "  161.394,913.425 2321.26,913.425 \n",
       "  \"/>\n",
       "<polyline clip-path=\"url(#clip0402)\" style=\"stroke:#000000; stroke-width:2; stroke-opacity:0.1; fill:none\" points=\"\n",
       "  161.394,861.387 2321.26,861.387 \n",
       "  \"/>\n",
       "<polyline clip-path=\"url(#clip0402)\" style=\"stroke:#000000; stroke-width:2; stroke-opacity:0.1; fill:none\" points=\"\n",
       "  161.394,809.349 2321.26,809.349 \n",
       "  \"/>\n",
       "<polyline clip-path=\"url(#clip0402)\" style=\"stroke:#000000; stroke-width:2; stroke-opacity:0.1; fill:none\" points=\"\n",
       "  161.394,757.31 2321.26,757.31 \n",
       "  \"/>\n",
       "<polyline clip-path=\"url(#clip0402)\" style=\"stroke:#000000; stroke-width:2; stroke-opacity:0.1; fill:none\" points=\"\n",
       "  161.394,705.272 2321.26,705.272 \n",
       "  \"/>\n",
       "<polyline clip-path=\"url(#clip0402)\" style=\"stroke:#000000; stroke-width:2; stroke-opacity:0.1; fill:none\" points=\"\n",
       "  161.394,653.234 2321.26,653.234 \n",
       "  \"/>\n",
       "<polyline clip-path=\"url(#clip0400)\" style=\"stroke:#000000; stroke-width:4; stroke-opacity:1; fill:none\" points=\"\n",
       "  161.394,949.283 2321.26,949.283 \n",
       "  \"/>\n",
       "<polyline clip-path=\"url(#clip0400)\" style=\"stroke:#000000; stroke-width:4; stroke-opacity:1; fill:none\" points=\"\n",
       "  161.394,949.283 161.394,601.436 \n",
       "  \"/>\n",
       "<polyline clip-path=\"url(#clip0400)\" style=\"stroke:#000000; stroke-width:4; stroke-opacity:1; fill:none\" points=\"\n",
       "  334.716,949.283 334.716,944.065 \n",
       "  \"/>\n",
       "<polyline clip-path=\"url(#clip0400)\" style=\"stroke:#000000; stroke-width:4; stroke-opacity:1; fill:none\" points=\"\n",
       "  855.098,949.283 855.098,944.065 \n",
       "  \"/>\n",
       "<polyline clip-path=\"url(#clip0400)\" style=\"stroke:#000000; stroke-width:4; stroke-opacity:1; fill:none\" points=\"\n",
       "  1375.48,949.283 1375.48,944.065 \n",
       "  \"/>\n",
       "<polyline clip-path=\"url(#clip0400)\" style=\"stroke:#000000; stroke-width:4; stroke-opacity:1; fill:none\" points=\"\n",
       "  1895.86,949.283 1895.86,944.065 \n",
       "  \"/>\n",
       "<polyline clip-path=\"url(#clip0400)\" style=\"stroke:#000000; stroke-width:4; stroke-opacity:1; fill:none\" points=\"\n",
       "  161.394,913.425 193.792,913.425 \n",
       "  \"/>\n",
       "<polyline clip-path=\"url(#clip0400)\" style=\"stroke:#000000; stroke-width:4; stroke-opacity:1; fill:none\" points=\"\n",
       "  161.394,861.387 193.792,861.387 \n",
       "  \"/>\n",
       "<polyline clip-path=\"url(#clip0400)\" style=\"stroke:#000000; stroke-width:4; stroke-opacity:1; fill:none\" points=\"\n",
       "  161.394,809.349 193.792,809.349 \n",
       "  \"/>\n",
       "<polyline clip-path=\"url(#clip0400)\" style=\"stroke:#000000; stroke-width:4; stroke-opacity:1; fill:none\" points=\"\n",
       "  161.394,757.31 193.792,757.31 \n",
       "  \"/>\n",
       "<polyline clip-path=\"url(#clip0400)\" style=\"stroke:#000000; stroke-width:4; stroke-opacity:1; fill:none\" points=\"\n",
       "  161.394,705.272 193.792,705.272 \n",
       "  \"/>\n",
       "<polyline clip-path=\"url(#clip0400)\" style=\"stroke:#000000; stroke-width:4; stroke-opacity:1; fill:none\" points=\"\n",
       "  161.394,653.234 193.792,653.234 \n",
       "  \"/>\n",
       "<g clip-path=\"url(#clip0400)\">\n",
       "<text style=\"fill:#000000; fill-opacity:1; font-family:Arial,Helvetica Neue,Helvetica,sans-serif; font-size:48px; text-anchor:middle;\" transform=\"rotate(0, 334.716, 1003.28)\" x=\"334.716\" y=\"1003.28\">-10</text>\n",
       "</g>\n",
       "<g clip-path=\"url(#clip0400)\">\n",
       "<text style=\"fill:#000000; fill-opacity:1; font-family:Arial,Helvetica Neue,Helvetica,sans-serif; font-size:48px; text-anchor:middle;\" transform=\"rotate(0, 855.098, 1003.28)\" x=\"855.098\" y=\"1003.28\">-5</text>\n",
       "</g>\n",
       "<g clip-path=\"url(#clip0400)\">\n",
       "<text style=\"fill:#000000; fill-opacity:1; font-family:Arial,Helvetica Neue,Helvetica,sans-serif; font-size:48px; text-anchor:middle;\" transform=\"rotate(0, 1375.48, 1003.28)\" x=\"1375.48\" y=\"1003.28\">0</text>\n",
       "</g>\n",
       "<g clip-path=\"url(#clip0400)\">\n",
       "<text style=\"fill:#000000; fill-opacity:1; font-family:Arial,Helvetica Neue,Helvetica,sans-serif; font-size:48px; text-anchor:middle;\" transform=\"rotate(0, 1895.86, 1003.28)\" x=\"1895.86\" y=\"1003.28\">5</text>\n",
       "</g>\n",
       "<g clip-path=\"url(#clip0400)\">\n",
       "<text style=\"fill:#000000; fill-opacity:1; font-family:Arial,Helvetica Neue,Helvetica,sans-serif; font-size:48px; text-anchor:end;\" transform=\"rotate(0, 137.394, 930.925)\" x=\"137.394\" y=\"930.925\">0.0</text>\n",
       "</g>\n",
       "<g clip-path=\"url(#clip0400)\">\n",
       "<text style=\"fill:#000000; fill-opacity:1; font-family:Arial,Helvetica Neue,Helvetica,sans-serif; font-size:48px; text-anchor:end;\" transform=\"rotate(0, 137.394, 878.887)\" x=\"137.394\" y=\"878.887\">0.5</text>\n",
       "</g>\n",
       "<g clip-path=\"url(#clip0400)\">\n",
       "<text style=\"fill:#000000; fill-opacity:1; font-family:Arial,Helvetica Neue,Helvetica,sans-serif; font-size:48px; text-anchor:end;\" transform=\"rotate(0, 137.394, 826.849)\" x=\"137.394\" y=\"826.849\">1.0</text>\n",
       "</g>\n",
       "<g clip-path=\"url(#clip0400)\">\n",
       "<text style=\"fill:#000000; fill-opacity:1; font-family:Arial,Helvetica Neue,Helvetica,sans-serif; font-size:48px; text-anchor:end;\" transform=\"rotate(0, 137.394, 774.81)\" x=\"137.394\" y=\"774.81\">1.5</text>\n",
       "</g>\n",
       "<g clip-path=\"url(#clip0400)\">\n",
       "<text style=\"fill:#000000; fill-opacity:1; font-family:Arial,Helvetica Neue,Helvetica,sans-serif; font-size:48px; text-anchor:end;\" transform=\"rotate(0, 137.394, 722.772)\" x=\"137.394\" y=\"722.772\">2.0</text>\n",
       "</g>\n",
       "<g clip-path=\"url(#clip0400)\">\n",
       "<text style=\"fill:#000000; fill-opacity:1; font-family:Arial,Helvetica Neue,Helvetica,sans-serif; font-size:48px; text-anchor:end;\" transform=\"rotate(0, 137.394, 670.734)\" x=\"137.394\" y=\"670.734\">2.5</text>\n",
       "</g>\n",
       "<polyline clip-path=\"url(#clip0402)\" style=\"stroke:#009af9; stroke-width:4; stroke-opacity:1; fill:none\" points=\"\n",
       "  1375.48,913.425 1375.48,913.425 1367.95,905.622 1360.41,897.92 1352.87,890.32 1345.34,882.823 1337.8,875.428 1330.27,868.134 1322.73,860.943 1315.2,853.854 \n",
       "  1307.66,846.867 1300.12,839.983 1292.59,833.2 1285.05,826.519 1277.52,819.941 1269.98,813.464 1262.45,807.09 1254.91,800.818 1247.37,794.648 1239.84,788.58 \n",
       "  1232.3,782.614 1224.77,776.75 1217.23,770.988 1209.7,765.328 1202.16,759.771 1194.62,754.315 1187.09,748.962 1179.55,743.711 1172.02,738.562 1164.48,733.515 \n",
       "  1156.95,728.57 1149.41,723.727 1141.88,718.986 1134.34,714.347 1126.8,709.811 1119.27,705.376 1111.73,701.044 1104.2,696.814 1096.66,692.686 1089.13,688.66 \n",
       "  1081.59,684.736 1074.05,680.914 1066.52,677.194 1058.98,673.576 1051.45,670.061 1043.91,666.647 1036.38,663.336 1028.84,660.127 1021.3,657.02 1013.77,654.015 \n",
       "  1006.23,651.112 998.697,648.311 991.161,645.612 983.626,643.015 976.09,640.521 968.554,638.128 961.019,635.838 953.483,633.65 945.947,631.564 938.412,629.579 \n",
       "  930.876,627.697 923.34,625.918 915.805,624.24 908.269,622.664 900.733,621.191 893.198,619.819 885.662,618.55 878.126,617.382 870.591,616.317 863.055,615.354 \n",
       "  855.519,614.493 847.984,613.734 840.448,613.078 832.912,612.523 825.377,612.07 817.841,611.72 810.305,611.471 802.77,611.325 795.234,611.281 787.698,611.339 \n",
       "  780.162,611.499 772.627,611.761 765.091,612.125 757.555,612.591 750.02,613.16 742.484,613.83 734.948,614.603 727.413,615.478 719.877,616.455 712.341,617.533 \n",
       "  704.806,618.714 697.27,619.998 689.734,621.383 682.199,622.87 674.663,624.459 667.127,626.151 659.592,627.945 652.056,629.84 644.52,631.838 636.985,633.938 \n",
       "  629.449,636.14 621.913,638.444 614.378,640.85 606.842,643.358 599.306,645.969 591.771,648.681 584.235,651.496 576.699,654.413 569.164,657.431 561.628,660.552 \n",
       "  554.092,663.775 546.556,667.1 539.021,670.528 531.485,674.057 523.949,677.688 516.414,681.422 508.878,685.257 501.342,689.195 493.807,693.235 486.271,697.377 \n",
       "  478.735,701.621 471.2,705.967 463.664,710.415 456.128,714.965 448.593,719.617 441.057,724.372 433.521,729.228 425.986,734.187 418.45,739.248 410.914,744.411 \n",
       "  403.379,749.676 395.843,755.043 388.307,760.512 380.772,766.083 373.236,771.757 365.7,777.532 358.165,783.41 350.629,789.389 343.093,795.471 335.557,801.655 \n",
       "  328.022,807.941 320.486,814.329 312.95,820.819 305.415,827.411 297.879,834.106 290.343,840.902 282.808,847.801 275.272,854.801 267.736,861.904 260.201,869.109 \n",
       "  252.665,876.416 245.129,883.825 237.594,891.336 230.058,898.949 222.522,906.665 \n",
       "  \"/>\n",
       "<polygon clip-path=\"url(#clip0402)\" points=\"\n",
       "2260.13,887.406 2260.03,884.106 2259.71,880.819 2259.19,877.558 2258.46,874.337 2257.53,871.168 2256.4,868.065 2255.08,865.04 2253.57,862.105 2251.87,859.272 \n",
       "  2250,856.552 2247.96,853.957 2245.76,851.496 2243.4,849.179 2240.91,847.017 2238.28,845.017 2235.53,843.188 2232.67,841.537 2229.71,840.07 2226.67,838.795 \n",
       "  2223.54,837.715 2220.36,836.835 2217.13,836.158 2213.86,835.689 2210.57,835.427 2207.27,835.374 2203.97,835.532 2200.69,835.898 2197.44,836.471 2194.23,837.249 \n",
       "  2191.07,838.23 2187.99,839.408 2184.98,840.78 2182.07,842.34 2179.27,844.081 2176.58,845.996 2174.02,848.078 2171.59,850.319 2169.31,852.709 2167.19,855.238 \n",
       "  2165.23,857.897 2163.45,860.675 2161.84,863.561 2160.42,866.542 2159.19,869.608 2158.16,872.745 2157.33,875.942 2156.71,879.184 2156.29,882.46 2156.08,885.755 \n",
       "  2156.08,889.057 2156.29,892.353 2156.71,895.628 2157.33,898.871 2158.16,902.067 2159.19,905.204 2160.42,908.27 2161.84,911.251 2163.45,914.137 2165.23,916.915 \n",
       "  2167.19,919.574 2169.31,922.104 2171.59,924.494 2174.02,926.734 2176.58,928.816 2179.27,930.732 2182.07,932.473 2184.98,934.032 2187.99,935.404 2191.07,936.582 \n",
       "  2194.23,937.563 2197.44,938.341 2200.69,938.915 2203.97,939.281 2207.27,939.438 2210.57,939.385 2213.86,939.124 2217.13,938.654 2220.36,937.978 2223.54,937.098 \n",
       "  2226.67,936.018 2229.71,934.742 2232.67,933.275 2235.53,931.624 2238.28,929.795 2240.91,927.795 2243.4,925.633 2245.76,923.317 2247.96,920.856 2250,918.26 \n",
       "  2251.87,915.54 2253.57,912.707 2255.08,909.772 2256.4,906.747 2257.53,903.644 2258.46,900.475 2259.19,897.254 2259.71,893.994 2260.03,890.707 2260.13,887.406 \n",
       "  2260.13,887.406 \n",
       "  \" fill=\"#ffff00\" fill-rule=\"evenodd\" fill-opacity=\"1\"/>\n",
       "<polyline clip-path=\"url(#clip0402)\" style=\"stroke:#000000; stroke-width:4; stroke-opacity:1; fill:none\" points=\"\n",
       "  2260.13,887.406 2260.03,884.106 2259.71,880.819 2259.19,877.558 2258.46,874.337 2257.53,871.168 2256.4,868.065 2255.08,865.04 2253.57,862.105 2251.87,859.272 \n",
       "  2250,856.552 2247.96,853.957 2245.76,851.496 2243.4,849.179 2240.91,847.017 2238.28,845.017 2235.53,843.188 2232.67,841.537 2229.71,840.07 2226.67,838.795 \n",
       "  2223.54,837.715 2220.36,836.835 2217.13,836.158 2213.86,835.689 2210.57,835.427 2207.27,835.374 2203.97,835.532 2200.69,835.898 2197.44,836.471 2194.23,837.249 \n",
       "  2191.07,838.23 2187.99,839.408 2184.98,840.78 2182.07,842.34 2179.27,844.081 2176.58,845.996 2174.02,848.078 2171.59,850.319 2169.31,852.709 2167.19,855.238 \n",
       "  2165.23,857.897 2163.45,860.675 2161.84,863.561 2160.42,866.542 2159.19,869.608 2158.16,872.745 2157.33,875.942 2156.71,879.184 2156.29,882.46 2156.08,885.755 \n",
       "  2156.08,889.057 2156.29,892.353 2156.71,895.628 2157.33,898.871 2158.16,902.067 2159.19,905.204 2160.42,908.27 2161.84,911.251 2163.45,914.137 2165.23,916.915 \n",
       "  2167.19,919.574 2169.31,922.104 2171.59,924.494 2174.02,926.734 2176.58,928.816 2179.27,930.732 2182.07,932.473 2184.98,934.032 2187.99,935.404 2191.07,936.582 \n",
       "  2194.23,937.563 2197.44,938.341 2200.69,938.915 2203.97,939.281 2207.27,939.438 2210.57,939.385 2213.86,939.124 2217.13,938.654 2220.36,937.978 2223.54,937.098 \n",
       "  2226.67,936.018 2229.71,934.742 2232.67,933.275 2235.53,931.624 2238.28,929.795 2240.91,927.795 2243.4,925.633 2245.76,923.317 2247.96,920.856 2250,918.26 \n",
       "  2251.87,915.54 2253.57,912.707 2255.08,909.772 2256.4,906.747 2257.53,903.644 2258.46,900.475 2259.19,897.254 2259.71,893.994 2260.03,890.707 2260.13,887.406 \n",
       "  2260.13,887.406 \n",
       "  \"/>\n",
       "</svg>\n"
      ],
      "text/plain": [
       "Plot{Plots.GRBackend() n=2}"
      ]
     },
     "execution_count": 6,
     "metadata": {},
     "output_type": "execute_result"
    }
   ],
   "source": [
    "series_, ball_pos_, ball_radius_ = rand((series, ball_pos, ball_radius))\n",
    "vizscene(series_, ball_pos_, ball_radius_)"
   ]
  },
  {
   "cell_type": "markdown",
   "metadata": {},
   "source": [
    "Next we do simple collision detection to see if the projectile intersects the ball"
   ]
  },
  {
   "cell_type": "code",
   "execution_count": 7,
   "metadata": {},
   "outputs": [
    {
     "data": {
      "text/plain": [
       "16565:Main.##393.projectile_hits_()::Omega.Soft.DualSoftBool{Omega.Soft.SoftBool{Float64}}"
      ]
     },
     "execution_count": 7,
     "metadata": {},
     "output_type": "execute_result"
    }
   ],
   "source": [
    "\"Is this position inside the ball\"\n",
    "isinside(pos, ball_pos, ball_radius) = sqrt(sum((pos .- ball_pos).^2)) <ₛ ball_radius\n",
    "\n",
    "\"Does the projectile hit the ball?\"\n",
    "function projectile_hits_(ω)\n",
    "  series_ = series(ω)\n",
    "  ball_pos_, ball_radius_ = ball_pos(ω), ball_radius(ω)\n",
    "  hits_vs_t = map(pos -> isinside(pos, ball_pos_, ball_radius_), series_)\n",
    "  anyₛ(hits_vs_t)\n",
    "end\n",
    "\n",
    "const projectile_hits = ciid(projectile_hits_)"
   ]
  },
  {
   "cell_type": "markdown",
   "metadata": {},
   "source": [
    "The prior probability that the projectile hits the ball can be approximated:"
   ]
  },
  {
   "cell_type": "code",
   "execution_count": 8,
   "metadata": {},
   "outputs": [
    {
     "data": {
      "text/plain": [
       "0.1"
      ]
     },
     "execution_count": 8,
     "metadata": {},
     "output_type": "execute_result"
    }
   ],
   "source": [
    "Statistics.mean(Bool.(rand(projectile_hits, 1000)))"
   ]
  },
  {
   "cell_type": "markdown",
   "metadata": {},
   "source": [
    "Find a world where the conditions are true"
   ]
  },
  {
   "cell_type": "code",
   "execution_count": 9,
   "metadata": {},
   "outputs": [
    {
     "name": "stdout",
     "output_type": "stream",
     "text": [
      "temps = [2.06115e-9, 4.53999e-5, 1.0, 22026.5]\n"
     ]
    },
    {
     "data": {
      "image/png": "[encoded data removed]",
      "image/svg+xml": [
       "<?xml version=\"1.0\" encoding=\"utf-8\"?>\n",
       "<svg xmlns=\"http://www.w3.org/2000/svg\" xmlns:xlink=\"http://www.w3.org/1999/xlink\" width=\"600\" height=\"400\" viewBox=\"0 0 2400 1600\">\n",
       "<defs>\n",
       "  <clipPath id=\"clip0700\">\n",
       "    <rect x=\"0\" y=\"0\" width=\"2400\" height=\"1600\"/>\n",
       "  </clipPath>\n",
       "</defs>\n",
       "<polygon clip-path=\"url(#clip0700)\" points=\"\n",
       "0,1600 2400,1600 2400,0 0,0 \n",
       "  \" fill=\"#ffffff\" fill-rule=\"evenodd\" fill-opacity=\"1\"/>\n",
       "<defs>\n",
       "  <clipPath id=\"clip0701\">\n",
       "    <rect x=\"480\" y=\"0\" width=\"1681\" height=\"1600\"/>\n",
       "  </clipPath>\n",
       "</defs>\n",
       "<polygon clip-path=\"url(#clip0700)\" points=\"\n",
       "161.394,1125.64 2321.26,1125.64 2321.26,425.077 161.394,425.077 \n",
       "  \" fill=\"#ffffff\" fill-rule=\"evenodd\" fill-opacity=\"1\"/>\n",
       "<defs>\n",
       "  <clipPath id=\"clip0702\">\n",
       "    <rect x=\"161\" y=\"425\" width=\"2161\" height=\"702\"/>\n",
       "  </clipPath>\n",
       "</defs>\n",
       "<polyline clip-path=\"url(#clip0702)\" style=\"stroke:#000000; stroke-width:2; stroke-opacity:0.1; fill:none\" points=\"\n",
       "  222.522,1125.64 222.522,425.077 \n",
       "  \"/>\n",
       "<polyline clip-path=\"url(#clip0702)\" style=\"stroke:#000000; stroke-width:2; stroke-opacity:0.1; fill:none\" points=\"\n",
       "  701.96,1125.64 701.96,425.077 \n",
       "  \"/>\n",
       "<polyline clip-path=\"url(#clip0702)\" style=\"stroke:#000000; stroke-width:2; stroke-opacity:0.1; fill:none\" points=\"\n",
       "  1181.4,1125.64 1181.4,425.077 \n",
       "  \"/>\n",
       "<polyline clip-path=\"url(#clip0702)\" style=\"stroke:#000000; stroke-width:2; stroke-opacity:0.1; fill:none\" points=\"\n",
       "  1660.83,1125.64 1660.83,425.077 \n",
       "  \"/>\n",
       "<polyline clip-path=\"url(#clip0702)\" style=\"stroke:#000000; stroke-width:2; stroke-opacity:0.1; fill:none\" points=\"\n",
       "  2140.27,1125.64 2140.27,425.077 \n",
       "  \"/>\n",
       "<polyline clip-path=\"url(#clip0702)\" style=\"stroke:#000000; stroke-width:2; stroke-opacity:0.1; fill:none\" points=\"\n",
       "  161.394,1045.9 2321.26,1045.9 \n",
       "  \"/>\n",
       "<polyline clip-path=\"url(#clip0702)\" style=\"stroke:#000000; stroke-width:2; stroke-opacity:0.1; fill:none\" points=\"\n",
       "  161.394,926.041 2321.26,926.041 \n",
       "  \"/>\n",
       "<polyline clip-path=\"url(#clip0702)\" style=\"stroke:#000000; stroke-width:2; stroke-opacity:0.1; fill:none\" points=\"\n",
       "  161.394,806.181 2321.26,806.181 \n",
       "  \"/>\n",
       "<polyline clip-path=\"url(#clip0702)\" style=\"stroke:#000000; stroke-width:2; stroke-opacity:0.1; fill:none\" points=\"\n",
       "  161.394,686.322 2321.26,686.322 \n",
       "  \"/>\n",
       "<polyline clip-path=\"url(#clip0702)\" style=\"stroke:#000000; stroke-width:2; stroke-opacity:0.1; fill:none\" points=\"\n",
       "  161.394,566.462 2321.26,566.462 \n",
       "  \"/>\n",
       "<polyline clip-path=\"url(#clip0702)\" style=\"stroke:#000000; stroke-width:2; stroke-opacity:0.1; fill:none\" points=\"\n",
       "  161.394,446.603 2321.26,446.603 \n",
       "  \"/>\n",
       "<polyline clip-path=\"url(#clip0700)\" style=\"stroke:#000000; stroke-width:4; stroke-opacity:1; fill:none\" points=\"\n",
       "  161.394,1125.64 2321.26,1125.64 \n",
       "  \"/>\n",
       "<polyline clip-path=\"url(#clip0700)\" style=\"stroke:#000000; stroke-width:4; stroke-opacity:1; fill:none\" points=\"\n",
       "  161.394,1125.64 161.394,425.077 \n",
       "  \"/>\n",
       "<polyline clip-path=\"url(#clip0700)\" style=\"stroke:#000000; stroke-width:4; stroke-opacity:1; fill:none\" points=\"\n",
       "  222.522,1125.64 222.522,1115.13 \n",
       "  \"/>\n",
       "<polyline clip-path=\"url(#clip0700)\" style=\"stroke:#000000; stroke-width:4; stroke-opacity:1; fill:none\" points=\"\n",
       "  701.96,1125.64 701.96,1115.13 \n",
       "  \"/>\n",
       "<polyline clip-path=\"url(#clip0700)\" style=\"stroke:#000000; stroke-width:4; stroke-opacity:1; fill:none\" points=\"\n",
       "  1181.4,1125.64 1181.4,1115.13 \n",
       "  \"/>\n",
       "<polyline clip-path=\"url(#clip0700)\" style=\"stroke:#000000; stroke-width:4; stroke-opacity:1; fill:none\" points=\"\n",
       "  1660.83,1125.64 1660.83,1115.13 \n",
       "  \"/>\n",
       "<polyline clip-path=\"url(#clip0700)\" style=\"stroke:#000000; stroke-width:4; stroke-opacity:1; fill:none\" points=\"\n",
       "  2140.27,1125.64 2140.27,1115.13 \n",
       "  \"/>\n",
       "<polyline clip-path=\"url(#clip0700)\" style=\"stroke:#000000; stroke-width:4; stroke-opacity:1; fill:none\" points=\"\n",
       "  161.394,1045.9 193.792,1045.9 \n",
       "  \"/>\n",
       "<polyline clip-path=\"url(#clip0700)\" style=\"stroke:#000000; stroke-width:4; stroke-opacity:1; fill:none\" points=\"\n",
       "  161.394,926.041 193.792,926.041 \n",
       "  \"/>\n",
       "<polyline clip-path=\"url(#clip0700)\" style=\"stroke:#000000; stroke-width:4; stroke-opacity:1; fill:none\" points=\"\n",
       "  161.394,806.181 193.792,806.181 \n",
       "  \"/>\n",
       "<polyline clip-path=\"url(#clip0700)\" style=\"stroke:#000000; stroke-width:4; stroke-opacity:1; fill:none\" points=\"\n",
       "  161.394,686.322 193.792,686.322 \n",
       "  \"/>\n",
       "<polyline clip-path=\"url(#clip0700)\" style=\"stroke:#000000; stroke-width:4; stroke-opacity:1; fill:none\" points=\"\n",
       "  161.394,566.462 193.792,566.462 \n",
       "  \"/>\n",
       "<polyline clip-path=\"url(#clip0700)\" style=\"stroke:#000000; stroke-width:4; stroke-opacity:1; fill:none\" points=\"\n",
       "  161.394,446.603 193.792,446.603 \n",
       "  \"/>\n",
       "<g clip-path=\"url(#clip0700)\">\n",
       "<text style=\"fill:#000000; fill-opacity:1; font-family:Arial,Helvetica Neue,Helvetica,sans-serif; font-size:48px; text-anchor:middle;\" transform=\"rotate(0, 222.522, 1179.64)\" x=\"222.522\" y=\"1179.64\">0</text>\n",
       "</g>\n",
       "<g clip-path=\"url(#clip0700)\">\n",
       "<text style=\"fill:#000000; fill-opacity:1; font-family:Arial,Helvetica Neue,Helvetica,sans-serif; font-size:48px; text-anchor:middle;\" transform=\"rotate(0, 701.96, 1179.64)\" x=\"701.96\" y=\"1179.64\">2</text>\n",
       "</g>\n",
       "<g clip-path=\"url(#clip0700)\">\n",
       "<text style=\"fill:#000000; fill-opacity:1; font-family:Arial,Helvetica Neue,Helvetica,sans-serif; font-size:48px; text-anchor:middle;\" transform=\"rotate(0, 1181.4, 1179.64)\" x=\"1181.4\" y=\"1179.64\">4</text>\n",
       "</g>\n",
       "<g clip-path=\"url(#clip0700)\">\n",
       "<text style=\"fill:#000000; fill-opacity:1; font-family:Arial,Helvetica Neue,Helvetica,sans-serif; font-size:48px; text-anchor:middle;\" transform=\"rotate(0, 1660.83, 1179.64)\" x=\"1660.83\" y=\"1179.64\">6</text>\n",
       "</g>\n",
       "<g clip-path=\"url(#clip0700)\">\n",
       "<text style=\"fill:#000000; fill-opacity:1; font-family:Arial,Helvetica Neue,Helvetica,sans-serif; font-size:48px; text-anchor:middle;\" transform=\"rotate(0, 2140.27, 1179.64)\" x=\"2140.27\" y=\"1179.64\">8</text>\n",
       "</g>\n",
       "<g clip-path=\"url(#clip0700)\">\n",
       "<text style=\"fill:#000000; fill-opacity:1; font-family:Arial,Helvetica Neue,Helvetica,sans-serif; font-size:48px; text-anchor:end;\" transform=\"rotate(0, 137.394, 1063.4)\" x=\"137.394\" y=\"1063.4\">0.0</text>\n",
       "</g>\n",
       "<g clip-path=\"url(#clip0700)\">\n",
       "<text style=\"fill:#000000; fill-opacity:1; font-family:Arial,Helvetica Neue,Helvetica,sans-serif; font-size:48px; text-anchor:end;\" transform=\"rotate(0, 137.394, 943.541)\" x=\"137.394\" y=\"943.541\">0.5</text>\n",
       "</g>\n",
       "<g clip-path=\"url(#clip0700)\">\n",
       "<text style=\"fill:#000000; fill-opacity:1; font-family:Arial,Helvetica Neue,Helvetica,sans-serif; font-size:48px; text-anchor:end;\" transform=\"rotate(0, 137.394, 823.681)\" x=\"137.394\" y=\"823.681\">1.0</text>\n",
       "</g>\n",
       "<g clip-path=\"url(#clip0700)\">\n",
       "<text style=\"fill:#000000; fill-opacity:1; font-family:Arial,Helvetica Neue,Helvetica,sans-serif; font-size:48px; text-anchor:end;\" transform=\"rotate(0, 137.394, 703.822)\" x=\"137.394\" y=\"703.822\">1.5</text>\n",
       "</g>\n",
       "<g clip-path=\"url(#clip0700)\">\n",
       "<text style=\"fill:#000000; fill-opacity:1; font-family:Arial,Helvetica Neue,Helvetica,sans-serif; font-size:48px; text-anchor:end;\" transform=\"rotate(0, 137.394, 583.962)\" x=\"137.394\" y=\"583.962\">2.0</text>\n",
       "</g>\n",
       "<g clip-path=\"url(#clip0700)\">\n",
       "<text style=\"fill:#000000; fill-opacity:1; font-family:Arial,Helvetica Neue,Helvetica,sans-serif; font-size:48px; text-anchor:end;\" transform=\"rotate(0, 137.394, 464.103)\" x=\"137.394\" y=\"464.103\">2.5</text>\n",
       "</g>\n",
       "<polyline clip-path=\"url(#clip0702)\" style=\"stroke:#009af9; stroke-width:4; stroke-opacity:1; fill:none\" points=\"\n",
       "  222.522,1045.9 222.522,1045.9 235.479,1029.2 248.435,1012.74 261.392,996.519 274.348,980.529 287.305,964.774 300.261,949.255 313.218,933.97 326.174,918.921 \n",
       "  339.13,904.107 352.087,889.528 365.043,875.184 378,861.075 390.956,847.202 403.913,833.563 416.869,820.16 429.826,806.992 442.782,794.059 455.739,781.362 \n",
       "  468.695,768.899 481.652,756.672 494.608,744.68 507.564,732.923 520.521,721.401 533.477,710.114 546.434,699.062 559.39,688.246 572.347,677.665 585.303,667.319 \n",
       "  598.26,657.208 611.216,647.332 624.173,637.692 637.129,628.286 650.086,619.116 663.042,610.181 675.998,601.481 688.955,593.016 701.911,584.787 714.868,576.792 \n",
       "  727.824,569.033 740.781,561.509 753.737,554.22 766.694,547.166 779.65,540.348 792.607,533.764 805.563,527.416 818.519,521.303 831.476,515.425 844.432,509.782 \n",
       "  857.389,504.375 870.345,499.202 883.302,494.265 896.258,489.563 909.215,485.096 922.171,480.864 935.128,476.868 948.084,473.106 961.041,469.58 973.997,466.289 \n",
       "  986.953,463.233 999.91,460.412 1012.87,457.826 1025.82,455.476 1038.78,453.361 1051.74,451.481 1064.69,449.836 1077.65,448.426 1090.61,447.251 1103.56,446.312 \n",
       "  1116.52,445.607 1129.47,445.138 1142.43,444.904 1155.39,444.905 1168.34,445.142 1181.3,445.613 1194.26,446.32 1207.21,447.262 1220.17,448.439 1233.13,449.851 \n",
       "  1246.08,451.498 1259.04,453.381 1272,455.498 1284.95,457.851 1297.91,460.439 1310.86,463.262 1323.82,466.321 1336.78,469.614 1349.73,473.143 1362.69,476.907 \n",
       "  1375.65,480.906 1388.6,485.14 1401.56,489.609 1414.52,494.313 1427.47,499.253 1440.43,504.428 1453.39,509.838 1466.34,515.483 1479.3,521.363 1492.26,527.479 \n",
       "  1505.21,533.829 1518.17,540.415 1531.12,547.236 1544.08,554.292 1557.04,561.583 1569.99,569.11 1582.95,576.871 1595.91,584.868 1608.86,593.1 1621.82,601.567 \n",
       "  1634.78,610.269 1647.73,619.207 1660.69,628.379 1673.65,637.787 1686.6,647.43 1699.56,657.308 1712.52,667.421 1725.47,677.77 1738.43,688.353 1751.38,699.172 \n",
       "  1764.34,710.226 1777.3,721.515 1790.25,733.039 1803.21,744.799 1816.17,756.793 1829.12,769.023 1842.08,781.488 1855.04,794.188 1867.99,807.123 1880.95,820.293 \n",
       "  1893.91,833.699 1906.86,847.34 1919.82,861.215 1932.78,875.326 1945.73,889.673 1958.69,904.254 1971.64,919.07 1984.6,934.122 1997.56,949.409 2010.51,964.931 \n",
       "  2023.47,980.688 2036.43,996.681 2049.38,1012.91 2062.34,1029.37 \n",
       "  \"/>\n",
       "<polygon clip-path=\"url(#clip0702)\" points=\"\n",
       "2260.13,985.97 2259.89,978.368 2259.17,970.797 2257.97,963.287 2256.29,955.868 2254.15,948.57 2251.55,941.423 2248.5,934.455 2245.01,927.695 2241.1,921.169 \n",
       "  2236.79,914.905 2232.09,908.926 2227.02,903.258 2221.6,897.923 2215.85,892.942 2209.8,888.336 2203.47,884.123 2196.88,880.32 2190.06,876.942 2183.05,874.004 \n",
       "  2175.86,871.516 2168.53,869.49 2161.09,867.932 2153.56,866.849 2145.98,866.247 2138.37,866.126 2130.77,866.488 2123.21,867.331 2115.72,868.652 2108.33,870.445 \n",
       "  2101.07,872.703 2093.97,875.417 2087.05,878.577 2080.34,882.169 2073.88,886.179 2067.68,890.591 2061.78,895.387 2056.19,900.547 2050.95,906.052 2046.06,911.878 \n",
       "  2041.55,918.003 2037.43,924.401 2033.74,931.048 2030.47,937.915 2027.64,944.976 2025.27,952.202 2023.36,959.564 2021.92,967.032 2020.96,974.577 2020.47,982.167 \n",
       "  2020.47,989.773 2020.96,997.364 2021.92,1004.91 2023.36,1012.38 2025.27,1019.74 2027.64,1026.96 2030.47,1034.03 2033.74,1040.89 2037.43,1047.54 2041.55,1053.94 \n",
       "  2046.06,1060.06 2050.95,1065.89 2056.19,1071.39 2061.78,1076.55 2067.68,1081.35 2073.88,1085.76 2080.34,1089.77 2087.05,1093.36 2093.97,1096.52 2101.07,1099.24 \n",
       "  2108.33,1101.5 2115.72,1103.29 2123.21,1104.61 2130.77,1105.45 2138.37,1105.81 2145.98,1105.69 2153.56,1105.09 2161.09,1104.01 2168.53,1102.45 2175.86,1100.42 \n",
       "  2183.05,1097.94 2190.06,1095 2196.88,1091.62 2203.47,1087.82 2209.8,1083.6 2215.85,1079 2221.6,1074.02 2227.02,1068.68 2232.09,1063.01 2236.79,1057.04 \n",
       "  2241.1,1050.77 2245.01,1044.25 2248.5,1037.49 2251.55,1030.52 2254.15,1023.37 2256.29,1016.07 2257.97,1008.65 2259.17,1001.14 2259.89,993.572 2260.13,985.97 \n",
       "  2260.13,985.97 \n",
       "  \" fill=\"#ffff00\" fill-rule=\"evenodd\" fill-opacity=\"1\"/>\n",
       "<polyline clip-path=\"url(#clip0702)\" style=\"stroke:#000000; stroke-width:4; stroke-opacity:1; fill:none\" points=\"\n",
       "  2260.13,985.97 2259.89,978.368 2259.17,970.797 2257.97,963.287 2256.29,955.868 2254.15,948.57 2251.55,941.423 2248.5,934.455 2245.01,927.695 2241.1,921.169 \n",
       "  2236.79,914.905 2232.09,908.926 2227.02,903.258 2221.6,897.923 2215.85,892.942 2209.8,888.336 2203.47,884.123 2196.88,880.32 2190.06,876.942 2183.05,874.004 \n",
       "  2175.86,871.516 2168.53,869.49 2161.09,867.932 2153.56,866.849 2145.98,866.247 2138.37,866.126 2130.77,866.488 2123.21,867.331 2115.72,868.652 2108.33,870.445 \n",
       "  2101.07,872.703 2093.97,875.417 2087.05,878.577 2080.34,882.169 2073.88,886.179 2067.68,890.591 2061.78,895.387 2056.19,900.547 2050.95,906.052 2046.06,911.878 \n",
       "  2041.55,918.003 2037.43,924.401 2033.74,931.048 2030.47,937.915 2027.64,944.976 2025.27,952.202 2023.36,959.564 2021.92,967.032 2020.96,974.577 2020.47,982.167 \n",
       "  2020.47,989.773 2020.96,997.364 2021.92,1004.91 2023.36,1012.38 2025.27,1019.74 2027.64,1026.96 2030.47,1034.03 2033.74,1040.89 2037.43,1047.54 2041.55,1053.94 \n",
       "  2046.06,1060.06 2050.95,1065.89 2056.19,1071.39 2061.78,1076.55 2067.68,1081.35 2073.88,1085.76 2080.34,1089.77 2087.05,1093.36 2093.97,1096.52 2101.07,1099.24 \n",
       "  2108.33,1101.5 2115.72,1103.29 2123.21,1104.61 2130.77,1105.45 2138.37,1105.81 2145.98,1105.69 2153.56,1105.09 2161.09,1104.01 2168.53,1102.45 2175.86,1100.42 \n",
       "  2183.05,1097.94 2190.06,1095 2196.88,1091.62 2203.47,1087.82 2209.8,1083.6 2215.85,1079 2221.6,1074.02 2227.02,1068.68 2232.09,1063.01 2236.79,1057.04 \n",
       "  2241.1,1050.77 2245.01,1044.25 2248.5,1037.49 2251.55,1030.52 2254.15,1023.37 2256.29,1016.07 2257.97,1008.65 2259.17,1001.14 2259.89,993.572 2260.13,985.97 \n",
       "  \n",
       "  \"/>\n",
       "</svg>\n"
      ],
      "text/html": [
       "<?xml version=\"1.0\" encoding=\"utf-8\"?>\n",
       "<svg xmlns=\"http://www.w3.org/2000/svg\" xmlns:xlink=\"http://www.w3.org/1999/xlink\" width=\"600\" height=\"400\" viewBox=\"0 0 2400 1600\">\n",
       "<defs>\n",
       "  <clipPath id=\"clip1000\">\n",
       "    <rect x=\"0\" y=\"0\" width=\"2400\" height=\"1600\"/>\n",
       "  </clipPath>\n",
       "</defs>\n",
       "<polygon clip-path=\"url(#clip1000)\" points=\"\n",
       "0,1600 2400,1600 2400,0 0,0 \n",
       "  \" fill=\"#ffffff\" fill-rule=\"evenodd\" fill-opacity=\"1\"/>\n",
       "<defs>\n",
       "  <clipPath id=\"clip1001\">\n",
       "    <rect x=\"480\" y=\"0\" width=\"1681\" height=\"1600\"/>\n",
       "  </clipPath>\n",
       "</defs>\n",
       "<polygon clip-path=\"url(#clip1000)\" points=\"\n",
       "161.394,1125.64 2321.26,1125.64 2321.26,425.077 161.394,425.077 \n",
       "  \" fill=\"#ffffff\" fill-rule=\"evenodd\" fill-opacity=\"1\"/>\n",
       "<defs>\n",
       "  <clipPath id=\"clip1002\">\n",
       "    <rect x=\"161\" y=\"425\" width=\"2161\" height=\"702\"/>\n",
       "  </clipPath>\n",
       "</defs>\n",
       "<polyline clip-path=\"url(#clip1002)\" style=\"stroke:#000000; stroke-width:2; stroke-opacity:0.1; fill:none\" points=\"\n",
       "  222.522,1125.64 222.522,425.077 \n",
       "  \"/>\n",
       "<polyline clip-path=\"url(#clip1002)\" style=\"stroke:#000000; stroke-width:2; stroke-opacity:0.1; fill:none\" points=\"\n",
       "  701.96,1125.64 701.96,425.077 \n",
       "  \"/>\n",
       "<polyline clip-path=\"url(#clip1002)\" style=\"stroke:#000000; stroke-width:2; stroke-opacity:0.1; fill:none\" points=\"\n",
       "  1181.4,1125.64 1181.4,425.077 \n",
       "  \"/>\n",
       "<polyline clip-path=\"url(#clip1002)\" style=\"stroke:#000000; stroke-width:2; stroke-opacity:0.1; fill:none\" points=\"\n",
       "  1660.83,1125.64 1660.83,425.077 \n",
       "  \"/>\n",
       "<polyline clip-path=\"url(#clip1002)\" style=\"stroke:#000000; stroke-width:2; stroke-opacity:0.1; fill:none\" points=\"\n",
       "  2140.27,1125.64 2140.27,425.077 \n",
       "  \"/>\n",
       "<polyline clip-path=\"url(#clip1002)\" style=\"stroke:#000000; stroke-width:2; stroke-opacity:0.1; fill:none\" points=\"\n",
       "  161.394,1045.9 2321.26,1045.9 \n",
       "  \"/>\n",
       "<polyline clip-path=\"url(#clip1002)\" style=\"stroke:#000000; stroke-width:2; stroke-opacity:0.1; fill:none\" points=\"\n",
       "  161.394,926.041 2321.26,926.041 \n",
       "  \"/>\n",
       "<polyline clip-path=\"url(#clip1002)\" style=\"stroke:#000000; stroke-width:2; stroke-opacity:0.1; fill:none\" points=\"\n",
       "  161.394,806.181 2321.26,806.181 \n",
       "  \"/>\n",
       "<polyline clip-path=\"url(#clip1002)\" style=\"stroke:#000000; stroke-width:2; stroke-opacity:0.1; fill:none\" points=\"\n",
       "  161.394,686.322 2321.26,686.322 \n",
       "  \"/>\n",
       "<polyline clip-path=\"url(#clip1002)\" style=\"stroke:#000000; stroke-width:2; stroke-opacity:0.1; fill:none\" points=\"\n",
       "  161.394,566.462 2321.26,566.462 \n",
       "  \"/>\n",
       "<polyline clip-path=\"url(#clip1002)\" style=\"stroke:#000000; stroke-width:2; stroke-opacity:0.1; fill:none\" points=\"\n",
       "  161.394,446.603 2321.26,446.603 \n",
       "  \"/>\n",
       "<polyline clip-path=\"url(#clip1000)\" style=\"stroke:#000000; stroke-width:4; stroke-opacity:1; fill:none\" points=\"\n",
       "  161.394,1125.64 2321.26,1125.64 \n",
       "  \"/>\n",
       "<polyline clip-path=\"url(#clip1000)\" style=\"stroke:#000000; stroke-width:4; stroke-opacity:1; fill:none\" points=\"\n",
       "  161.394,1125.64 161.394,425.077 \n",
       "  \"/>\n",
       "<polyline clip-path=\"url(#clip1000)\" style=\"stroke:#000000; stroke-width:4; stroke-opacity:1; fill:none\" points=\"\n",
       "  222.522,1125.64 222.522,1115.13 \n",
       "  \"/>\n",
       "<polyline clip-path=\"url(#clip1000)\" style=\"stroke:#000000; stroke-width:4; stroke-opacity:1; fill:none\" points=\"\n",
       "  701.96,1125.64 701.96,1115.13 \n",
       "  \"/>\n",
       "<polyline clip-path=\"url(#clip1000)\" style=\"stroke:#000000; stroke-width:4; stroke-opacity:1; fill:none\" points=\"\n",
       "  1181.4,1125.64 1181.4,1115.13 \n",
       "  \"/>\n",
       "<polyline clip-path=\"url(#clip1000)\" style=\"stroke:#000000; stroke-width:4; stroke-opacity:1; fill:none\" points=\"\n",
       "  1660.83,1125.64 1660.83,1115.13 \n",
       "  \"/>\n",
       "<polyline clip-path=\"url(#clip1000)\" style=\"stroke:#000000; stroke-width:4; stroke-opacity:1; fill:none\" points=\"\n",
       "  2140.27,1125.64 2140.27,1115.13 \n",
       "  \"/>\n",
       "<polyline clip-path=\"url(#clip1000)\" style=\"stroke:#000000; stroke-width:4; stroke-opacity:1; fill:none\" points=\"\n",
       "  161.394,1045.9 193.792,1045.9 \n",
       "  \"/>\n",
       "<polyline clip-path=\"url(#clip1000)\" style=\"stroke:#000000; stroke-width:4; stroke-opacity:1; fill:none\" points=\"\n",
       "  161.394,926.041 193.792,926.041 \n",
       "  \"/>\n",
       "<polyline clip-path=\"url(#clip1000)\" style=\"stroke:#000000; stroke-width:4; stroke-opacity:1; fill:none\" points=\"\n",
       "  161.394,806.181 193.792,806.181 \n",
       "  \"/>\n",
       "<polyline clip-path=\"url(#clip1000)\" style=\"stroke:#000000; stroke-width:4; stroke-opacity:1; fill:none\" points=\"\n",
       "  161.394,686.322 193.792,686.322 \n",
       "  \"/>\n",
       "<polyline clip-path=\"url(#clip1000)\" style=\"stroke:#000000; stroke-width:4; stroke-opacity:1; fill:none\" points=\"\n",
       "  161.394,566.462 193.792,566.462 \n",
       "  \"/>\n",
       "<polyline clip-path=\"url(#clip1000)\" style=\"stroke:#000000; stroke-width:4; stroke-opacity:1; fill:none\" points=\"\n",
       "  161.394,446.603 193.792,446.603 \n",
       "  \"/>\n",
       "<g clip-path=\"url(#clip1000)\">\n",
       "<text style=\"fill:#000000; fill-opacity:1; font-family:Arial,Helvetica Neue,Helvetica,sans-serif; font-size:48px; text-anchor:middle;\" transform=\"rotate(0, 222.522, 1179.64)\" x=\"222.522\" y=\"1179.64\">0</text>\n",
       "</g>\n",
       "<g clip-path=\"url(#clip1000)\">\n",
       "<text style=\"fill:#000000; fill-opacity:1; font-family:Arial,Helvetica Neue,Helvetica,sans-serif; font-size:48px; text-anchor:middle;\" transform=\"rotate(0, 701.96, 1179.64)\" x=\"701.96\" y=\"1179.64\">2</text>\n",
       "</g>\n",
       "<g clip-path=\"url(#clip1000)\">\n",
       "<text style=\"fill:#000000; fill-opacity:1; font-family:Arial,Helvetica Neue,Helvetica,sans-serif; font-size:48px; text-anchor:middle;\" transform=\"rotate(0, 1181.4, 1179.64)\" x=\"1181.4\" y=\"1179.64\">4</text>\n",
       "</g>\n",
       "<g clip-path=\"url(#clip1000)\">\n",
       "<text style=\"fill:#000000; fill-opacity:1; font-family:Arial,Helvetica Neue,Helvetica,sans-serif; font-size:48px; text-anchor:middle;\" transform=\"rotate(0, 1660.83, 1179.64)\" x=\"1660.83\" y=\"1179.64\">6</text>\n",
       "</g>\n",
       "<g clip-path=\"url(#clip1000)\">\n",
       "<text style=\"fill:#000000; fill-opacity:1; font-family:Arial,Helvetica Neue,Helvetica,sans-serif; font-size:48px; text-anchor:middle;\" transform=\"rotate(0, 2140.27, 1179.64)\" x=\"2140.27\" y=\"1179.64\">8</text>\n",
       "</g>\n",
       "<g clip-path=\"url(#clip1000)\">\n",
       "<text style=\"fill:#000000; fill-opacity:1; font-family:Arial,Helvetica Neue,Helvetica,sans-serif; font-size:48px; text-anchor:end;\" transform=\"rotate(0, 137.394, 1063.4)\" x=\"137.394\" y=\"1063.4\">0.0</text>\n",
       "</g>\n",
       "<g clip-path=\"url(#clip1000)\">\n",
       "<text style=\"fill:#000000; fill-opacity:1; font-family:Arial,Helvetica Neue,Helvetica,sans-serif; font-size:48px; text-anchor:end;\" transform=\"rotate(0, 137.394, 943.541)\" x=\"137.394\" y=\"943.541\">0.5</text>\n",
       "</g>\n",
       "<g clip-path=\"url(#clip1000)\">\n",
       "<text style=\"fill:#000000; fill-opacity:1; font-family:Arial,Helvetica Neue,Helvetica,sans-serif; font-size:48px; text-anchor:end;\" transform=\"rotate(0, 137.394, 823.681)\" x=\"137.394\" y=\"823.681\">1.0</text>\n",
       "</g>\n",
       "<g clip-path=\"url(#clip1000)\">\n",
       "<text style=\"fill:#000000; fill-opacity:1; font-family:Arial,Helvetica Neue,Helvetica,sans-serif; font-size:48px; text-anchor:end;\" transform=\"rotate(0, 137.394, 703.822)\" x=\"137.394\" y=\"703.822\">1.5</text>\n",
       "</g>\n",
       "<g clip-path=\"url(#clip1000)\">\n",
       "<text style=\"fill:#000000; fill-opacity:1; font-family:Arial,Helvetica Neue,Helvetica,sans-serif; font-size:48px; text-anchor:end;\" transform=\"rotate(0, 137.394, 583.962)\" x=\"137.394\" y=\"583.962\">2.0</text>\n",
       "</g>\n",
       "<g clip-path=\"url(#clip1000)\">\n",
       "<text style=\"fill:#000000; fill-opacity:1; font-family:Arial,Helvetica Neue,Helvetica,sans-serif; font-size:48px; text-anchor:end;\" transform=\"rotate(0, 137.394, 464.103)\" x=\"137.394\" y=\"464.103\">2.5</text>\n",
       "</g>\n",
       "<polyline clip-path=\"url(#clip1002)\" style=\"stroke:#009af9; stroke-width:4; stroke-opacity:1; fill:none\" points=\"\n",
       "  222.522,1045.9 222.522,1045.9 235.479,1029.2 248.435,1012.74 261.392,996.519 274.348,980.529 287.305,964.774 300.261,949.255 313.218,933.97 326.174,918.921 \n",
       "  339.13,904.107 352.087,889.528 365.043,875.184 378,861.075 390.956,847.202 403.913,833.563 416.869,820.16 429.826,806.992 442.782,794.059 455.739,781.362 \n",
       "  468.695,768.899 481.652,756.672 494.608,744.68 507.564,732.923 520.521,721.401 533.477,710.114 546.434,699.062 559.39,688.246 572.347,677.665 585.303,667.319 \n",
       "  598.26,657.208 611.216,647.332 624.173,637.692 637.129,628.286 650.086,619.116 663.042,610.181 675.998,601.481 688.955,593.016 701.911,584.787 714.868,576.792 \n",
       "  727.824,569.033 740.781,561.509 753.737,554.22 766.694,547.166 779.65,540.348 792.607,533.764 805.563,527.416 818.519,521.303 831.476,515.425 844.432,509.782 \n",
       "  857.389,504.375 870.345,499.202 883.302,494.265 896.258,489.563 909.215,485.096 922.171,480.864 935.128,476.868 948.084,473.106 961.041,469.58 973.997,466.289 \n",
       "  986.953,463.233 999.91,460.412 1012.87,457.826 1025.82,455.476 1038.78,453.361 1051.74,451.481 1064.69,449.836 1077.65,448.426 1090.61,447.251 1103.56,446.312 \n",
       "  1116.52,445.607 1129.47,445.138 1142.43,444.904 1155.39,444.905 1168.34,445.142 1181.3,445.613 1194.26,446.32 1207.21,447.262 1220.17,448.439 1233.13,449.851 \n",
       "  1246.08,451.498 1259.04,453.381 1272,455.498 1284.95,457.851 1297.91,460.439 1310.86,463.262 1323.82,466.321 1336.78,469.614 1349.73,473.143 1362.69,476.907 \n",
       "  1375.65,480.906 1388.6,485.14 1401.56,489.609 1414.52,494.313 1427.47,499.253 1440.43,504.428 1453.39,509.838 1466.34,515.483 1479.3,521.363 1492.26,527.479 \n",
       "  1505.21,533.829 1518.17,540.415 1531.12,547.236 1544.08,554.292 1557.04,561.583 1569.99,569.11 1582.95,576.871 1595.91,584.868 1608.86,593.1 1621.82,601.567 \n",
       "  1634.78,610.269 1647.73,619.207 1660.69,628.379 1673.65,637.787 1686.6,647.43 1699.56,657.308 1712.52,667.421 1725.47,677.77 1738.43,688.353 1751.38,699.172 \n",
       "  1764.34,710.226 1777.3,721.515 1790.25,733.039 1803.21,744.799 1816.17,756.793 1829.12,769.023 1842.08,781.488 1855.04,794.188 1867.99,807.123 1880.95,820.293 \n",
       "  1893.91,833.699 1906.86,847.34 1919.82,861.215 1932.78,875.326 1945.73,889.673 1958.69,904.254 1971.64,919.07 1984.6,934.122 1997.56,949.409 2010.51,964.931 \n",
       "  2023.47,980.688 2036.43,996.681 2049.38,1012.91 2062.34,1029.37 \n",
       "  \"/>\n",
       "<polygon clip-path=\"url(#clip1002)\" points=\"\n",
       "2260.13,985.97 2259.89,978.368 2259.17,970.797 2257.97,963.287 2256.29,955.868 2254.15,948.57 2251.55,941.423 2248.5,934.455 2245.01,927.695 2241.1,921.169 \n",
       "  2236.79,914.905 2232.09,908.926 2227.02,903.258 2221.6,897.923 2215.85,892.942 2209.8,888.336 2203.47,884.123 2196.88,880.32 2190.06,876.942 2183.05,874.004 \n",
       "  2175.86,871.516 2168.53,869.49 2161.09,867.932 2153.56,866.849 2145.98,866.247 2138.37,866.126 2130.77,866.488 2123.21,867.331 2115.72,868.652 2108.33,870.445 \n",
       "  2101.07,872.703 2093.97,875.417 2087.05,878.577 2080.34,882.169 2073.88,886.179 2067.68,890.591 2061.78,895.387 2056.19,900.547 2050.95,906.052 2046.06,911.878 \n",
       "  2041.55,918.003 2037.43,924.401 2033.74,931.048 2030.47,937.915 2027.64,944.976 2025.27,952.202 2023.36,959.564 2021.92,967.032 2020.96,974.577 2020.47,982.167 \n",
       "  2020.47,989.773 2020.96,997.364 2021.92,1004.91 2023.36,1012.38 2025.27,1019.74 2027.64,1026.96 2030.47,1034.03 2033.74,1040.89 2037.43,1047.54 2041.55,1053.94 \n",
       "  2046.06,1060.06 2050.95,1065.89 2056.19,1071.39 2061.78,1076.55 2067.68,1081.35 2073.88,1085.76 2080.34,1089.77 2087.05,1093.36 2093.97,1096.52 2101.07,1099.24 \n",
       "  2108.33,1101.5 2115.72,1103.29 2123.21,1104.61 2130.77,1105.45 2138.37,1105.81 2145.98,1105.69 2153.56,1105.09 2161.09,1104.01 2168.53,1102.45 2175.86,1100.42 \n",
       "  2183.05,1097.94 2190.06,1095 2196.88,1091.62 2203.47,1087.82 2209.8,1083.6 2215.85,1079 2221.6,1074.02 2227.02,1068.68 2232.09,1063.01 2236.79,1057.04 \n",
       "  2241.1,1050.77 2245.01,1044.25 2248.5,1037.49 2251.55,1030.52 2254.15,1023.37 2256.29,1016.07 2257.97,1008.65 2259.17,1001.14 2259.89,993.572 2260.13,985.97 \n",
       "  2260.13,985.97 \n",
       "  \" fill=\"#ffff00\" fill-rule=\"evenodd\" fill-opacity=\"1\"/>\n",
       "<polyline clip-path=\"url(#clip1002)\" style=\"stroke:#000000; stroke-width:4; stroke-opacity:1; fill:none\" points=\"\n",
       "  2260.13,985.97 2259.89,978.368 2259.17,970.797 2257.97,963.287 2256.29,955.868 2254.15,948.57 2251.55,941.423 2248.5,934.455 2245.01,927.695 2241.1,921.169 \n",
       "  2236.79,914.905 2232.09,908.926 2227.02,903.258 2221.6,897.923 2215.85,892.942 2209.8,888.336 2203.47,884.123 2196.88,880.32 2190.06,876.942 2183.05,874.004 \n",
       "  2175.86,871.516 2168.53,869.49 2161.09,867.932 2153.56,866.849 2145.98,866.247 2138.37,866.126 2130.77,866.488 2123.21,867.331 2115.72,868.652 2108.33,870.445 \n",
       "  2101.07,872.703 2093.97,875.417 2087.05,878.577 2080.34,882.169 2073.88,886.179 2067.68,890.591 2061.78,895.387 2056.19,900.547 2050.95,906.052 2046.06,911.878 \n",
       "  2041.55,918.003 2037.43,924.401 2033.74,931.048 2030.47,937.915 2027.64,944.976 2025.27,952.202 2023.36,959.564 2021.92,967.032 2020.96,974.577 2020.47,982.167 \n",
       "  2020.47,989.773 2020.96,997.364 2021.92,1004.91 2023.36,1012.38 2025.27,1019.74 2027.64,1026.96 2030.47,1034.03 2033.74,1040.89 2037.43,1047.54 2041.55,1053.94 \n",
       "  2046.06,1060.06 2050.95,1065.89 2056.19,1071.39 2061.78,1076.55 2067.68,1081.35 2073.88,1085.76 2080.34,1089.77 2087.05,1093.36 2093.97,1096.52 2101.07,1099.24 \n",
       "  2108.33,1101.5 2115.72,1103.29 2123.21,1104.61 2130.77,1105.45 2138.37,1105.81 2145.98,1105.69 2153.56,1105.09 2161.09,1104.01 2168.53,1102.45 2175.86,1100.42 \n",
       "  2183.05,1097.94 2190.06,1095 2196.88,1091.62 2203.47,1087.82 2209.8,1083.6 2215.85,1079 2221.6,1074.02 2227.02,1068.68 2232.09,1063.01 2236.79,1057.04 \n",
       "  2241.1,1050.77 2245.01,1044.25 2248.5,1037.49 2251.55,1030.52 2254.15,1023.37 2256.29,1016.07 2257.97,1008.65 2259.17,1001.14 2259.89,993.572 2260.13,985.97 \n",
       "  \n",
       "  \"/>\n",
       "</svg>\n"
      ],
      "text/plain": [
       "Plot{Plots.GRBackend() n=2}"
      ]
     },
     "execution_count": 9,
     "metadata": {},
     "output_type": "execute_result"
    }
   ],
   "source": [
    "post_samples = rand((series, ball_pos, ball_radius), projectile_hits, 1000; alg = Replica)\n",
    "series_, ball_pos_, ball_radius_ = ntranspose(post_samples)\n",
    "i = rand(1:length(series_))\n",
    "vizscene(series_[i], ball_pos_[i], ball_radius_[i])"
   ]
  },
  {
   "cell_type": "markdown",
   "metadata": {},
   "source": [
    "### But For Causality"
   ]
  },
  {
   "cell_type": "markdown",
   "metadata": {},
   "source": [
    "We will now use but-for causality to determine whether the angle of projection is the cause of the projectile hitting the ball"
   ]
  },
  {
   "cell_type": "markdown",
   "metadata": {},
   "source": [
    "But-for causality looks for an intervention that invalidates the cause and the effect\n",
    "Since we have soft constraints, we formulate this as an optimization problem\n",
    "The following function sketches the implementation of but_for.  The full implementation can be found in our version"
   ]
  },
  {
   "cell_type": "code",
   "execution_count": 10,
   "metadata": {},
   "outputs": [
    {
     "data": {
      "text/plain": [
       "Main.##393.iscausebfsketch"
      ]
     },
     "execution_count": 10,
     "metadata": {},
     "output_type": "execute_result"
    }
   ],
   "source": [
    "\"\"\"\n",
    "`iscausebf(ω, c, e, iset; kwargs...)`\n",
    "\n",
    "But-for causality.\n",
    "\n",
    "Is `c` (provably) the actual cause of `e` in the causal world `ω`, allowing\n",
    "interventions on variables defined in  `isset`\n",
    "\"\"\"\n",
    "function iscausebfsketch(ω::Omega.Ω, c::RandVar, e::RandVar, iset;\n",
    "                   sizes = [length(i(ω)) for i in iset],\n",
    "                   proj = identity, # maps reals to types of intervened vars\n",
    "                   optargs...)\n",
    "  @assert Bool(c(ω)) && Bool(e(ω)) \"Both cause and effect must be true in ω\"\n",
    "  # Construct a loss function that is 1 when the constraint is satisfied\n",
    "  loss = let rngs = splitvec(sizes), butfor = Omega.ciid(ω -> !c(ω) & !e(ω)), proj = proj\n",
    "    function loss(vec, grad)\n",
    "      # Since optimization requries vectors, we must do some book keeping\n",
    "      replmap = Dict(iset[i] => proj(vec[rng]) for (i, rng) in enumerate(rngs))\n",
    "      # In loss function we construct intervened mode where intervenable variables\n",
    "      # in iset have been set to values under consideration\n",
    "      butforint = replace(butfor, replmap)\n",
    "      # Get a score of the degree tow hich the effect `e` stil holds (in log scale)\n",
    "      Omega.logerr(butforint(ω))\n",
    "    end\n",
    "  end\n",
    "  # optimize this loss function\n",
    "  nlopt(loss, ω, iset, sizes; optargs...)\n",
    "end"
   ]
  },
  {
   "cell_type": "markdown",
   "metadata": {},
   "source": [
    "Next, we must construct a causal world world where the condition is true (the projectile hits):"
   ]
  },
  {
   "cell_type": "code",
   "execution_count": 11,
   "metadata": {},
   "outputs": [
    {
     "name": "stdout",
     "output_type": "stream",
     "text": [
      "temps = [2.06115e-9, 4.53999e-5, 1.0, 22026.5]\n"
     ]
    }
   ],
   "source": [
    "ωs = rand(Random.MersenneTwister(), defΩ(Replica), logerr(projectile_hits),  1000, Replica);"
   ]
  },
  {
   "cell_type": "markdown",
   "metadata": {},
   "source": [
    "Take a single sample from this set and do a sanity check (the projectile really does hit)"
   ]
  },
  {
   "cell_type": "code",
   "execution_count": 12,
   "metadata": {},
   "outputs": [
    {
     "data": {
      "text/plain": [
       "true"
      ]
     },
     "execution_count": 12,
     "metadata": {},
     "output_type": "execute_result"
    }
   ],
   "source": [
    "ω = ωs[end]\n",
    "Bool(projectile_hits(ω))"
   ]
  },
  {
   "cell_type": "markdown",
   "metadata": {},
   "source": [
    "Finally, we can check but-for causality: in world ω, is value that θ takes in this world cause of the projectile hitting?"
   ]
  },
  {
   "cell_type": "code",
   "execution_count": 13,
   "metadata": {},
   "outputs": [
    {
     "data": {
      "text/plain": [
       "true"
      ]
     },
     "execution_count": 13,
     "metadata": {},
     "output_type": "execute_result"
    }
   ],
   "source": [
    "Omega.iscausebf(ω, θ ==ₛ θ(ω), projectile_hits, [θ], proj = first)"
   ]
  },
  {
   "cell_type": "markdown",
   "metadata": {},
   "source": [
    "*This notebook was generated using [Literate.jl](https://github.com/fredrikekre/Literate.jl).*"
   ]
  }
 ],
 "metadata": {
  "@webio": {
   "lastCommId": "03705C2B000A4679BF47DF86738CCBC9",
   "lastKernelId": "ec738ad9-f405-487a-ab3d-e011e73f201e"
  },
  "kernelspec": {
   "display_name": "Julia 1.1.0",
   "language": "julia",
   "name": "julia-1.1"
  },
  "language_info": {
   "file_extension": ".jl",
   "mimetype": "application/julia",
   "name": "julia",
   "version": "1.1.0"
  }
 },
 "nbformat": 4,
 "nbformat_minor": 3
}
