{
 "cells": [
  {
   "cell_type": "code",
   "execution_count": 1,
   "metadata": {},
   "outputs": [
    {
     "data": {
      "text/plain": [
       "Main.##384.vizscene"
      ]
     },
     "execution_count": 1,
     "metadata": {},
     "output_type": "execute_result"
    }
   ],
   "source": [
    "using Omega\n",
    "using Omega.Inference: ReplicaAlg\n",
    "using Plots\n",
    "import Statistics\n",
    "using Random\n",
    "include(\"viz.jl\")"
   ]
  },
  {
   "cell_type": "markdown",
   "metadata": {},
   "source": [
    "Consider a projectile launched at an angle θ with initial velocity vo on a level plane\n",
    "We know the  equations of motion are:"
   ]
  },
  {
   "cell_type": "markdown",
   "metadata": {},
   "source": [
    "\\begin{equation}\n",
    "x(t) = v_0 \\cos \\theta t\\\\\n",
    "y(t) = v_0 \\sin \\theta t - \\frac{1}{2}gt^2\n",
    "\\end{equation}"
   ]
  },
  {
   "cell_type": "markdown",
   "metadata": {},
   "source": [
    "Launch point and gravity are constants but we have uncertainty over velocity,"
   ]
  },
  {
   "cell_type": "code",
   "execution_count": 2,
   "metadata": {},
   "outputs": [
    {
     "data": {
      "text/plain": [
       "11571:Omega.reifyapply(+, 0.7853981633974483, Normal)::Float64"
      ]
     },
     "execution_count": 2,
     "metadata": {},
     "output_type": "execute_result"
    }
   ],
   "source": [
    "const v0 = normal(10, 1)\n",
    "const u0 = constant((0.0, 0.0))\n",
    "const g = constant(9.81)\n",
    "const θ = π/4 + normal(0, 1)"
   ]
  },
  {
   "cell_type": "markdown",
   "metadata": {},
   "source": [
    "We will simulate step by step, which preserves causal order"
   ]
  },
  {
   "cell_type": "code",
   "execution_count": 3,
   "metadata": {},
   "outputs": [
    {
     "data": {
      "text/plain": [
       "Main.##384.simulate"
      ]
     },
     "execution_count": 3,
     "metadata": {},
     "output_type": "execute_result"
    }
   ],
   "source": [
    "\"Simulate projectile motion for `nsteps` with `Δt`\"\n",
    "function simulate(u0, v0, θ, g; maxsteps = 10000, Δt = 0.01)\n",
    "  t = 0.0\n",
    "  series = [u0]\n",
    "  for i = 1:(maxsteps - 1)\n",
    "    x = v0 * t * cos(θ)\n",
    "    y = v0 * t * sin(θ) - 0.5 * g * t^2\n",
    "    if y < 0\n",
    "      break\n",
    "    end\n",
    "    push!(series, (x, y))\n",
    "    t += Δt\n",
    "  end\n",
    "  series\n",
    "end"
   ]
  },
  {
   "cell_type": "markdown",
   "metadata": {},
   "source": [
    "`series` is a random variable over position of the projectile"
   ]
  },
  {
   "cell_type": "code",
   "execution_count": 4,
   "metadata": {},
   "outputs": [
    {
     "data": {
      "text/plain": [
       "11572:Omega.reifyapply(Main.##384.simulate, getfield(Omega, Symbol(\"##1#2\")){Tuple{Float64,Float64}}((0.0, 0.0)), Normal, Omega.reifyapply, getfield(Omega, Symbol(\"##1#2\")){Float64}(9.81))::Array{Tuple{Float64,Float64},1}"
      ]
     },
     "execution_count": 4,
     "metadata": {},
     "output_type": "execute_result"
    }
   ],
   "source": [
    "const series = lift(simulate)(u0, v0, θ, g)"
   ]
  },
  {
   "cell_type": "markdown",
   "metadata": {},
   "source": [
    "### But-For causality\n",
    "Next we will add a (yellow) ball to the scene, which the projective may or may not hit."
   ]
  },
  {
   "cell_type": "markdown",
   "metadata": {},
   "source": [
    "We assume a ball of constant radius and position"
   ]
  },
  {
   "cell_type": "code",
   "execution_count": 5,
   "metadata": {},
   "outputs": [
    {
     "data": {
      "text/plain": [
       "11574:getfield(Omega, Symbol(\"##1#2\")){Tuple{Float64,Float64}}((8.0, 0.25))()::Tuple{Float64,Float64}"
      ]
     },
     "execution_count": 5,
     "metadata": {},
     "output_type": "execute_result"
    }
   ],
   "source": [
    "const ball_radius = constant(0.5)\n",
    "const ball_pos = constant((8.0, 0.25))"
   ]
  },
  {
   "cell_type": "markdown",
   "metadata": {},
   "source": [
    "We can simulate projectile samples from the prior"
   ]
  },
  {
   "cell_type": "code",
   "execution_count": 6,
   "metadata": {},
   "outputs": [
    {
     "data": {
      "image/png": "[encoded data removed]",
      "image/svg+xml": [
       "<?xml version=\"1.0\" encoding=\"utf-8\"?>\n",
       "<svg xmlns=\"http://www.w3.org/2000/svg\" xmlns:xlink=\"http://www.w3.org/1999/xlink\" width=\"600\" height=\"400\" viewBox=\"0 0 2400 1600\">\n",
       "<defs>\n",
       "  <clipPath id=\"clip6500\">\n",
       "    <rect x=\"0\" y=\"0\" width=\"2400\" height=\"1600\"/>\n",
       "  </clipPath>\n",
       "</defs>\n",
       "<polygon clip-path=\"url(#clip6500)\" points=\"\n",
       "0,1600 2400,1600 2400,0 0,0 \n",
       "  \" fill=\"#ffffff\" fill-rule=\"evenodd\" fill-opacity=\"1\"/>\n",
       "<defs>\n",
       "  <clipPath id=\"clip6501\">\n",
       "    <rect x=\"480\" y=\"0\" width=\"1681\" height=\"1600\"/>\n",
       "  </clipPath>\n",
       "</defs>\n",
       "<polygon clip-path=\"url(#clip6500)\" points=\"\n",
       "121.251,1177.12 2321.26,1177.12 2321.26,373.598 121.251,373.598 \n",
       "  \" fill=\"#ffffff\" fill-rule=\"evenodd\" fill-opacity=\"1\"/>\n",
       "<defs>\n",
       "  <clipPath id=\"clip6502\">\n",
       "    <rect x=\"121\" y=\"373\" width=\"2201\" height=\"805\"/>\n",
       "  </clipPath>\n",
       "</defs>\n",
       "<polyline clip-path=\"url(#clip6502)\" style=\"stroke:#000000; stroke-width:2; stroke-opacity:0.1; fill:none\" points=\"\n",
       "  183.515,1177.12 183.515,373.598 \n",
       "  \"/>\n",
       "<polyline clip-path=\"url(#clip6502)\" style=\"stroke:#000000; stroke-width:2; stroke-opacity:0.1; fill:none\" points=\"\n",
       "  639.577,1177.12 639.577,373.598 \n",
       "  \"/>\n",
       "<polyline clip-path=\"url(#clip6502)\" style=\"stroke:#000000; stroke-width:2; stroke-opacity:0.1; fill:none\" points=\"\n",
       "  1095.64,1177.12 1095.64,373.598 \n",
       "  \"/>\n",
       "<polyline clip-path=\"url(#clip6502)\" style=\"stroke:#000000; stroke-width:2; stroke-opacity:0.1; fill:none\" points=\"\n",
       "  1551.7,1177.12 1551.7,373.598 \n",
       "  \"/>\n",
       "<polyline clip-path=\"url(#clip6502)\" style=\"stroke:#000000; stroke-width:2; stroke-opacity:0.1; fill:none\" points=\"\n",
       "  2007.76,1177.12 2007.76,373.598 \n",
       "  \"/>\n",
       "<polyline clip-path=\"url(#clip6502)\" style=\"stroke:#000000; stroke-width:2; stroke-opacity:0.1; fill:none\" points=\"\n",
       "  121.251,1097.39 2321.26,1097.39 \n",
       "  \"/>\n",
       "<polyline clip-path=\"url(#clip6502)\" style=\"stroke:#000000; stroke-width:2; stroke-opacity:0.1; fill:none\" points=\"\n",
       "  121.251,869.355 2321.26,869.355 \n",
       "  \"/>\n",
       "<polyline clip-path=\"url(#clip6502)\" style=\"stroke:#000000; stroke-width:2; stroke-opacity:0.1; fill:none\" points=\"\n",
       "  121.251,641.324 2321.26,641.324 \n",
       "  \"/>\n",
       "<polyline clip-path=\"url(#clip6502)\" style=\"stroke:#000000; stroke-width:2; stroke-opacity:0.1; fill:none\" points=\"\n",
       "  121.251,413.294 2321.26,413.294 \n",
       "  \"/>\n",
       "<polyline clip-path=\"url(#clip6500)\" style=\"stroke:#000000; stroke-width:4; stroke-opacity:1; fill:none\" points=\"\n",
       "  121.251,1177.12 2321.26,1177.12 \n",
       "  \"/>\n",
       "<polyline clip-path=\"url(#clip6500)\" style=\"stroke:#000000; stroke-width:4; stroke-opacity:1; fill:none\" points=\"\n",
       "  121.251,1177.12 121.251,373.598 \n",
       "  \"/>\n",
       "<polyline clip-path=\"url(#clip6500)\" style=\"stroke:#000000; stroke-width:4; stroke-opacity:1; fill:none\" points=\"\n",
       "  183.515,1177.12 183.515,1165.07 \n",
       "  \"/>\n",
       "<polyline clip-path=\"url(#clip6500)\" style=\"stroke:#000000; stroke-width:4; stroke-opacity:1; fill:none\" points=\"\n",
       "  639.577,1177.12 639.577,1165.07 \n",
       "  \"/>\n",
       "<polyline clip-path=\"url(#clip6500)\" style=\"stroke:#000000; stroke-width:4; stroke-opacity:1; fill:none\" points=\"\n",
       "  1095.64,1177.12 1095.64,1165.07 \n",
       "  \"/>\n",
       "<polyline clip-path=\"url(#clip6500)\" style=\"stroke:#000000; stroke-width:4; stroke-opacity:1; fill:none\" points=\"\n",
       "  1551.7,1177.12 1551.7,1165.07 \n",
       "  \"/>\n",
       "<polyline clip-path=\"url(#clip6500)\" style=\"stroke:#000000; stroke-width:4; stroke-opacity:1; fill:none\" points=\"\n",
       "  2007.76,1177.12 2007.76,1165.07 \n",
       "  \"/>\n",
       "<polyline clip-path=\"url(#clip6500)\" style=\"stroke:#000000; stroke-width:4; stroke-opacity:1; fill:none\" points=\"\n",
       "  121.251,1097.39 154.251,1097.39 \n",
       "  \"/>\n",
       "<polyline clip-path=\"url(#clip6500)\" style=\"stroke:#000000; stroke-width:4; stroke-opacity:1; fill:none\" points=\"\n",
       "  121.251,869.355 154.251,869.355 \n",
       "  \"/>\n",
       "<polyline clip-path=\"url(#clip6500)\" style=\"stroke:#000000; stroke-width:4; stroke-opacity:1; fill:none\" points=\"\n",
       "  121.251,641.324 154.251,641.324 \n",
       "  \"/>\n",
       "<polyline clip-path=\"url(#clip6500)\" style=\"stroke:#000000; stroke-width:4; stroke-opacity:1; fill:none\" points=\"\n",
       "  121.251,413.294 154.251,413.294 \n",
       "  \"/>\n",
       "<g clip-path=\"url(#clip6500)\">\n",
       "<text style=\"fill:#000000; fill-opacity:1; font-family:Arial,Helvetica Neue,Helvetica,sans-serif; font-size:48px; text-anchor:middle;\" transform=\"rotate(0, 183.515, 1231.12)\" x=\"183.515\" y=\"1231.12\">0</text>\n",
       "</g>\n",
       "<g clip-path=\"url(#clip6500)\">\n",
       "<text style=\"fill:#000000; fill-opacity:1; font-family:Arial,Helvetica Neue,Helvetica,sans-serif; font-size:48px; text-anchor:middle;\" transform=\"rotate(0, 639.577, 1231.12)\" x=\"639.577\" y=\"1231.12\">2</text>\n",
       "</g>\n",
       "<g clip-path=\"url(#clip6500)\">\n",
       "<text style=\"fill:#000000; fill-opacity:1; font-family:Arial,Helvetica Neue,Helvetica,sans-serif; font-size:48px; text-anchor:middle;\" transform=\"rotate(0, 1095.64, 1231.12)\" x=\"1095.64\" y=\"1231.12\">4</text>\n",
       "</g>\n",
       "<g clip-path=\"url(#clip6500)\">\n",
       "<text style=\"fill:#000000; fill-opacity:1; font-family:Arial,Helvetica Neue,Helvetica,sans-serif; font-size:48px; text-anchor:middle;\" transform=\"rotate(0, 1551.7, 1231.12)\" x=\"1551.7\" y=\"1231.12\">6</text>\n",
       "</g>\n",
       "<g clip-path=\"url(#clip6500)\">\n",
       "<text style=\"fill:#000000; fill-opacity:1; font-family:Arial,Helvetica Neue,Helvetica,sans-serif; font-size:48px; text-anchor:middle;\" transform=\"rotate(0, 2007.76, 1231.12)\" x=\"2007.76\" y=\"1231.12\">8</text>\n",
       "</g>\n",
       "<g clip-path=\"url(#clip6500)\">\n",
       "<text style=\"fill:#000000; fill-opacity:1; font-family:Arial,Helvetica Neue,Helvetica,sans-serif; font-size:48px; text-anchor:end;\" transform=\"rotate(0, 97.2505, 1114.89)\" x=\"97.2505\" y=\"1114.89\">0</text>\n",
       "</g>\n",
       "<g clip-path=\"url(#clip6500)\">\n",
       "<text style=\"fill:#000000; fill-opacity:1; font-family:Arial,Helvetica Neue,Helvetica,sans-serif; font-size:48px; text-anchor:end;\" transform=\"rotate(0, 97.2505, 886.855)\" x=\"97.2505\" y=\"886.855\">1</text>\n",
       "</g>\n",
       "<g clip-path=\"url(#clip6500)\">\n",
       "<text style=\"fill:#000000; fill-opacity:1; font-family:Arial,Helvetica Neue,Helvetica,sans-serif; font-size:48px; text-anchor:end;\" transform=\"rotate(0, 97.2505, 658.824)\" x=\"97.2505\" y=\"658.824\">2</text>\n",
       "</g>\n",
       "<g clip-path=\"url(#clip6500)\">\n",
       "<text style=\"fill:#000000; fill-opacity:1; font-family:Arial,Helvetica Neue,Helvetica,sans-serif; font-size:48px; text-anchor:end;\" transform=\"rotate(0, 97.2505, 430.794)\" x=\"97.2505\" y=\"430.794\">3</text>\n",
       "</g>\n",
       "<polyline clip-path=\"url(#clip6502)\" style=\"stroke:#009af9; stroke-width:4; stroke-opacity:1; fill:none\" points=\"\n",
       "  183.515,1097.39 183.515,1097.39 196.651,1079.79 209.787,1062.41 222.923,1045.26 236.059,1028.34 249.195,1011.63 262.331,995.152 275.467,978.896 288.603,962.864 \n",
       "  301.739,947.055 314.874,931.47 328.01,916.109 341.146,900.971 354.282,886.057 367.418,871.367 380.554,856.901 393.69,842.658 406.826,828.639 419.962,814.844 \n",
       "  433.098,801.272 446.234,787.924 459.37,774.8 472.506,761.899 485.642,749.222 498.778,736.769 511.914,724.54 525.05,712.534 538.186,700.752 551.322,689.193 \n",
       "  564.458,677.859 577.594,666.748 590.729,655.86 603.865,645.197 617.001,634.757 630.137,624.541 643.273,614.548 656.409,604.779 669.545,595.234 682.681,585.913 \n",
       "  695.817,576.815 708.953,567.941 722.089,559.291 735.225,550.864 748.361,542.661 761.497,534.682 774.633,526.927 787.769,519.395 800.905,512.087 814.041,505.002 \n",
       "  827.177,498.141 840.313,491.504 853.449,485.091 866.584,478.901 879.72,472.936 892.856,467.193 905.992,461.675 919.128,456.38 932.264,451.309 945.4,446.461 \n",
       "  958.536,441.838 971.672,437.438 984.808,433.261 997.944,429.309 1011.08,425.58 1024.22,422.074 1037.35,418.793 1050.49,415.735 1063.62,412.901 1076.76,410.29 \n",
       "  1089.9,407.904 1103.03,405.74 1116.17,403.801 1129.3,402.085 1142.44,400.594 1155.58,399.325 1168.71,398.281 1181.85,397.46 1194.98,396.863 1208.12,396.489 \n",
       "  1221.26,396.339 1234.39,396.413 1247.53,396.711 1260.66,397.232 1273.8,397.977 1286.93,398.946 1300.07,400.138 1313.21,401.554 1326.34,403.194 1339.48,405.058 \n",
       "  1352.61,407.145 1365.75,409.456 1378.89,411.99 1392.02,414.749 1405.16,417.731 1418.29,420.936 1431.43,424.366 1444.57,428.019 1457.7,431.896 1470.84,435.996 \n",
       "  1483.97,440.32 1497.11,444.868 1510.25,449.64 1523.38,454.635 1536.52,459.854 1549.65,465.297 1562.79,470.963 1575.93,476.853 1589.06,482.967 1602.2,489.305 \n",
       "  1615.33,495.866 1628.47,502.651 1641.61,509.659 1654.74,516.891 1667.88,524.347 1681.01,532.027 1694.15,539.93 1707.29,548.057 1720.42,556.408 1733.56,564.983 \n",
       "  1746.69,573.781 1759.83,582.803 1772.97,592.048 1786.1,601.517 1799.24,611.21 1812.37,621.127 1825.51,631.267 1838.64,641.631 1851.78,652.219 1864.92,663.031 \n",
       "  1878.05,674.066 1891.19,685.325 1904.32,696.807 1917.46,708.513 1930.6,720.443 1943.73,732.597 1956.87,744.974 1970,757.575 1983.14,770.4 1996.28,783.448 \n",
       "  2009.41,796.721 2022.55,810.216 2035.68,823.936 2048.82,837.879 2061.96,852.046 2075.09,866.437 2088.23,881.051 2101.36,895.889 2114.5,910.951 2127.64,926.236 \n",
       "  2140.77,941.745 2153.91,957.478 2167.04,973.434 2180.18,989.615 2193.32,1006.02 2206.45,1022.65 2219.59,1039.5 2232.72,1056.57 2245.86,1073.87 2259,1091.39 \n",
       "  \n",
       "  \"/>\n",
       "<polygon clip-path=\"url(#clip6502)\" points=\"\n",
       "2121.78,1040.38 2121.55,1033.15 2120.86,1025.94 2119.72,1018.8 2118.12,1011.74 2116.08,1004.8 2113.61,998.003 2110.71,991.375 2107.39,984.944 2103.68,978.737 \n",
       "  2099.57,972.778 2095.1,967.091 2090.28,961.699 2085.12,956.624 2079.65,951.886 2073.9,947.504 2067.87,943.497 2061.61,939.879 2055.13,936.666 2048.45,933.871 \n",
       "  2041.62,931.505 2034.64,929.577 2027.56,928.095 2020.4,927.065 2013.19,926.492 2005.95,926.377 1998.73,926.722 1991.54,927.523 1984.41,928.78 1977.38,930.486 \n",
       "  1970.47,932.634 1963.71,935.216 1957.13,938.221 1950.75,941.638 1944.61,945.453 1938.71,949.649 1933.1,954.211 1927.78,959.12 1922.79,964.356 1918.14,969.899 \n",
       "  1913.85,975.725 1909.94,981.811 1906.42,988.134 1903.31,994.666 1900.62,1001.38 1898.36,1008.26 1896.55,1015.26 1895.18,1022.36 1894.26,1029.54 1893.8,1036.76 \n",
       "  1893.8,1044 1894.26,1051.22 1895.18,1058.39 1896.55,1065.5 1898.36,1072.5 1900.62,1079.37 1903.31,1086.09 1906.42,1092.62 1909.94,1098.95 1913.85,1105.03 \n",
       "  1918.14,1110.86 1922.79,1116.4 1927.78,1121.64 1933.1,1126.55 1938.71,1131.11 1944.61,1135.3 1950.75,1139.12 1957.13,1142.54 1963.71,1145.54 1970.47,1148.12 \n",
       "  1977.38,1150.27 1984.41,1151.98 1991.54,1153.23 1998.73,1154.04 2005.95,1154.38 2013.19,1154.26 2020.4,1153.69 2027.56,1152.66 2034.64,1151.18 2041.62,1149.25 \n",
       "  2048.45,1146.89 2055.13,1144.09 2061.61,1140.88 2067.87,1137.26 2073.9,1133.25 2079.65,1128.87 2085.12,1124.13 2090.28,1119.06 2095.1,1113.67 2099.57,1107.98 \n",
       "  2103.68,1102.02 2107.39,1095.81 2110.71,1089.38 2113.61,1082.75 2116.08,1075.96 2118.12,1069.01 2119.72,1061.96 2120.86,1054.81 2121.55,1047.61 2121.78,1040.38 \n",
       "  2121.78,1040.38 \n",
       "  \" fill=\"#ffff00\" fill-rule=\"evenodd\" fill-opacity=\"1\"/>\n",
       "<polyline clip-path=\"url(#clip6502)\" style=\"stroke:#000000; stroke-width:4; stroke-opacity:1; fill:none\" points=\"\n",
       "  2121.78,1040.38 2121.55,1033.15 2120.86,1025.94 2119.72,1018.8 2118.12,1011.74 2116.08,1004.8 2113.61,998.003 2110.71,991.375 2107.39,984.944 2103.68,978.737 \n",
       "  2099.57,972.778 2095.1,967.091 2090.28,961.699 2085.12,956.624 2079.65,951.886 2073.9,947.504 2067.87,943.497 2061.61,939.879 2055.13,936.666 2048.45,933.871 \n",
       "  2041.62,931.505 2034.64,929.577 2027.56,928.095 2020.4,927.065 2013.19,926.492 2005.95,926.377 1998.73,926.722 1991.54,927.523 1984.41,928.78 1977.38,930.486 \n",
       "  1970.47,932.634 1963.71,935.216 1957.13,938.221 1950.75,941.638 1944.61,945.453 1938.71,949.649 1933.1,954.211 1927.78,959.12 1922.79,964.356 1918.14,969.899 \n",
       "  1913.85,975.725 1909.94,981.811 1906.42,988.134 1903.31,994.666 1900.62,1001.38 1898.36,1008.26 1896.55,1015.26 1895.18,1022.36 1894.26,1029.54 1893.8,1036.76 \n",
       "  1893.8,1044 1894.26,1051.22 1895.18,1058.39 1896.55,1065.5 1898.36,1072.5 1900.62,1079.37 1903.31,1086.09 1906.42,1092.62 1909.94,1098.95 1913.85,1105.03 \n",
       "  1918.14,1110.86 1922.79,1116.4 1927.78,1121.64 1933.1,1126.55 1938.71,1131.11 1944.61,1135.3 1950.75,1139.12 1957.13,1142.54 1963.71,1145.54 1970.47,1148.12 \n",
       "  1977.38,1150.27 1984.41,1151.98 1991.54,1153.23 1998.73,1154.04 2005.95,1154.38 2013.19,1154.26 2020.4,1153.69 2027.56,1152.66 2034.64,1151.18 2041.62,1149.25 \n",
       "  2048.45,1146.89 2055.13,1144.09 2061.61,1140.88 2067.87,1137.26 2073.9,1133.25 2079.65,1128.87 2085.12,1124.13 2090.28,1119.06 2095.1,1113.67 2099.57,1107.98 \n",
       "  2103.68,1102.02 2107.39,1095.81 2110.71,1089.38 2113.61,1082.75 2116.08,1075.96 2118.12,1069.01 2119.72,1061.96 2120.86,1054.81 2121.55,1047.61 2121.78,1040.38 \n",
       "  \n",
       "  \"/>\n",
       "</svg>\n"
      ],
      "text/html": [
       "<?xml version=\"1.0\" encoding=\"utf-8\"?>\n",
       "<svg xmlns=\"http://www.w3.org/2000/svg\" xmlns:xlink=\"http://www.w3.org/1999/xlink\" width=\"600\" height=\"400\" viewBox=\"0 0 2400 1600\">\n",
       "<defs>\n",
       "  <clipPath id=\"clip6800\">\n",
       "    <rect x=\"0\" y=\"0\" width=\"2400\" height=\"1600\"/>\n",
       "  </clipPath>\n",
       "</defs>\n",
       "<polygon clip-path=\"url(#clip6800)\" points=\"\n",
       "0,1600 2400,1600 2400,0 0,0 \n",
       "  \" fill=\"#ffffff\" fill-rule=\"evenodd\" fill-opacity=\"1\"/>\n",
       "<defs>\n",
       "  <clipPath id=\"clip6801\">\n",
       "    <rect x=\"480\" y=\"0\" width=\"1681\" height=\"1600\"/>\n",
       "  </clipPath>\n",
       "</defs>\n",
       "<polygon clip-path=\"url(#clip6800)\" points=\"\n",
       "121.251,1177.12 2321.26,1177.12 2321.26,373.598 121.251,373.598 \n",
       "  \" fill=\"#ffffff\" fill-rule=\"evenodd\" fill-opacity=\"1\"/>\n",
       "<defs>\n",
       "  <clipPath id=\"clip6802\">\n",
       "    <rect x=\"121\" y=\"373\" width=\"2201\" height=\"805\"/>\n",
       "  </clipPath>\n",
       "</defs>\n",
       "<polyline clip-path=\"url(#clip6802)\" style=\"stroke:#000000; stroke-width:2; stroke-opacity:0.1; fill:none\" points=\"\n",
       "  183.515,1177.12 183.515,373.598 \n",
       "  \"/>\n",
       "<polyline clip-path=\"url(#clip6802)\" style=\"stroke:#000000; stroke-width:2; stroke-opacity:0.1; fill:none\" points=\"\n",
       "  639.577,1177.12 639.577,373.598 \n",
       "  \"/>\n",
       "<polyline clip-path=\"url(#clip6802)\" style=\"stroke:#000000; stroke-width:2; stroke-opacity:0.1; fill:none\" points=\"\n",
       "  1095.64,1177.12 1095.64,373.598 \n",
       "  \"/>\n",
       "<polyline clip-path=\"url(#clip6802)\" style=\"stroke:#000000; stroke-width:2; stroke-opacity:0.1; fill:none\" points=\"\n",
       "  1551.7,1177.12 1551.7,373.598 \n",
       "  \"/>\n",
       "<polyline clip-path=\"url(#clip6802)\" style=\"stroke:#000000; stroke-width:2; stroke-opacity:0.1; fill:none\" points=\"\n",
       "  2007.76,1177.12 2007.76,373.598 \n",
       "  \"/>\n",
       "<polyline clip-path=\"url(#clip6802)\" style=\"stroke:#000000; stroke-width:2; stroke-opacity:0.1; fill:none\" points=\"\n",
       "  121.251,1097.39 2321.26,1097.39 \n",
       "  \"/>\n",
       "<polyline clip-path=\"url(#clip6802)\" style=\"stroke:#000000; stroke-width:2; stroke-opacity:0.1; fill:none\" points=\"\n",
       "  121.251,869.355 2321.26,869.355 \n",
       "  \"/>\n",
       "<polyline clip-path=\"url(#clip6802)\" style=\"stroke:#000000; stroke-width:2; stroke-opacity:0.1; fill:none\" points=\"\n",
       "  121.251,641.324 2321.26,641.324 \n",
       "  \"/>\n",
       "<polyline clip-path=\"url(#clip6802)\" style=\"stroke:#000000; stroke-width:2; stroke-opacity:0.1; fill:none\" points=\"\n",
       "  121.251,413.294 2321.26,413.294 \n",
       "  \"/>\n",
       "<polyline clip-path=\"url(#clip6800)\" style=\"stroke:#000000; stroke-width:4; stroke-opacity:1; fill:none\" points=\"\n",
       "  121.251,1177.12 2321.26,1177.12 \n",
       "  \"/>\n",
       "<polyline clip-path=\"url(#clip6800)\" style=\"stroke:#000000; stroke-width:4; stroke-opacity:1; fill:none\" points=\"\n",
       "  121.251,1177.12 121.251,373.598 \n",
       "  \"/>\n",
       "<polyline clip-path=\"url(#clip6800)\" style=\"stroke:#000000; stroke-width:4; stroke-opacity:1; fill:none\" points=\"\n",
       "  183.515,1177.12 183.515,1165.07 \n",
       "  \"/>\n",
       "<polyline clip-path=\"url(#clip6800)\" style=\"stroke:#000000; stroke-width:4; stroke-opacity:1; fill:none\" points=\"\n",
       "  639.577,1177.12 639.577,1165.07 \n",
       "  \"/>\n",
       "<polyline clip-path=\"url(#clip6800)\" style=\"stroke:#000000; stroke-width:4; stroke-opacity:1; fill:none\" points=\"\n",
       "  1095.64,1177.12 1095.64,1165.07 \n",
       "  \"/>\n",
       "<polyline clip-path=\"url(#clip6800)\" style=\"stroke:#000000; stroke-width:4; stroke-opacity:1; fill:none\" points=\"\n",
       "  1551.7,1177.12 1551.7,1165.07 \n",
       "  \"/>\n",
       "<polyline clip-path=\"url(#clip6800)\" style=\"stroke:#000000; stroke-width:4; stroke-opacity:1; fill:none\" points=\"\n",
       "  2007.76,1177.12 2007.76,1165.07 \n",
       "  \"/>\n",
       "<polyline clip-path=\"url(#clip6800)\" style=\"stroke:#000000; stroke-width:4; stroke-opacity:1; fill:none\" points=\"\n",
       "  121.251,1097.39 154.251,1097.39 \n",
       "  \"/>\n",
       "<polyline clip-path=\"url(#clip6800)\" style=\"stroke:#000000; stroke-width:4; stroke-opacity:1; fill:none\" points=\"\n",
       "  121.251,869.355 154.251,869.355 \n",
       "  \"/>\n",
       "<polyline clip-path=\"url(#clip6800)\" style=\"stroke:#000000; stroke-width:4; stroke-opacity:1; fill:none\" points=\"\n",
       "  121.251,641.324 154.251,641.324 \n",
       "  \"/>\n",
       "<polyline clip-path=\"url(#clip6800)\" style=\"stroke:#000000; stroke-width:4; stroke-opacity:1; fill:none\" points=\"\n",
       "  121.251,413.294 154.251,413.294 \n",
       "  \"/>\n",
       "<g clip-path=\"url(#clip6800)\">\n",
       "<text style=\"fill:#000000; fill-opacity:1; font-family:Arial,Helvetica Neue,Helvetica,sans-serif; font-size:48px; text-anchor:middle;\" transform=\"rotate(0, 183.515, 1231.12)\" x=\"183.515\" y=\"1231.12\">0</text>\n",
       "</g>\n",
       "<g clip-path=\"url(#clip6800)\">\n",
       "<text style=\"fill:#000000; fill-opacity:1; font-family:Arial,Helvetica Neue,Helvetica,sans-serif; font-size:48px; text-anchor:middle;\" transform=\"rotate(0, 639.577, 1231.12)\" x=\"639.577\" y=\"1231.12\">2</text>\n",
       "</g>\n",
       "<g clip-path=\"url(#clip6800)\">\n",
       "<text style=\"fill:#000000; fill-opacity:1; font-family:Arial,Helvetica Neue,Helvetica,sans-serif; font-size:48px; text-anchor:middle;\" transform=\"rotate(0, 1095.64, 1231.12)\" x=\"1095.64\" y=\"1231.12\">4</text>\n",
       "</g>\n",
       "<g clip-path=\"url(#clip6800)\">\n",
       "<text style=\"fill:#000000; fill-opacity:1; font-family:Arial,Helvetica Neue,Helvetica,sans-serif; font-size:48px; text-anchor:middle;\" transform=\"rotate(0, 1551.7, 1231.12)\" x=\"1551.7\" y=\"1231.12\">6</text>\n",
       "</g>\n",
       "<g clip-path=\"url(#clip6800)\">\n",
       "<text style=\"fill:#000000; fill-opacity:1; font-family:Arial,Helvetica Neue,Helvetica,sans-serif; font-size:48px; text-anchor:middle;\" transform=\"rotate(0, 2007.76, 1231.12)\" x=\"2007.76\" y=\"1231.12\">8</text>\n",
       "</g>\n",
       "<g clip-path=\"url(#clip6800)\">\n",
       "<text style=\"fill:#000000; fill-opacity:1; font-family:Arial,Helvetica Neue,Helvetica,sans-serif; font-size:48px; text-anchor:end;\" transform=\"rotate(0, 97.2505, 1114.89)\" x=\"97.2505\" y=\"1114.89\">0</text>\n",
       "</g>\n",
       "<g clip-path=\"url(#clip6800)\">\n",
       "<text style=\"fill:#000000; fill-opacity:1; font-family:Arial,Helvetica Neue,Helvetica,sans-serif; font-size:48px; text-anchor:end;\" transform=\"rotate(0, 97.2505, 886.855)\" x=\"97.2505\" y=\"886.855\">1</text>\n",
       "</g>\n",
       "<g clip-path=\"url(#clip6800)\">\n",
       "<text style=\"fill:#000000; fill-opacity:1; font-family:Arial,Helvetica Neue,Helvetica,sans-serif; font-size:48px; text-anchor:end;\" transform=\"rotate(0, 97.2505, 658.824)\" x=\"97.2505\" y=\"658.824\">2</text>\n",
       "</g>\n",
       "<g clip-path=\"url(#clip6800)\">\n",
       "<text style=\"fill:#000000; fill-opacity:1; font-family:Arial,Helvetica Neue,Helvetica,sans-serif; font-size:48px; text-anchor:end;\" transform=\"rotate(0, 97.2505, 430.794)\" x=\"97.2505\" y=\"430.794\">3</text>\n",
       "</g>\n",
       "<polyline clip-path=\"url(#clip6802)\" style=\"stroke:#009af9; stroke-width:4; stroke-opacity:1; fill:none\" points=\"\n",
       "  183.515,1097.39 183.515,1097.39 196.651,1079.79 209.787,1062.41 222.923,1045.26 236.059,1028.34 249.195,1011.63 262.331,995.152 275.467,978.896 288.603,962.864 \n",
       "  301.739,947.055 314.874,931.47 328.01,916.109 341.146,900.971 354.282,886.057 367.418,871.367 380.554,856.901 393.69,842.658 406.826,828.639 419.962,814.844 \n",
       "  433.098,801.272 446.234,787.924 459.37,774.8 472.506,761.899 485.642,749.222 498.778,736.769 511.914,724.54 525.05,712.534 538.186,700.752 551.322,689.193 \n",
       "  564.458,677.859 577.594,666.748 590.729,655.86 603.865,645.197 617.001,634.757 630.137,624.541 643.273,614.548 656.409,604.779 669.545,595.234 682.681,585.913 \n",
       "  695.817,576.815 708.953,567.941 722.089,559.291 735.225,550.864 748.361,542.661 761.497,534.682 774.633,526.927 787.769,519.395 800.905,512.087 814.041,505.002 \n",
       "  827.177,498.141 840.313,491.504 853.449,485.091 866.584,478.901 879.72,472.936 892.856,467.193 905.992,461.675 919.128,456.38 932.264,451.309 945.4,446.461 \n",
       "  958.536,441.838 971.672,437.438 984.808,433.261 997.944,429.309 1011.08,425.58 1024.22,422.074 1037.35,418.793 1050.49,415.735 1063.62,412.901 1076.76,410.29 \n",
       "  1089.9,407.904 1103.03,405.74 1116.17,403.801 1129.3,402.085 1142.44,400.594 1155.58,399.325 1168.71,398.281 1181.85,397.46 1194.98,396.863 1208.12,396.489 \n",
       "  1221.26,396.339 1234.39,396.413 1247.53,396.711 1260.66,397.232 1273.8,397.977 1286.93,398.946 1300.07,400.138 1313.21,401.554 1326.34,403.194 1339.48,405.058 \n",
       "  1352.61,407.145 1365.75,409.456 1378.89,411.99 1392.02,414.749 1405.16,417.731 1418.29,420.936 1431.43,424.366 1444.57,428.019 1457.7,431.896 1470.84,435.996 \n",
       "  1483.97,440.32 1497.11,444.868 1510.25,449.64 1523.38,454.635 1536.52,459.854 1549.65,465.297 1562.79,470.963 1575.93,476.853 1589.06,482.967 1602.2,489.305 \n",
       "  1615.33,495.866 1628.47,502.651 1641.61,509.659 1654.74,516.891 1667.88,524.347 1681.01,532.027 1694.15,539.93 1707.29,548.057 1720.42,556.408 1733.56,564.983 \n",
       "  1746.69,573.781 1759.83,582.803 1772.97,592.048 1786.1,601.517 1799.24,611.21 1812.37,621.127 1825.51,631.267 1838.64,641.631 1851.78,652.219 1864.92,663.031 \n",
       "  1878.05,674.066 1891.19,685.325 1904.32,696.807 1917.46,708.513 1930.6,720.443 1943.73,732.597 1956.87,744.974 1970,757.575 1983.14,770.4 1996.28,783.448 \n",
       "  2009.41,796.721 2022.55,810.216 2035.68,823.936 2048.82,837.879 2061.96,852.046 2075.09,866.437 2088.23,881.051 2101.36,895.889 2114.5,910.951 2127.64,926.236 \n",
       "  2140.77,941.745 2153.91,957.478 2167.04,973.434 2180.18,989.615 2193.32,1006.02 2206.45,1022.65 2219.59,1039.5 2232.72,1056.57 2245.86,1073.87 2259,1091.39 \n",
       "  \n",
       "  \"/>\n",
       "<polygon clip-path=\"url(#clip6802)\" points=\"\n",
       "2121.78,1040.38 2121.55,1033.15 2120.86,1025.94 2119.72,1018.8 2118.12,1011.74 2116.08,1004.8 2113.61,998.003 2110.71,991.375 2107.39,984.944 2103.68,978.737 \n",
       "  2099.57,972.778 2095.1,967.091 2090.28,961.699 2085.12,956.624 2079.65,951.886 2073.9,947.504 2067.87,943.497 2061.61,939.879 2055.13,936.666 2048.45,933.871 \n",
       "  2041.62,931.505 2034.64,929.577 2027.56,928.095 2020.4,927.065 2013.19,926.492 2005.95,926.377 1998.73,926.722 1991.54,927.523 1984.41,928.78 1977.38,930.486 \n",
       "  1970.47,932.634 1963.71,935.216 1957.13,938.221 1950.75,941.638 1944.61,945.453 1938.71,949.649 1933.1,954.211 1927.78,959.12 1922.79,964.356 1918.14,969.899 \n",
       "  1913.85,975.725 1909.94,981.811 1906.42,988.134 1903.31,994.666 1900.62,1001.38 1898.36,1008.26 1896.55,1015.26 1895.18,1022.36 1894.26,1029.54 1893.8,1036.76 \n",
       "  1893.8,1044 1894.26,1051.22 1895.18,1058.39 1896.55,1065.5 1898.36,1072.5 1900.62,1079.37 1903.31,1086.09 1906.42,1092.62 1909.94,1098.95 1913.85,1105.03 \n",
       "  1918.14,1110.86 1922.79,1116.4 1927.78,1121.64 1933.1,1126.55 1938.71,1131.11 1944.61,1135.3 1950.75,1139.12 1957.13,1142.54 1963.71,1145.54 1970.47,1148.12 \n",
       "  1977.38,1150.27 1984.41,1151.98 1991.54,1153.23 1998.73,1154.04 2005.95,1154.38 2013.19,1154.26 2020.4,1153.69 2027.56,1152.66 2034.64,1151.18 2041.62,1149.25 \n",
       "  2048.45,1146.89 2055.13,1144.09 2061.61,1140.88 2067.87,1137.26 2073.9,1133.25 2079.65,1128.87 2085.12,1124.13 2090.28,1119.06 2095.1,1113.67 2099.57,1107.98 \n",
       "  2103.68,1102.02 2107.39,1095.81 2110.71,1089.38 2113.61,1082.75 2116.08,1075.96 2118.12,1069.01 2119.72,1061.96 2120.86,1054.81 2121.55,1047.61 2121.78,1040.38 \n",
       "  2121.78,1040.38 \n",
       "  \" fill=\"#ffff00\" fill-rule=\"evenodd\" fill-opacity=\"1\"/>\n",
       "<polyline clip-path=\"url(#clip6802)\" style=\"stroke:#000000; stroke-width:4; stroke-opacity:1; fill:none\" points=\"\n",
       "  2121.78,1040.38 2121.55,1033.15 2120.86,1025.94 2119.72,1018.8 2118.12,1011.74 2116.08,1004.8 2113.61,998.003 2110.71,991.375 2107.39,984.944 2103.68,978.737 \n",
       "  2099.57,972.778 2095.1,967.091 2090.28,961.699 2085.12,956.624 2079.65,951.886 2073.9,947.504 2067.87,943.497 2061.61,939.879 2055.13,936.666 2048.45,933.871 \n",
       "  2041.62,931.505 2034.64,929.577 2027.56,928.095 2020.4,927.065 2013.19,926.492 2005.95,926.377 1998.73,926.722 1991.54,927.523 1984.41,928.78 1977.38,930.486 \n",
       "  1970.47,932.634 1963.71,935.216 1957.13,938.221 1950.75,941.638 1944.61,945.453 1938.71,949.649 1933.1,954.211 1927.78,959.12 1922.79,964.356 1918.14,969.899 \n",
       "  1913.85,975.725 1909.94,981.811 1906.42,988.134 1903.31,994.666 1900.62,1001.38 1898.36,1008.26 1896.55,1015.26 1895.18,1022.36 1894.26,1029.54 1893.8,1036.76 \n",
       "  1893.8,1044 1894.26,1051.22 1895.18,1058.39 1896.55,1065.5 1898.36,1072.5 1900.62,1079.37 1903.31,1086.09 1906.42,1092.62 1909.94,1098.95 1913.85,1105.03 \n",
       "  1918.14,1110.86 1922.79,1116.4 1927.78,1121.64 1933.1,1126.55 1938.71,1131.11 1944.61,1135.3 1950.75,1139.12 1957.13,1142.54 1963.71,1145.54 1970.47,1148.12 \n",
       "  1977.38,1150.27 1984.41,1151.98 1991.54,1153.23 1998.73,1154.04 2005.95,1154.38 2013.19,1154.26 2020.4,1153.69 2027.56,1152.66 2034.64,1151.18 2041.62,1149.25 \n",
       "  2048.45,1146.89 2055.13,1144.09 2061.61,1140.88 2067.87,1137.26 2073.9,1133.25 2079.65,1128.87 2085.12,1124.13 2090.28,1119.06 2095.1,1113.67 2099.57,1107.98 \n",
       "  2103.68,1102.02 2107.39,1095.81 2110.71,1089.38 2113.61,1082.75 2116.08,1075.96 2118.12,1069.01 2119.72,1061.96 2120.86,1054.81 2121.55,1047.61 2121.78,1040.38 \n",
       "  \n",
       "  \"/>\n",
       "</svg>\n"
      ],
      "text/plain": [
       "Plot{Plots.GRBackend() n=2}"
      ]
     },
     "execution_count": 6,
     "metadata": {},
     "output_type": "execute_result"
    }
   ],
   "source": [
    "series_, ball_pos_, ball_radius_ = rand((series, ball_pos, ball_radius))\n",
    "vizscene(series_, ball_pos_, ball_radius_)"
   ]
  },
  {
   "cell_type": "markdown",
   "metadata": {},
   "source": [
    "Next we do simple collision detection to see if the projectile intersects the ball"
   ]
  },
  {
   "cell_type": "code",
   "execution_count": 7,
   "metadata": {},
   "outputs": [
    {
     "data": {
      "text/plain": [
       "11577:Main.##384.projectile_hits_()::Omega.Soft.DualSoftBool{Omega.Soft.SoftBool{Float64}}"
      ]
     },
     "execution_count": 7,
     "metadata": {},
     "output_type": "execute_result"
    }
   ],
   "source": [
    "\"Is this position inside the ball\"\n",
    "isinside(pos, ball_pos, ball_radius) = sqrt(sum((pos .- ball_pos).^2)) <ₛ ball_radius\n",
    "\n",
    "\"Does the projectile hit the ball?\"\n",
    "function projectile_hits_(ω)\n",
    "  series_ = series(ω)\n",
    "  ball_pos_, ball_radius_ = ball_pos(ω), ball_radius(ω)\n",
    "  hits_vs_t = map(pos -> isinside(pos, ball_pos_, ball_radius_), series_)\n",
    "  anyₛ(hits_vs_t)\n",
    "end\n",
    "\n",
    "const projectile_hits = ciid(projectile_hits_)"
   ]
  },
  {
   "cell_type": "markdown",
   "metadata": {},
   "source": [
    "The prior probability that the projectile hits the ball can be approximated:"
   ]
  },
  {
   "cell_type": "code",
   "execution_count": 8,
   "metadata": {},
   "outputs": [
    {
     "data": {
      "text/plain": [
       "0.112"
      ]
     },
     "execution_count": 8,
     "metadata": {},
     "output_type": "execute_result"
    }
   ],
   "source": [
    "Statistics.mean(Bool.(rand(projectile_hits, 1000)))"
   ]
  },
  {
   "cell_type": "markdown",
   "metadata": {},
   "source": [
    "Find a world where the conditions are true"
   ]
  },
  {
   "cell_type": "code",
   "execution_count": 9,
   "metadata": {},
   "outputs": [
    {
     "name": "stdout",
     "output_type": "stream",
     "text": [
      "temps = [2.06115e-9, 4.53999e-5, 1.0, 22026.5]\n"
     ]
    },
    {
     "data": {
      "image/png": "[encoded data removed]",
      "image/svg+xml": [
       "<?xml version=\"1.0\" encoding=\"utf-8\"?>\n",
       "<svg xmlns=\"http://www.w3.org/2000/svg\" xmlns:xlink=\"http://www.w3.org/1999/xlink\" width=\"600\" height=\"400\" viewBox=\"0 0 2400 1600\">\n",
       "<defs>\n",
       "  <clipPath id=\"clip7100\">\n",
       "    <rect x=\"0\" y=\"0\" width=\"2400\" height=\"1600\"/>\n",
       "  </clipPath>\n",
       "</defs>\n",
       "<polygon clip-path=\"url(#clip7100)\" points=\"\n",
       "0,1600 2400,1600 2400,0 0,0 \n",
       "  \" fill=\"#ffffff\" fill-rule=\"evenodd\" fill-opacity=\"1\"/>\n",
       "<defs>\n",
       "  <clipPath id=\"clip7101\">\n",
       "    <rect x=\"480\" y=\"0\" width=\"1681\" height=\"1600\"/>\n",
       "  </clipPath>\n",
       "</defs>\n",
       "<polygon clip-path=\"url(#clip7100)\" points=\"\n",
       "216.266,910.77 2321.26,910.77 2321.26,639.949 216.266,639.949 \n",
       "  \" fill=\"#ffffff\" fill-rule=\"evenodd\" fill-opacity=\"1\"/>\n",
       "<defs>\n",
       "  <clipPath id=\"clip7102\">\n",
       "    <rect x=\"216\" y=\"639\" width=\"2106\" height=\"272\"/>\n",
       "  </clipPath>\n",
       "</defs>\n",
       "<polyline clip-path=\"url(#clip7102)\" style=\"stroke:#000000; stroke-width:2; stroke-opacity:0.1; fill:none\" points=\"\n",
       "  275.842,910.77 275.842,639.949 \n",
       "  \"/>\n",
       "<polyline clip-path=\"url(#clip7102)\" style=\"stroke:#000000; stroke-width:2; stroke-opacity:0.1; fill:none\" points=\"\n",
       "  743.099,910.77 743.099,639.949 \n",
       "  \"/>\n",
       "<polyline clip-path=\"url(#clip7102)\" style=\"stroke:#000000; stroke-width:2; stroke-opacity:0.1; fill:none\" points=\"\n",
       "  1210.36,910.77 1210.36,639.949 \n",
       "  \"/>\n",
       "<polyline clip-path=\"url(#clip7102)\" style=\"stroke:#000000; stroke-width:2; stroke-opacity:0.1; fill:none\" points=\"\n",
       "  1677.61,910.77 1677.61,639.949 \n",
       "  \"/>\n",
       "<polyline clip-path=\"url(#clip7102)\" style=\"stroke:#000000; stroke-width:2; stroke-opacity:0.1; fill:none\" points=\"\n",
       "  2144.87,910.77 2144.87,639.949 \n",
       "  \"/>\n",
       "<polyline clip-path=\"url(#clip7102)\" style=\"stroke:#000000; stroke-width:2; stroke-opacity:0.1; fill:none\" points=\"\n",
       "  216.266,903.12 2321.26,903.12 \n",
       "  \"/>\n",
       "<polyline clip-path=\"url(#clip7102)\" style=\"stroke:#000000; stroke-width:2; stroke-opacity:0.1; fill:none\" points=\"\n",
       "  216.266,844.713 2321.26,844.713 \n",
       "  \"/>\n",
       "<polyline clip-path=\"url(#clip7102)\" style=\"stroke:#000000; stroke-width:2; stroke-opacity:0.1; fill:none\" points=\"\n",
       "  216.266,786.306 2321.26,786.306 \n",
       "  \"/>\n",
       "<polyline clip-path=\"url(#clip7102)\" style=\"stroke:#000000; stroke-width:2; stroke-opacity:0.1; fill:none\" points=\"\n",
       "  216.266,727.899 2321.26,727.899 \n",
       "  \"/>\n",
       "<polyline clip-path=\"url(#clip7102)\" style=\"stroke:#000000; stroke-width:2; stroke-opacity:0.1; fill:none\" points=\"\n",
       "  216.266,669.491 2321.26,669.491 \n",
       "  \"/>\n",
       "<polyline clip-path=\"url(#clip7100)\" style=\"stroke:#000000; stroke-width:4; stroke-opacity:1; fill:none\" points=\"\n",
       "  216.266,910.77 2321.26,910.77 \n",
       "  \"/>\n",
       "<polyline clip-path=\"url(#clip7100)\" style=\"stroke:#000000; stroke-width:4; stroke-opacity:1; fill:none\" points=\"\n",
       "  216.266,910.77 216.266,639.949 \n",
       "  \"/>\n",
       "<polyline clip-path=\"url(#clip7100)\" style=\"stroke:#000000; stroke-width:4; stroke-opacity:1; fill:none\" points=\"\n",
       "  275.842,910.77 275.842,906.708 \n",
       "  \"/>\n",
       "<polyline clip-path=\"url(#clip7100)\" style=\"stroke:#000000; stroke-width:4; stroke-opacity:1; fill:none\" points=\"\n",
       "  743.099,910.77 743.099,906.708 \n",
       "  \"/>\n",
       "<polyline clip-path=\"url(#clip7100)\" style=\"stroke:#000000; stroke-width:4; stroke-opacity:1; fill:none\" points=\"\n",
       "  1210.36,910.77 1210.36,906.708 \n",
       "  \"/>\n",
       "<polyline clip-path=\"url(#clip7100)\" style=\"stroke:#000000; stroke-width:4; stroke-opacity:1; fill:none\" points=\"\n",
       "  1677.61,910.77 1677.61,906.708 \n",
       "  \"/>\n",
       "<polyline clip-path=\"url(#clip7100)\" style=\"stroke:#000000; stroke-width:4; stroke-opacity:1; fill:none\" points=\"\n",
       "  2144.87,910.77 2144.87,906.708 \n",
       "  \"/>\n",
       "<polyline clip-path=\"url(#clip7100)\" style=\"stroke:#000000; stroke-width:4; stroke-opacity:1; fill:none\" points=\"\n",
       "  216.266,903.12 247.841,903.12 \n",
       "  \"/>\n",
       "<polyline clip-path=\"url(#clip7100)\" style=\"stroke:#000000; stroke-width:4; stroke-opacity:1; fill:none\" points=\"\n",
       "  216.266,844.713 247.841,844.713 \n",
       "  \"/>\n",
       "<polyline clip-path=\"url(#clip7100)\" style=\"stroke:#000000; stroke-width:4; stroke-opacity:1; fill:none\" points=\"\n",
       "  216.266,786.306 247.841,786.306 \n",
       "  \"/>\n",
       "<polyline clip-path=\"url(#clip7100)\" style=\"stroke:#000000; stroke-width:4; stroke-opacity:1; fill:none\" points=\"\n",
       "  216.266,727.899 247.841,727.899 \n",
       "  \"/>\n",
       "<polyline clip-path=\"url(#clip7100)\" style=\"stroke:#000000; stroke-width:4; stroke-opacity:1; fill:none\" points=\"\n",
       "  216.266,669.491 247.841,669.491 \n",
       "  \"/>\n",
       "<g clip-path=\"url(#clip7100)\">\n",
       "<text style=\"fill:#000000; fill-opacity:1; font-family:Arial,Helvetica Neue,Helvetica,sans-serif; font-size:48px; text-anchor:middle;\" transform=\"rotate(0, 275.842, 964.77)\" x=\"275.842\" y=\"964.77\">0</text>\n",
       "</g>\n",
       "<g clip-path=\"url(#clip7100)\">\n",
       "<text style=\"fill:#000000; fill-opacity:1; font-family:Arial,Helvetica Neue,Helvetica,sans-serif; font-size:48px; text-anchor:middle;\" transform=\"rotate(0, 743.099, 964.77)\" x=\"743.099\" y=\"964.77\">2</text>\n",
       "</g>\n",
       "<g clip-path=\"url(#clip7100)\">\n",
       "<text style=\"fill:#000000; fill-opacity:1; font-family:Arial,Helvetica Neue,Helvetica,sans-serif; font-size:48px; text-anchor:middle;\" transform=\"rotate(0, 1210.36, 964.77)\" x=\"1210.36\" y=\"964.77\">4</text>\n",
       "</g>\n",
       "<g clip-path=\"url(#clip7100)\">\n",
       "<text style=\"fill:#000000; fill-opacity:1; font-family:Arial,Helvetica Neue,Helvetica,sans-serif; font-size:48px; text-anchor:middle;\" transform=\"rotate(0, 1677.61, 964.77)\" x=\"1677.61\" y=\"964.77\">6</text>\n",
       "</g>\n",
       "<g clip-path=\"url(#clip7100)\">\n",
       "<text style=\"fill:#000000; fill-opacity:1; font-family:Arial,Helvetica Neue,Helvetica,sans-serif; font-size:48px; text-anchor:middle;\" transform=\"rotate(0, 2144.87, 964.77)\" x=\"2144.87\" y=\"964.77\">8</text>\n",
       "</g>\n",
       "<g clip-path=\"url(#clip7100)\">\n",
       "<text style=\"fill:#000000; fill-opacity:1; font-family:Arial,Helvetica Neue,Helvetica,sans-serif; font-size:48px; text-anchor:end;\" transform=\"rotate(0, 192.266, 920.62)\" x=\"192.266\" y=\"920.62\">-0.25</text>\n",
       "</g>\n",
       "<g clip-path=\"url(#clip7100)\">\n",
       "<text style=\"fill:#000000; fill-opacity:1; font-family:Arial,Helvetica Neue,Helvetica,sans-serif; font-size:48px; text-anchor:end;\" transform=\"rotate(0, 192.266, 862.213)\" x=\"192.266\" y=\"862.213\">0.00</text>\n",
       "</g>\n",
       "<g clip-path=\"url(#clip7100)\">\n",
       "<text style=\"fill:#000000; fill-opacity:1; font-family:Arial,Helvetica Neue,Helvetica,sans-serif; font-size:48px; text-anchor:end;\" transform=\"rotate(0, 192.266, 803.806)\" x=\"192.266\" y=\"803.806\">0.25</text>\n",
       "</g>\n",
       "<g clip-path=\"url(#clip7100)\">\n",
       "<text style=\"fill:#000000; fill-opacity:1; font-family:Arial,Helvetica Neue,Helvetica,sans-serif; font-size:48px; text-anchor:end;\" transform=\"rotate(0, 192.266, 745.399)\" x=\"192.266\" y=\"745.399\">0.50</text>\n",
       "</g>\n",
       "<g clip-path=\"url(#clip7100)\">\n",
       "<text style=\"fill:#000000; fill-opacity:1; font-family:Arial,Helvetica Neue,Helvetica,sans-serif; font-size:48px; text-anchor:end;\" transform=\"rotate(0, 192.266, 686.991)\" x=\"192.266\" y=\"686.991\">0.75</text>\n",
       "</g>\n",
       "<polyline clip-path=\"url(#clip7102)\" style=\"stroke:#009af9; stroke-width:4; stroke-opacity:1; fill:none\" points=\"\n",
       "  275.842,844.713 275.842,844.713 298.571,835.322 321.3,826.16 344.029,817.227 366.758,808.524 389.487,800.049 412.216,791.804 434.945,783.788 457.674,776.001 \n",
       "  480.403,768.444 503.132,761.115 525.861,754.016 548.59,747.146 571.319,740.505 594.048,734.094 616.777,727.911 639.506,721.958 662.235,716.234 684.965,710.739 \n",
       "  707.694,705.474 730.423,700.437 753.152,695.63 775.881,691.052 798.61,686.703 821.339,682.583 844.068,678.692 866.797,675.031 889.526,671.599 912.255,668.396 \n",
       "  934.984,665.422 957.713,662.678 980.442,660.162 1003.17,657.876 1025.9,655.819 1048.63,653.991 1071.36,652.392 1094.09,651.023 1116.82,649.883 1139.55,648.972 \n",
       "  1162.27,648.29 1185,647.837 1207.73,647.614 1230.46,647.619 1253.19,647.854 1275.92,648.318 1298.65,649.011 1321.38,649.934 1344.11,651.085 1366.84,652.466 \n",
       "  1389.56,654.076 1412.29,655.916 1435.02,657.984 1457.75,660.281 1480.48,662.808 1503.21,665.564 1525.94,668.549 1548.67,671.764 1571.4,675.207 1594.13,678.88 \n",
       "  1616.86,682.782 1639.58,686.913 1662.31,691.273 1685.04,695.863 1707.77,700.681 1730.5,705.729 1753.23,711.006 1775.96,716.512 1798.69,722.248 1821.42,728.213 \n",
       "  1844.15,734.406 1866.87,740.829 1889.6,747.481 1912.33,754.363 1935.06,761.473 1957.79,768.813 1980.52,776.382 2003.25,784.18 2025.98,792.208 2048.71,800.464 \n",
       "  2071.44,808.95 2094.17,817.665 2116.89,826.609 2139.62,835.782 \n",
       "  \"/>\n",
       "<polygon clip-path=\"url(#clip7102)\" points=\"\n",
       "2261.68,786.306 2261.45,778.897 2260.74,771.518 2259.57,764.198 2257.94,756.968 2255.85,749.856 2253.32,742.89 2250.34,736.1 2246.95,729.511 2243.14,723.151 \n",
       "  2238.94,717.046 2234.36,711.219 2229.41,705.695 2224.13,700.495 2218.53,695.641 2212.63,691.152 2206.46,687.046 2200.04,683.339 2193.4,680.048 2186.56,677.184 \n",
       "  2179.55,674.759 2172.41,672.784 2165.15,671.266 2157.82,670.211 2150.43,669.624 2143.02,669.506 2135.61,669.859 2128.25,670.68 2120.95,671.968 2113.74,673.715 \n",
       "  2106.66,675.916 2099.74,678.562 2093,681.641 2086.46,685.142 2080.16,689.05 2074.13,693.349 2068.37,698.023 2062.93,703.053 2057.81,708.418 2053.05,714.096 \n",
       "  2048.65,720.065 2044.65,726.301 2041.04,732.778 2037.86,739.471 2035.1,746.353 2032.79,753.395 2030.93,760.57 2029.52,767.849 2028.58,775.202 2028.11,782.599 \n",
       "  2028.11,790.012 2028.58,797.41 2029.52,804.763 2030.93,812.041 2032.79,819.216 2035.1,826.259 2037.86,833.14 2041.04,839.833 2044.65,846.311 2048.65,852.546 \n",
       "  2053.05,858.515 2057.81,864.194 2062.93,869.559 2068.37,874.588 2074.13,879.262 2080.16,883.562 2086.46,887.47 2093,890.971 2099.74,894.05 2106.66,896.695 \n",
       "  2113.74,898.896 2120.95,900.644 2128.25,901.931 2135.61,902.753 2143.02,903.105 2150.43,902.988 2157.82,902.4 2165.15,901.345 2172.41,899.827 2179.55,897.852 \n",
       "  2186.56,895.428 2193.4,892.564 2200.04,889.272 2206.46,885.566 2212.63,881.46 2218.53,876.971 2224.13,872.117 2229.41,866.917 2234.36,861.392 2238.94,855.566 \n",
       "  2243.14,849.46 2246.95,843.1 2250.34,836.512 2253.32,829.721 2255.85,822.756 2257.94,815.643 2259.57,808.413 2260.74,801.094 2261.45,793.715 2261.68,786.306 \n",
       "  2261.68,786.306 \n",
       "  \" fill=\"#ffff00\" fill-rule=\"evenodd\" fill-opacity=\"1\"/>\n",
       "<polyline clip-path=\"url(#clip7102)\" style=\"stroke:#000000; stroke-width:4; stroke-opacity:1; fill:none\" points=\"\n",
       "  2261.68,786.306 2261.45,778.897 2260.74,771.518 2259.57,764.198 2257.94,756.968 2255.85,749.856 2253.32,742.89 2250.34,736.1 2246.95,729.511 2243.14,723.151 \n",
       "  2238.94,717.046 2234.36,711.219 2229.41,705.695 2224.13,700.495 2218.53,695.641 2212.63,691.152 2206.46,687.046 2200.04,683.339 2193.4,680.048 2186.56,677.184 \n",
       "  2179.55,674.759 2172.41,672.784 2165.15,671.266 2157.82,670.211 2150.43,669.624 2143.02,669.506 2135.61,669.859 2128.25,670.68 2120.95,671.968 2113.74,673.715 \n",
       "  2106.66,675.916 2099.74,678.562 2093,681.641 2086.46,685.142 2080.16,689.05 2074.13,693.349 2068.37,698.023 2062.93,703.053 2057.81,708.418 2053.05,714.096 \n",
       "  2048.65,720.065 2044.65,726.301 2041.04,732.778 2037.86,739.471 2035.1,746.353 2032.79,753.395 2030.93,760.57 2029.52,767.849 2028.58,775.202 2028.11,782.599 \n",
       "  2028.11,790.012 2028.58,797.41 2029.52,804.763 2030.93,812.041 2032.79,819.216 2035.1,826.259 2037.86,833.14 2041.04,839.833 2044.65,846.311 2048.65,852.546 \n",
       "  2053.05,858.515 2057.81,864.194 2062.93,869.559 2068.37,874.588 2074.13,879.262 2080.16,883.562 2086.46,887.47 2093,890.971 2099.74,894.05 2106.66,896.695 \n",
       "  2113.74,898.896 2120.95,900.644 2128.25,901.931 2135.61,902.753 2143.02,903.105 2150.43,902.988 2157.82,902.4 2165.15,901.345 2172.41,899.827 2179.55,897.852 \n",
       "  2186.56,895.428 2193.4,892.564 2200.04,889.272 2206.46,885.566 2212.63,881.46 2218.53,876.971 2224.13,872.117 2229.41,866.917 2234.36,861.392 2238.94,855.566 \n",
       "  2243.14,849.46 2246.95,843.1 2250.34,836.512 2253.32,829.721 2255.85,822.756 2257.94,815.643 2259.57,808.413 2260.74,801.094 2261.45,793.715 2261.68,786.306 \n",
       "  \n",
       "  \"/>\n",
       "</svg>\n"
      ],
      "text/html": [
       "<?xml version=\"1.0\" encoding=\"utf-8\"?>\n",
       "<svg xmlns=\"http://www.w3.org/2000/svg\" xmlns:xlink=\"http://www.w3.org/1999/xlink\" width=\"600\" height=\"400\" viewBox=\"0 0 2400 1600\">\n",
       "<defs>\n",
       "  <clipPath id=\"clip7400\">\n",
       "    <rect x=\"0\" y=\"0\" width=\"2400\" height=\"1600\"/>\n",
       "  </clipPath>\n",
       "</defs>\n",
       "<polygon clip-path=\"url(#clip7400)\" points=\"\n",
       "0,1600 2400,1600 2400,0 0,0 \n",
       "  \" fill=\"#ffffff\" fill-rule=\"evenodd\" fill-opacity=\"1\"/>\n",
       "<defs>\n",
       "  <clipPath id=\"clip7401\">\n",
       "    <rect x=\"480\" y=\"0\" width=\"1681\" height=\"1600\"/>\n",
       "  </clipPath>\n",
       "</defs>\n",
       "<polygon clip-path=\"url(#clip7400)\" points=\"\n",
       "216.266,910.77 2321.26,910.77 2321.26,639.949 216.266,639.949 \n",
       "  \" fill=\"#ffffff\" fill-rule=\"evenodd\" fill-opacity=\"1\"/>\n",
       "<defs>\n",
       "  <clipPath id=\"clip7402\">\n",
       "    <rect x=\"216\" y=\"639\" width=\"2106\" height=\"272\"/>\n",
       "  </clipPath>\n",
       "</defs>\n",
       "<polyline clip-path=\"url(#clip7402)\" style=\"stroke:#000000; stroke-width:2; stroke-opacity:0.1; fill:none\" points=\"\n",
       "  275.842,910.77 275.842,639.949 \n",
       "  \"/>\n",
       "<polyline clip-path=\"url(#clip7402)\" style=\"stroke:#000000; stroke-width:2; stroke-opacity:0.1; fill:none\" points=\"\n",
       "  743.099,910.77 743.099,639.949 \n",
       "  \"/>\n",
       "<polyline clip-path=\"url(#clip7402)\" style=\"stroke:#000000; stroke-width:2; stroke-opacity:0.1; fill:none\" points=\"\n",
       "  1210.36,910.77 1210.36,639.949 \n",
       "  \"/>\n",
       "<polyline clip-path=\"url(#clip7402)\" style=\"stroke:#000000; stroke-width:2; stroke-opacity:0.1; fill:none\" points=\"\n",
       "  1677.61,910.77 1677.61,639.949 \n",
       "  \"/>\n",
       "<polyline clip-path=\"url(#clip7402)\" style=\"stroke:#000000; stroke-width:2; stroke-opacity:0.1; fill:none\" points=\"\n",
       "  2144.87,910.77 2144.87,639.949 \n",
       "  \"/>\n",
       "<polyline clip-path=\"url(#clip7402)\" style=\"stroke:#000000; stroke-width:2; stroke-opacity:0.1; fill:none\" points=\"\n",
       "  216.266,903.12 2321.26,903.12 \n",
       "  \"/>\n",
       "<polyline clip-path=\"url(#clip7402)\" style=\"stroke:#000000; stroke-width:2; stroke-opacity:0.1; fill:none\" points=\"\n",
       "  216.266,844.713 2321.26,844.713 \n",
       "  \"/>\n",
       "<polyline clip-path=\"url(#clip7402)\" style=\"stroke:#000000; stroke-width:2; stroke-opacity:0.1; fill:none\" points=\"\n",
       "  216.266,786.306 2321.26,786.306 \n",
       "  \"/>\n",
       "<polyline clip-path=\"url(#clip7402)\" style=\"stroke:#000000; stroke-width:2; stroke-opacity:0.1; fill:none\" points=\"\n",
       "  216.266,727.899 2321.26,727.899 \n",
       "  \"/>\n",
       "<polyline clip-path=\"url(#clip7402)\" style=\"stroke:#000000; stroke-width:2; stroke-opacity:0.1; fill:none\" points=\"\n",
       "  216.266,669.491 2321.26,669.491 \n",
       "  \"/>\n",
       "<polyline clip-path=\"url(#clip7400)\" style=\"stroke:#000000; stroke-width:4; stroke-opacity:1; fill:none\" points=\"\n",
       "  216.266,910.77 2321.26,910.77 \n",
       "  \"/>\n",
       "<polyline clip-path=\"url(#clip7400)\" style=\"stroke:#000000; stroke-width:4; stroke-opacity:1; fill:none\" points=\"\n",
       "  216.266,910.77 216.266,639.949 \n",
       "  \"/>\n",
       "<polyline clip-path=\"url(#clip7400)\" style=\"stroke:#000000; stroke-width:4; stroke-opacity:1; fill:none\" points=\"\n",
       "  275.842,910.77 275.842,906.708 \n",
       "  \"/>\n",
       "<polyline clip-path=\"url(#clip7400)\" style=\"stroke:#000000; stroke-width:4; stroke-opacity:1; fill:none\" points=\"\n",
       "  743.099,910.77 743.099,906.708 \n",
       "  \"/>\n",
       "<polyline clip-path=\"url(#clip7400)\" style=\"stroke:#000000; stroke-width:4; stroke-opacity:1; fill:none\" points=\"\n",
       "  1210.36,910.77 1210.36,906.708 \n",
       "  \"/>\n",
       "<polyline clip-path=\"url(#clip7400)\" style=\"stroke:#000000; stroke-width:4; stroke-opacity:1; fill:none\" points=\"\n",
       "  1677.61,910.77 1677.61,906.708 \n",
       "  \"/>\n",
       "<polyline clip-path=\"url(#clip7400)\" style=\"stroke:#000000; stroke-width:4; stroke-opacity:1; fill:none\" points=\"\n",
       "  2144.87,910.77 2144.87,906.708 \n",
       "  \"/>\n",
       "<polyline clip-path=\"url(#clip7400)\" style=\"stroke:#000000; stroke-width:4; stroke-opacity:1; fill:none\" points=\"\n",
       "  216.266,903.12 247.841,903.12 \n",
       "  \"/>\n",
       "<polyline clip-path=\"url(#clip7400)\" style=\"stroke:#000000; stroke-width:4; stroke-opacity:1; fill:none\" points=\"\n",
       "  216.266,844.713 247.841,844.713 \n",
       "  \"/>\n",
       "<polyline clip-path=\"url(#clip7400)\" style=\"stroke:#000000; stroke-width:4; stroke-opacity:1; fill:none\" points=\"\n",
       "  216.266,786.306 247.841,786.306 \n",
       "  \"/>\n",
       "<polyline clip-path=\"url(#clip7400)\" style=\"stroke:#000000; stroke-width:4; stroke-opacity:1; fill:none\" points=\"\n",
       "  216.266,727.899 247.841,727.899 \n",
       "  \"/>\n",
       "<polyline clip-path=\"url(#clip7400)\" style=\"stroke:#000000; stroke-width:4; stroke-opacity:1; fill:none\" points=\"\n",
       "  216.266,669.491 247.841,669.491 \n",
       "  \"/>\n",
       "<g clip-path=\"url(#clip7400)\">\n",
       "<text style=\"fill:#000000; fill-opacity:1; font-family:Arial,Helvetica Neue,Helvetica,sans-serif; font-size:48px; text-anchor:middle;\" transform=\"rotate(0, 275.842, 964.77)\" x=\"275.842\" y=\"964.77\">0</text>\n",
       "</g>\n",
       "<g clip-path=\"url(#clip7400)\">\n",
       "<text style=\"fill:#000000; fill-opacity:1; font-family:Arial,Helvetica Neue,Helvetica,sans-serif; font-size:48px; text-anchor:middle;\" transform=\"rotate(0, 743.099, 964.77)\" x=\"743.099\" y=\"964.77\">2</text>\n",
       "</g>\n",
       "<g clip-path=\"url(#clip7400)\">\n",
       "<text style=\"fill:#000000; fill-opacity:1; font-family:Arial,Helvetica Neue,Helvetica,sans-serif; font-size:48px; text-anchor:middle;\" transform=\"rotate(0, 1210.36, 964.77)\" x=\"1210.36\" y=\"964.77\">4</text>\n",
       "</g>\n",
       "<g clip-path=\"url(#clip7400)\">\n",
       "<text style=\"fill:#000000; fill-opacity:1; font-family:Arial,Helvetica Neue,Helvetica,sans-serif; font-size:48px; text-anchor:middle;\" transform=\"rotate(0, 1677.61, 964.77)\" x=\"1677.61\" y=\"964.77\">6</text>\n",
       "</g>\n",
       "<g clip-path=\"url(#clip7400)\">\n",
       "<text style=\"fill:#000000; fill-opacity:1; font-family:Arial,Helvetica Neue,Helvetica,sans-serif; font-size:48px; text-anchor:middle;\" transform=\"rotate(0, 2144.87, 964.77)\" x=\"2144.87\" y=\"964.77\">8</text>\n",
       "</g>\n",
       "<g clip-path=\"url(#clip7400)\">\n",
       "<text style=\"fill:#000000; fill-opacity:1; font-family:Arial,Helvetica Neue,Helvetica,sans-serif; font-size:48px; text-anchor:end;\" transform=\"rotate(0, 192.266, 920.62)\" x=\"192.266\" y=\"920.62\">-0.25</text>\n",
       "</g>\n",
       "<g clip-path=\"url(#clip7400)\">\n",
       "<text style=\"fill:#000000; fill-opacity:1; font-family:Arial,Helvetica Neue,Helvetica,sans-serif; font-size:48px; text-anchor:end;\" transform=\"rotate(0, 192.266, 862.213)\" x=\"192.266\" y=\"862.213\">0.00</text>\n",
       "</g>\n",
       "<g clip-path=\"url(#clip7400)\">\n",
       "<text style=\"fill:#000000; fill-opacity:1; font-family:Arial,Helvetica Neue,Helvetica,sans-serif; font-size:48px; text-anchor:end;\" transform=\"rotate(0, 192.266, 803.806)\" x=\"192.266\" y=\"803.806\">0.25</text>\n",
       "</g>\n",
       "<g clip-path=\"url(#clip7400)\">\n",
       "<text style=\"fill:#000000; fill-opacity:1; font-family:Arial,Helvetica Neue,Helvetica,sans-serif; font-size:48px; text-anchor:end;\" transform=\"rotate(0, 192.266, 745.399)\" x=\"192.266\" y=\"745.399\">0.50</text>\n",
       "</g>\n",
       "<g clip-path=\"url(#clip7400)\">\n",
       "<text style=\"fill:#000000; fill-opacity:1; font-family:Arial,Helvetica Neue,Helvetica,sans-serif; font-size:48px; text-anchor:end;\" transform=\"rotate(0, 192.266, 686.991)\" x=\"192.266\" y=\"686.991\">0.75</text>\n",
       "</g>\n",
       "<polyline clip-path=\"url(#clip7402)\" style=\"stroke:#009af9; stroke-width:4; stroke-opacity:1; fill:none\" points=\"\n",
       "  275.842,844.713 275.842,844.713 298.571,835.322 321.3,826.16 344.029,817.227 366.758,808.524 389.487,800.049 412.216,791.804 434.945,783.788 457.674,776.001 \n",
       "  480.403,768.444 503.132,761.115 525.861,754.016 548.59,747.146 571.319,740.505 594.048,734.094 616.777,727.911 639.506,721.958 662.235,716.234 684.965,710.739 \n",
       "  707.694,705.474 730.423,700.437 753.152,695.63 775.881,691.052 798.61,686.703 821.339,682.583 844.068,678.692 866.797,675.031 889.526,671.599 912.255,668.396 \n",
       "  934.984,665.422 957.713,662.678 980.442,660.162 1003.17,657.876 1025.9,655.819 1048.63,653.991 1071.36,652.392 1094.09,651.023 1116.82,649.883 1139.55,648.972 \n",
       "  1162.27,648.29 1185,647.837 1207.73,647.614 1230.46,647.619 1253.19,647.854 1275.92,648.318 1298.65,649.011 1321.38,649.934 1344.11,651.085 1366.84,652.466 \n",
       "  1389.56,654.076 1412.29,655.916 1435.02,657.984 1457.75,660.281 1480.48,662.808 1503.21,665.564 1525.94,668.549 1548.67,671.764 1571.4,675.207 1594.13,678.88 \n",
       "  1616.86,682.782 1639.58,686.913 1662.31,691.273 1685.04,695.863 1707.77,700.681 1730.5,705.729 1753.23,711.006 1775.96,716.512 1798.69,722.248 1821.42,728.213 \n",
       "  1844.15,734.406 1866.87,740.829 1889.6,747.481 1912.33,754.363 1935.06,761.473 1957.79,768.813 1980.52,776.382 2003.25,784.18 2025.98,792.208 2048.71,800.464 \n",
       "  2071.44,808.95 2094.17,817.665 2116.89,826.609 2139.62,835.782 \n",
       "  \"/>\n",
       "<polygon clip-path=\"url(#clip7402)\" points=\"\n",
       "2261.68,786.306 2261.45,778.897 2260.74,771.518 2259.57,764.198 2257.94,756.968 2255.85,749.856 2253.32,742.89 2250.34,736.1 2246.95,729.511 2243.14,723.151 \n",
       "  2238.94,717.046 2234.36,711.219 2229.41,705.695 2224.13,700.495 2218.53,695.641 2212.63,691.152 2206.46,687.046 2200.04,683.339 2193.4,680.048 2186.56,677.184 \n",
       "  2179.55,674.759 2172.41,672.784 2165.15,671.266 2157.82,670.211 2150.43,669.624 2143.02,669.506 2135.61,669.859 2128.25,670.68 2120.95,671.968 2113.74,673.715 \n",
       "  2106.66,675.916 2099.74,678.562 2093,681.641 2086.46,685.142 2080.16,689.05 2074.13,693.349 2068.37,698.023 2062.93,703.053 2057.81,708.418 2053.05,714.096 \n",
       "  2048.65,720.065 2044.65,726.301 2041.04,732.778 2037.86,739.471 2035.1,746.353 2032.79,753.395 2030.93,760.57 2029.52,767.849 2028.58,775.202 2028.11,782.599 \n",
       "  2028.11,790.012 2028.58,797.41 2029.52,804.763 2030.93,812.041 2032.79,819.216 2035.1,826.259 2037.86,833.14 2041.04,839.833 2044.65,846.311 2048.65,852.546 \n",
       "  2053.05,858.515 2057.81,864.194 2062.93,869.559 2068.37,874.588 2074.13,879.262 2080.16,883.562 2086.46,887.47 2093,890.971 2099.74,894.05 2106.66,896.695 \n",
       "  2113.74,898.896 2120.95,900.644 2128.25,901.931 2135.61,902.753 2143.02,903.105 2150.43,902.988 2157.82,902.4 2165.15,901.345 2172.41,899.827 2179.55,897.852 \n",
       "  2186.56,895.428 2193.4,892.564 2200.04,889.272 2206.46,885.566 2212.63,881.46 2218.53,876.971 2224.13,872.117 2229.41,866.917 2234.36,861.392 2238.94,855.566 \n",
       "  2243.14,849.46 2246.95,843.1 2250.34,836.512 2253.32,829.721 2255.85,822.756 2257.94,815.643 2259.57,808.413 2260.74,801.094 2261.45,793.715 2261.68,786.306 \n",
       "  2261.68,786.306 \n",
       "  \" fill=\"#ffff00\" fill-rule=\"evenodd\" fill-opacity=\"1\"/>\n",
       "<polyline clip-path=\"url(#clip7402)\" style=\"stroke:#000000; stroke-width:4; stroke-opacity:1; fill:none\" points=\"\n",
       "  2261.68,786.306 2261.45,778.897 2260.74,771.518 2259.57,764.198 2257.94,756.968 2255.85,749.856 2253.32,742.89 2250.34,736.1 2246.95,729.511 2243.14,723.151 \n",
       "  2238.94,717.046 2234.36,711.219 2229.41,705.695 2224.13,700.495 2218.53,695.641 2212.63,691.152 2206.46,687.046 2200.04,683.339 2193.4,680.048 2186.56,677.184 \n",
       "  2179.55,674.759 2172.41,672.784 2165.15,671.266 2157.82,670.211 2150.43,669.624 2143.02,669.506 2135.61,669.859 2128.25,670.68 2120.95,671.968 2113.74,673.715 \n",
       "  2106.66,675.916 2099.74,678.562 2093,681.641 2086.46,685.142 2080.16,689.05 2074.13,693.349 2068.37,698.023 2062.93,703.053 2057.81,708.418 2053.05,714.096 \n",
       "  2048.65,720.065 2044.65,726.301 2041.04,732.778 2037.86,739.471 2035.1,746.353 2032.79,753.395 2030.93,760.57 2029.52,767.849 2028.58,775.202 2028.11,782.599 \n",
       "  2028.11,790.012 2028.58,797.41 2029.52,804.763 2030.93,812.041 2032.79,819.216 2035.1,826.259 2037.86,833.14 2041.04,839.833 2044.65,846.311 2048.65,852.546 \n",
       "  2053.05,858.515 2057.81,864.194 2062.93,869.559 2068.37,874.588 2074.13,879.262 2080.16,883.562 2086.46,887.47 2093,890.971 2099.74,894.05 2106.66,896.695 \n",
       "  2113.74,898.896 2120.95,900.644 2128.25,901.931 2135.61,902.753 2143.02,903.105 2150.43,902.988 2157.82,902.4 2165.15,901.345 2172.41,899.827 2179.55,897.852 \n",
       "  2186.56,895.428 2193.4,892.564 2200.04,889.272 2206.46,885.566 2212.63,881.46 2218.53,876.971 2224.13,872.117 2229.41,866.917 2234.36,861.392 2238.94,855.566 \n",
       "  2243.14,849.46 2246.95,843.1 2250.34,836.512 2253.32,829.721 2255.85,822.756 2257.94,815.643 2259.57,808.413 2260.74,801.094 2261.45,793.715 2261.68,786.306 \n",
       "  \n",
       "  \"/>\n",
       "</svg>\n"
      ],
      "text/plain": [
       "Plot{Plots.GRBackend() n=2}"
      ]
     },
     "execution_count": 9,
     "metadata": {},
     "output_type": "execute_result"
    }
   ],
   "source": [
    "post_samples = rand((series, ball_pos, ball_radius), projectile_hits, 1000; alg = Replica)\n",
    "series_, ball_pos_, ball_radius_ = ntranspose(post_samples)\n",
    "i = rand(1:length(series_))\n",
    "vizscene(series_[i], ball_pos_[i], ball_radius_[i])"
   ]
  },
  {
   "cell_type": "markdown",
   "metadata": {},
   "source": [
    "### But For Causality"
   ]
  },
  {
   "cell_type": "markdown",
   "metadata": {},
   "source": [
    "We will now use but-for causality to determine whether the angle of projection is the cause of the projectile hitting the ball"
   ]
  },
  {
   "cell_type": "markdown",
   "metadata": {},
   "source": [
    "But-for causality looks for an intervention that invalidates the cause and the effect\n",
    "Since we have soft constraints, we formulate this as an optimization problem\n",
    "The following function sketches the implementation of but_for.  The full implementation can be found in our version"
   ]
  },
  {
   "cell_type": "code",
   "execution_count": 10,
   "metadata": {},
   "outputs": [
    {
     "data": {
      "text/plain": [
       "Main.##384.iscausebfsketch"
      ]
     },
     "execution_count": 10,
     "metadata": {},
     "output_type": "execute_result"
    }
   ],
   "source": [
    "\"\"\"\n",
    "`iscausebf(ω, c, e, iset; kwargs...)`\n",
    "\n",
    "But-for causality.\n",
    "\n",
    "Is `c` (provably) the actual cause of `e` in the causal world `ω`, allowing\n",
    "interventions on variables defined in  `isset`\n",
    "\"\"\"\n",
    "function iscausebfsketch(ω::Omega.Ω, c::RandVar, e::RandVar, iset;\n",
    "                   sizes = [length(i(ω)) for i in iset],\n",
    "                   proj = identity, # maps reals to types of intervened vars\n",
    "                   optargs...)\n",
    "  @assert Bool(c(ω)) && Bool(e(ω)) \"Both cause and effect must be true in ω\"\n",
    "  # Construct a loss function that is 1 when the constraint is satisfied\n",
    "  loss = let rngs = splitvec(sizes), butfor = Omega.ciid(ω -> !c(ω) & !e(ω)), proj = proj\n",
    "    function loss(vec, grad)\n",
    "      # Since optimization requries vectors, we must do some book keeping\n",
    "      replmap = Dict(iset[i] => proj(vec[rng]) for (i, rng) in enumerate(rngs))\n",
    "      # In loss function we construct intervened mode where intervenable variables\n",
    "      # in iset have been set to values under consideration\n",
    "      butforint = replace(butfor, replmap)\n",
    "      # Get a score of the degree tow hich the effect `e` stil holds (in log scale)\n",
    "      Omega.logerr(butforint(ω))\n",
    "    end\n",
    "  end\n",
    "  # optimize this loss function\n",
    "  nlopt(loss, ω, iset, sizes; optargs...)\n",
    "end"
   ]
  },
  {
   "cell_type": "markdown",
   "metadata": {},
   "source": [
    "Next, we must construct a causal world world where the condition is true (the projectile hits):"
   ]
  },
  {
   "cell_type": "code",
   "execution_count": 11,
   "metadata": {},
   "outputs": [
    {
     "name": "stdout",
     "output_type": "stream",
     "text": [
      "temps = [2.06115e-9, 4.53999e-5, 1.0, 22026.5]\n"
     ]
    }
   ],
   "source": [
    "ωs = rand(Random.MersenneTwister(), defΩ(Replica), logerr(projectile_hits),  1000, Replica);"
   ]
  },
  {
   "cell_type": "markdown",
   "metadata": {},
   "source": [
    "Take a single sample from this set and do a sanity check (the project really does hit)"
   ]
  },
  {
   "cell_type": "code",
   "execution_count": 12,
   "metadata": {},
   "outputs": [
    {
     "data": {
      "text/plain": [
       "true"
      ]
     },
     "execution_count": 12,
     "metadata": {},
     "output_type": "execute_result"
    }
   ],
   "source": [
    "ω = ωs[end]\n",
    "Bool(projectile_hits(ω))"
   ]
  },
  {
   "cell_type": "markdown",
   "metadata": {},
   "source": [
    "Finally, we can check but-for causality: in world ω, is value that θ takes in this world cause of prjectile hitting?"
   ]
  },
  {
   "cell_type": "code",
   "execution_count": 13,
   "metadata": {},
   "outputs": [
    {
     "data": {
      "text/plain": [
       "true"
      ]
     },
     "execution_count": 13,
     "metadata": {},
     "output_type": "execute_result"
    }
   ],
   "source": [
    "Omega.iscausebf(ω, θ ==ₛ θ(ω), projectile_hits, [θ], proj = first)"
   ]
  },
  {
   "cell_type": "markdown",
   "metadata": {},
   "source": [
    "*This notebook was generated using [Literate.jl](https://github.com/fredrikekre/Literate.jl).*"
   ]
  }
 ],
 "metadata": {
  "@webio": {
   "lastCommId": "E50D400EFFC242C19DD9755A049BAC7C",
   "lastKernelId": "ec738ad9-f405-487a-ab3d-e011e73f201e"
  },
  "kernelspec": {
   "display_name": "Julia 1.1.0",
   "language": "julia",
   "name": "julia-1.1"
  },
  "language_info": {
   "file_extension": ".jl",
   "mimetype": "application/julia",
   "name": "julia",
   "version": "1.1.0"
  }
 },
 "nbformat": 4,
 "nbformat_minor": 3
}
