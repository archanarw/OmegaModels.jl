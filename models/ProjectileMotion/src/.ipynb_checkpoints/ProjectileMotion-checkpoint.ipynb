{
 "cells": [
  {
   "cell_type": "code",
   "execution_count": 1,
   "metadata": {},
   "outputs": [
    {
     "data": {
      "text/plain": [
       "Main.##371.vizscene"
      ]
     },
     "execution_count": 1,
     "metadata": {},
     "output_type": "execute_result"
    }
   ],
   "source": [
    "using Omega\n",
    "using Omega.Inference: ReplicaAlg\n",
    "using Plots\n",
    "import Statistics\n",
    "using Random\n",
    "include(\"viz.jl\")"
   ]
  },
  {
   "cell_type": "markdown",
   "metadata": {},
   "source": [
    "Consider a projectile launched at an angle θ with initial velocity vo on a level plane\n",
    "We know the  equations of motion are:"
   ]
  },
  {
   "cell_type": "markdown",
   "metadata": {},
   "source": [
    "# \\begin{equation}\n",
    "# x(t) = v_0 \\cos \\theta t\n",
    "# y(t) = v_0 \\sin \\theta t - \\frac{1}{2}gt^2\n",
    "# \\end{equation}"
   ]
  },
  {
   "cell_type": "markdown",
   "metadata": {},
   "source": [
    "I am setting the launch point at the origin, and launching the projectile with an initial velocity of 40m s at an angle of 45*"
   ]
  },
  {
   "cell_type": "code",
   "execution_count": 2,
   "metadata": {},
   "outputs": [
    {
     "data": {
      "text/plain": [
       "2333:Omega.reifyapply(+, 0.7853981633974483, Normal)::Float64"
      ]
     },
     "execution_count": 2,
     "metadata": {},
     "output_type": "execute_result"
    }
   ],
   "source": [
    "const v0 = normal(10, 1)\n",
    "const u0 = constant((0.0, 0.0))\n",
    "const g = constant(9.81)\n",
    "const θ = π/4 + normal(0, 1)"
   ]
  },
  {
   "cell_type": "markdown",
   "metadata": {},
   "source": [
    "This snippets simulates the model"
   ]
  },
  {
   "cell_type": "code",
   "execution_count": 3,
   "metadata": {},
   "outputs": [
    {
     "data": {
      "text/plain": [
       "Main.##371.simulate"
      ]
     },
     "execution_count": 3,
     "metadata": {},
     "output_type": "execute_result"
    }
   ],
   "source": [
    "\"Simulate projectile motion for `nsteps` with `Δt`\"\n",
    "function simulate(u0, v0, θ, g; maxsteps = 10000, Δt = 0.01)\n",
    "  t = 0.0\n",
    "  series = [u0]\n",
    "  for i = 1:(maxsteps - 1)\n",
    "    x = v0 * t * cos(θ)\n",
    "    y = v0 * t * sin(θ) - 0.5 * g * t^2\n",
    "    if y < 0\n",
    "      break\n",
    "    end\n",
    "    push!(series, (x, y))\n",
    "    t += Δt\n",
    "  end\n",
    "  series\n",
    "end"
   ]
  },
  {
   "cell_type": "markdown",
   "metadata": {},
   "source": [
    "Here we construct a time series over values"
   ]
  },
  {
   "cell_type": "code",
   "execution_count": 4,
   "metadata": {},
   "outputs": [
    {
     "data": {
      "text/plain": [
       "2334:Omega.reifyapply(Main.##371.simulate, getfield(Omega, Symbol(\"##1#2\")){Tuple{Float64,Float64}}((0.0, 0.0)), Normal, Omega.reifyapply, getfield(Omega, Symbol(\"##1#2\")){Float64}(9.81))::Array{Tuple{Float64,Float64},1}"
      ]
     },
     "execution_count": 4,
     "metadata": {},
     "output_type": "execute_result"
    }
   ],
   "source": [
    "const series = lift(simulate)(u0, v0, θ, g)"
   ]
  },
  {
   "cell_type": "markdown",
   "metadata": {},
   "source": [
    "### But-For causality\n",
    "A famous example in actual cauaslity is the case of Suzie throwing a stone at a class bottle or window.\n",
    "We will use but-for causality to determine whether suzy throwing the stone is the cause of the ball breaking"
   ]
  },
  {
   "cell_type": "code",
   "execution_count": 5,
   "metadata": {},
   "outputs": [
    {
     "data": {
      "text/plain": [
       "2336:getfield(Omega, Symbol(\"##1#2\")){Tuple{Float64,Float64}}((8.0, 0.25))()::Tuple{Float64,Float64}"
      ]
     },
     "execution_count": 5,
     "metadata": {},
     "output_type": "execute_result"
    }
   ],
   "source": [
    "const ball_radius = constant(0.5)\n",
    "const ball_pos = constant((8.0, 0.25))"
   ]
  },
  {
   "cell_type": "markdown",
   "metadata": {},
   "source": [
    "nb series_, ball_pos_, ball_radius_ = rand((ProjectileMotion.series, ProjectileMotion.ball_pos, ProjectileMotion.ball_radius))\n",
    "ProjectileMotion.vizscene(series_, ball_pos_, ball_radius_)"
   ]
  },
  {
   "cell_type": "code",
   "execution_count": 6,
   "metadata": {},
   "outputs": [
    {
     "data": {
      "text/plain": [
       "2337:Main.##371.projectile_hits_()::Omega.Soft.DualSoftBool{Omega.Soft.SoftBool{Float64}}"
      ]
     },
     "execution_count": 6,
     "metadata": {},
     "output_type": "execute_result"
    }
   ],
   "source": [
    "\"Is this position inside the ball\"\n",
    "isinside(pos, ball_pos, ball_radius) = sqrt(sum((pos .- ball_pos).^2)) <ₛ ball_radius\n",
    "\n",
    "\"Does the projectile hit the ball?\"\n",
    "function projectile_hits_(ω)\n",
    "  series_ = series(ω)\n",
    "  ball_pos_, ball_radius_ = ball_pos(ω), ball_radius(ω)\n",
    "  hits_vs_t = map(pos -> isinside(pos, ball_pos_, ball_radius_), series_)\n",
    "  anyₛ(hits_vs_t)\n",
    "end\n",
    "\n",
    "const projectile_hits = ciid(projectile_hits_)"
   ]
  },
  {
   "cell_type": "markdown",
   "metadata": {},
   "source": [
    "Prior probability that the projectile hits"
   ]
  },
  {
   "cell_type": "code",
   "execution_count": 7,
   "metadata": {},
   "outputs": [
    {
     "data": {
      "text/plain": [
       "0.115"
      ]
     },
     "execution_count": 7,
     "metadata": {},
     "output_type": "execute_result"
    }
   ],
   "source": [
    "Statistics.mean(Bool.(rand(projectile_hits, 1000)))"
   ]
  },
  {
   "cell_type": "markdown",
   "metadata": {},
   "source": [
    "Find a world where the conditions are true"
   ]
  },
  {
   "cell_type": "code",
   "execution_count": 8,
   "metadata": {},
   "outputs": [
    {
     "name": "stdout",
     "output_type": "stream",
     "text": [
      "temps = [2.06115e-9, 4.53999e-5, 1.0, 22026.5]\n"
     ]
    },
    {
     "data": {
      "image/png": "[encoded data removed]",
      "image/svg+xml": [
       "<?xml version=\"1.0\" encoding=\"utf-8\"?>\n",
       "<svg xmlns=\"http://www.w3.org/2000/svg\" xmlns:xlink=\"http://www.w3.org/1999/xlink\" width=\"600\" height=\"400\" viewBox=\"0 0 2400 1600\">\n",
       "<defs>\n",
       "  <clipPath id=\"clip3500\">\n",
       "    <rect x=\"0\" y=\"0\" width=\"2400\" height=\"1600\"/>\n",
       "  </clipPath>\n",
       "</defs>\n",
       "<polygon clip-path=\"url(#clip3500)\" points=\"\n",
       "0,1600 2400,1600 2400,0 0,0 \n",
       "  \" fill=\"#ffffff\" fill-rule=\"evenodd\" fill-opacity=\"1\"/>\n",
       "<defs>\n",
       "  <clipPath id=\"clip3501\">\n",
       "    <rect x=\"480\" y=\"0\" width=\"1681\" height=\"1600\"/>\n",
       "  </clipPath>\n",
       "</defs>\n",
       "<polygon clip-path=\"url(#clip3500)\" points=\"\n",
       "267.429,1503.47 2175.08,1503.47 2175.08,47.2441 267.429,47.2441 \n",
       "  \" fill=\"#ffffff\" fill-rule=\"evenodd\" fill-opacity=\"1\"/>\n",
       "<defs>\n",
       "  <clipPath id=\"clip3502\">\n",
       "    <rect x=\"267\" y=\"47\" width=\"1909\" height=\"1457\"/>\n",
       "  </clipPath>\n",
       "</defs>\n",
       "<polyline clip-path=\"url(#clip3502)\" style=\"stroke:#000000; stroke-width:2; stroke-opacity:0.1; fill:none\" points=\"\n",
       "  321.419,1503.47 321.419,47.2441 \n",
       "  \"/>\n",
       "<polyline clip-path=\"url(#clip3502)\" style=\"stroke:#000000; stroke-width:2; stroke-opacity:0.1; fill:none\" points=\"\n",
       "  744.871,1503.47 744.871,47.2441 \n",
       "  \"/>\n",
       "<polyline clip-path=\"url(#clip3502)\" style=\"stroke:#000000; stroke-width:2; stroke-opacity:0.1; fill:none\" points=\"\n",
       "  1168.32,1503.47 1168.32,47.2441 \n",
       "  \"/>\n",
       "<polyline clip-path=\"url(#clip3502)\" style=\"stroke:#000000; stroke-width:2; stroke-opacity:0.1; fill:none\" points=\"\n",
       "  1591.78,1503.47 1591.78,47.2441 \n",
       "  \"/>\n",
       "<polyline clip-path=\"url(#clip3502)\" style=\"stroke:#000000; stroke-width:2; stroke-opacity:0.1; fill:none\" points=\"\n",
       "  2015.23,1503.47 2015.23,47.2441 \n",
       "  \"/>\n",
       "<polyline clip-path=\"url(#clip3502)\" style=\"stroke:#000000; stroke-width:2; stroke-opacity:0.1; fill:none\" points=\"\n",
       "  267.429,1409.34 2175.08,1409.34 \n",
       "  \"/>\n",
       "<polyline clip-path=\"url(#clip3502)\" style=\"stroke:#000000; stroke-width:2; stroke-opacity:0.1; fill:none\" points=\"\n",
       "  267.429,1197.62 2175.08,1197.62 \n",
       "  \"/>\n",
       "<polyline clip-path=\"url(#clip3502)\" style=\"stroke:#000000; stroke-width:2; stroke-opacity:0.1; fill:none\" points=\"\n",
       "  267.429,985.89 2175.08,985.89 \n",
       "  \"/>\n",
       "<polyline clip-path=\"url(#clip3502)\" style=\"stroke:#000000; stroke-width:2; stroke-opacity:0.1; fill:none\" points=\"\n",
       "  267.429,774.164 2175.08,774.164 \n",
       "  \"/>\n",
       "<polyline clip-path=\"url(#clip3502)\" style=\"stroke:#000000; stroke-width:2; stroke-opacity:0.1; fill:none\" points=\"\n",
       "  267.429,562.438 2175.08,562.438 \n",
       "  \"/>\n",
       "<polyline clip-path=\"url(#clip3502)\" style=\"stroke:#000000; stroke-width:2; stroke-opacity:0.1; fill:none\" points=\"\n",
       "  267.429,350.712 2175.08,350.712 \n",
       "  \"/>\n",
       "<polyline clip-path=\"url(#clip3502)\" style=\"stroke:#000000; stroke-width:2; stroke-opacity:0.1; fill:none\" points=\"\n",
       "  267.429,138.986 2175.08,138.986 \n",
       "  \"/>\n",
       "<polyline clip-path=\"url(#clip3500)\" style=\"stroke:#000000; stroke-width:4; stroke-opacity:1; fill:none\" points=\"\n",
       "  267.429,1503.47 2175.08,1503.47 \n",
       "  \"/>\n",
       "<polyline clip-path=\"url(#clip3500)\" style=\"stroke:#000000; stroke-width:4; stroke-opacity:1; fill:none\" points=\"\n",
       "  267.429,1503.47 267.429,47.2441 \n",
       "  \"/>\n",
       "<polyline clip-path=\"url(#clip3500)\" style=\"stroke:#000000; stroke-width:4; stroke-opacity:1; fill:none\" points=\"\n",
       "  321.419,1503.47 321.419,1481.63 \n",
       "  \"/>\n",
       "<polyline clip-path=\"url(#clip3500)\" style=\"stroke:#000000; stroke-width:4; stroke-opacity:1; fill:none\" points=\"\n",
       "  744.871,1503.47 744.871,1481.63 \n",
       "  \"/>\n",
       "<polyline clip-path=\"url(#clip3500)\" style=\"stroke:#000000; stroke-width:4; stroke-opacity:1; fill:none\" points=\"\n",
       "  1168.32,1503.47 1168.32,1481.63 \n",
       "  \"/>\n",
       "<polyline clip-path=\"url(#clip3500)\" style=\"stroke:#000000; stroke-width:4; stroke-opacity:1; fill:none\" points=\"\n",
       "  1591.78,1503.47 1591.78,1481.63 \n",
       "  \"/>\n",
       "<polyline clip-path=\"url(#clip3500)\" style=\"stroke:#000000; stroke-width:4; stroke-opacity:1; fill:none\" points=\"\n",
       "  2015.23,1503.47 2015.23,1481.63 \n",
       "  \"/>\n",
       "<polyline clip-path=\"url(#clip3500)\" style=\"stroke:#000000; stroke-width:4; stroke-opacity:1; fill:none\" points=\"\n",
       "  267.429,1409.34 296.044,1409.34 \n",
       "  \"/>\n",
       "<polyline clip-path=\"url(#clip3500)\" style=\"stroke:#000000; stroke-width:4; stroke-opacity:1; fill:none\" points=\"\n",
       "  267.429,1197.62 296.044,1197.62 \n",
       "  \"/>\n",
       "<polyline clip-path=\"url(#clip3500)\" style=\"stroke:#000000; stroke-width:4; stroke-opacity:1; fill:none\" points=\"\n",
       "  267.429,985.89 296.044,985.89 \n",
       "  \"/>\n",
       "<polyline clip-path=\"url(#clip3500)\" style=\"stroke:#000000; stroke-width:4; stroke-opacity:1; fill:none\" points=\"\n",
       "  267.429,774.164 296.044,774.164 \n",
       "  \"/>\n",
       "<polyline clip-path=\"url(#clip3500)\" style=\"stroke:#000000; stroke-width:4; stroke-opacity:1; fill:none\" points=\"\n",
       "  267.429,562.438 296.044,562.438 \n",
       "  \"/>\n",
       "<polyline clip-path=\"url(#clip3500)\" style=\"stroke:#000000; stroke-width:4; stroke-opacity:1; fill:none\" points=\"\n",
       "  267.429,350.712 296.044,350.712 \n",
       "  \"/>\n",
       "<polyline clip-path=\"url(#clip3500)\" style=\"stroke:#000000; stroke-width:4; stroke-opacity:1; fill:none\" points=\"\n",
       "  267.429,138.986 296.044,138.986 \n",
       "  \"/>\n",
       "<g clip-path=\"url(#clip3500)\">\n",
       "<text style=\"fill:#000000; fill-opacity:1; font-family:Arial,Helvetica Neue,Helvetica,sans-serif; font-size:48px; text-anchor:middle;\" transform=\"rotate(0, 321.419, 1557.47)\" x=\"321.419\" y=\"1557.47\">0</text>\n",
       "</g>\n",
       "<g clip-path=\"url(#clip3500)\">\n",
       "<text style=\"fill:#000000; fill-opacity:1; font-family:Arial,Helvetica Neue,Helvetica,sans-serif; font-size:48px; text-anchor:middle;\" transform=\"rotate(0, 744.871, 1557.47)\" x=\"744.871\" y=\"1557.47\">2</text>\n",
       "</g>\n",
       "<g clip-path=\"url(#clip3500)\">\n",
       "<text style=\"fill:#000000; fill-opacity:1; font-family:Arial,Helvetica Neue,Helvetica,sans-serif; font-size:48px; text-anchor:middle;\" transform=\"rotate(0, 1168.32, 1557.47)\" x=\"1168.32\" y=\"1557.47\">4</text>\n",
       "</g>\n",
       "<g clip-path=\"url(#clip3500)\">\n",
       "<text style=\"fill:#000000; fill-opacity:1; font-family:Arial,Helvetica Neue,Helvetica,sans-serif; font-size:48px; text-anchor:middle;\" transform=\"rotate(0, 1591.78, 1557.47)\" x=\"1591.78\" y=\"1557.47\">6</text>\n",
       "</g>\n",
       "<g clip-path=\"url(#clip3500)\">\n",
       "<text style=\"fill:#000000; fill-opacity:1; font-family:Arial,Helvetica Neue,Helvetica,sans-serif; font-size:48px; text-anchor:middle;\" transform=\"rotate(0, 2015.23, 1557.47)\" x=\"2015.23\" y=\"1557.47\">8</text>\n",
       "</g>\n",
       "<g clip-path=\"url(#clip3500)\">\n",
       "<text style=\"fill:#000000; fill-opacity:1; font-family:Arial,Helvetica Neue,Helvetica,sans-serif; font-size:48px; text-anchor:end;\" transform=\"rotate(0, 243.429, 1426.84)\" x=\"243.429\" y=\"1426.84\">0</text>\n",
       "</g>\n",
       "<g clip-path=\"url(#clip3500)\">\n",
       "<text style=\"fill:#000000; fill-opacity:1; font-family:Arial,Helvetica Neue,Helvetica,sans-serif; font-size:48px; text-anchor:end;\" transform=\"rotate(0, 243.429, 1215.12)\" x=\"243.429\" y=\"1215.12\">1</text>\n",
       "</g>\n",
       "<g clip-path=\"url(#clip3500)\">\n",
       "<text style=\"fill:#000000; fill-opacity:1; font-family:Arial,Helvetica Neue,Helvetica,sans-serif; font-size:48px; text-anchor:end;\" transform=\"rotate(0, 243.429, 1003.39)\" x=\"243.429\" y=\"1003.39\">2</text>\n",
       "</g>\n",
       "<g clip-path=\"url(#clip3500)\">\n",
       "<text style=\"fill:#000000; fill-opacity:1; font-family:Arial,Helvetica Neue,Helvetica,sans-serif; font-size:48px; text-anchor:end;\" transform=\"rotate(0, 243.429, 791.664)\" x=\"243.429\" y=\"791.664\">3</text>\n",
       "</g>\n",
       "<g clip-path=\"url(#clip3500)\">\n",
       "<text style=\"fill:#000000; fill-opacity:1; font-family:Arial,Helvetica Neue,Helvetica,sans-serif; font-size:48px; text-anchor:end;\" transform=\"rotate(0, 243.429, 579.938)\" x=\"243.429\" y=\"579.938\">4</text>\n",
       "</g>\n",
       "<g clip-path=\"url(#clip3500)\">\n",
       "<text style=\"fill:#000000; fill-opacity:1; font-family:Arial,Helvetica Neue,Helvetica,sans-serif; font-size:48px; text-anchor:end;\" transform=\"rotate(0, 243.429, 368.212)\" x=\"243.429\" y=\"368.212\">5</text>\n",
       "</g>\n",
       "<g clip-path=\"url(#clip3500)\">\n",
       "<text style=\"fill:#000000; fill-opacity:1; font-family:Arial,Helvetica Neue,Helvetica,sans-serif; font-size:48px; text-anchor:end;\" transform=\"rotate(0, 243.429, 156.486)\" x=\"243.429\" y=\"156.486\">6</text>\n",
       "</g>\n",
       "<polyline clip-path=\"url(#clip3502)\" style=\"stroke:#009af9; stroke-width:4; stroke-opacity:1; fill:none\" points=\"\n",
       "  321.419,1409.34 321.419,1409.34 329.082,1386.02 336.745,1362.91 344.408,1340 352.071,1317.31 359.734,1294.82 367.397,1272.53 375.06,1250.46 382.723,1228.59 \n",
       "  390.386,1206.93 398.049,1185.48 405.712,1164.24 413.375,1143.2 421.038,1122.38 428.701,1101.75 436.364,1081.34 444.027,1061.14 451.689,1041.14 459.352,1021.35 \n",
       "  467.015,1001.77 474.678,982.394 482.341,963.227 490.004,944.268 497.667,925.517 505.33,906.974 512.993,888.638 520.656,870.51 528.319,852.589 535.982,834.877 \n",
       "  543.645,817.372 551.308,800.075 558.971,782.985 566.634,766.103 574.297,749.429 581.96,732.963 589.623,716.704 597.286,700.653 604.949,684.81 612.611,669.174 \n",
       "  620.274,653.746 627.937,638.526 635.6,623.513 643.263,608.709 650.926,594.112 658.589,579.722 666.252,565.541 673.915,551.567 681.578,537.8 689.241,524.242 \n",
       "  696.904,510.891 704.567,497.748 712.23,484.812 719.893,472.084 727.556,459.564 735.219,447.252 742.882,435.147 750.545,423.25 758.208,411.561 765.871,400.08 \n",
       "  773.534,388.806 781.196,377.74 788.859,366.881 796.522,356.231 804.185,345.788 811.848,335.552 819.511,325.525 827.174,315.705 834.837,306.092 842.5,296.688 \n",
       "  850.163,287.491 857.826,278.502 865.489,269.721 873.152,261.147 880.815,252.781 888.478,244.623 896.141,236.672 903.804,228.929 911.467,221.394 919.13,214.067 \n",
       "  926.793,206.947 934.456,200.035 942.118,193.33 949.781,186.834 957.444,180.545 965.107,174.464 972.77,168.59 980.433,162.924 988.096,157.466 995.759,152.216 \n",
       "  1003.42,147.173 1011.09,142.338 1018.75,137.71 1026.41,133.291 1034.07,129.079 1041.74,125.075 1049.4,121.278 1057.06,117.689 1064.73,114.308 1072.39,111.135 \n",
       "  1080.05,108.169 1087.71,105.411 1095.38,102.861 1103.04,100.518 1110.7,98.3834 1118.37,96.4562 1126.03,94.7367 1133.69,93.2249 1141.36,91.9209 1149.02,90.8245 \n",
       "  1156.68,89.9358 1164.34,89.2548 1172.01,88.7816 1179.67,88.516 1187.33,88.4582 1195,88.608 1202.66,88.9656 1210.32,89.5308 1217.98,90.3038 1225.65,91.2844 \n",
       "  1233.31,92.4728 1240.97,93.8689 1248.64,95.4726 1256.3,97.2841 1263.96,99.3033 1271.63,101.53 1279.29,103.965 1286.95,106.607 1294.61,109.457 1302.28,112.515 \n",
       "  1309.94,115.78 1317.6,119.253 1325.27,122.934 1332.93,126.823 1340.59,130.919 1348.26,135.223 1355.92,139.734 1363.58,144.454 1371.24,149.381 1378.91,154.515 \n",
       "  1386.57,159.858 1394.23,165.408 1401.9,171.166 1409.56,177.131 1417.22,183.305 1424.88,189.685 1432.55,196.274 1440.21,203.07 1447.87,210.075 1455.54,217.286 \n",
       "  1463.2,224.706 1470.86,232.333 1478.53,240.168 1486.19,248.21 1493.85,256.461 1501.51,264.919 1509.18,273.584 1516.84,282.458 1524.5,291.539 1532.17,300.828 \n",
       "  1539.83,310.324 1547.49,320.028 1555.15,329.94 1562.82,340.06 1570.48,350.387 1578.14,360.922 1585.81,371.665 1593.47,382.615 1601.13,393.773 1608.8,405.139 \n",
       "  1616.46,416.713 1624.12,428.494 1631.78,440.483 1639.45,452.68 1647.11,465.084 1654.77,477.696 1662.44,490.516 1670.1,503.543 1677.76,516.778 1685.42,530.221 \n",
       "  1693.09,543.872 1700.75,557.73 1708.41,571.796 1716.08,586.07 1723.74,600.551 1731.4,615.24 1739.07,630.137 1746.73,645.241 1754.39,660.553 1762.05,676.073 \n",
       "  1769.72,691.801 1777.38,707.736 1785.04,723.879 1792.71,740.23 1800.37,756.788 1808.03,773.555 1815.7,790.528 1823.36,807.71 1831.02,825.099 1838.68,842.696 \n",
       "  1846.35,860.501 1854.01,878.513 1861.67,896.733 1869.34,915.161 1877,933.796 1884.66,952.639 1892.32,971.69 1899.99,990.949 1907.65,1010.41 1915.31,1030.09 \n",
       "  1922.98,1049.97 1930.64,1070.06 1938.3,1090.36 1945.97,1110.86 1953.63,1131.57 1961.29,1152.49 1968.95,1173.62 1976.62,1194.96 1984.28,1216.5 1991.94,1238.25 \n",
       "  1999.61,1260.21 2007.27,1282.38 2014.93,1304.75 2022.59,1327.33 2030.26,1350.12 2037.92,1373.12 2045.58,1396.32 \n",
       "  \"/>\n",
       "<polygon clip-path=\"url(#clip3502)\" points=\"\n",
       "2121.09,1356.41 2120.88,1349.7 2120.24,1343.01 2119.18,1336.38 2117.7,1329.82 2115.81,1323.38 2113.51,1317.07 2110.81,1310.91 2107.74,1304.94 2104.29,1299.18 \n",
       "  2100.48,1293.64 2096.32,1288.36 2091.84,1283.36 2087.06,1278.64 2081.98,1274.25 2076.63,1270.18 2071.04,1266.46 2065.22,1263.1 2059.21,1260.11 2053.01,1257.52 \n",
       "  2046.66,1255.32 2040.19,1253.53 2033.61,1252.16 2026.96,1251.2 2020.27,1250.67 2013.55,1250.56 2006.84,1250.88 2000.16,1251.63 1993.55,1252.79 1987.02,1254.38 \n",
       "  1980.6,1256.37 1974.33,1258.77 1968.22,1261.56 1962.3,1264.73 1956.59,1268.27 1951.12,1272.17 1945.9,1276.4 1940.97,1280.96 1936.33,1285.82 1932.01,1290.97 \n",
       "  1928.03,1296.38 1924.4,1302.03 1921.13,1307.9 1918.25,1313.97 1915.75,1320.2 1913.65,1326.59 1911.97,1333.09 1910.69,1339.68 1909.84,1346.35 1909.42,1353.05 \n",
       "  1909.42,1359.77 1909.84,1366.47 1910.69,1373.14 1911.97,1379.73 1913.65,1386.24 1915.75,1392.62 1918.25,1398.85 1921.13,1404.92 1924.4,1410.79 1928.03,1416.44 \n",
       "  1932.01,1421.85 1936.33,1427 1940.97,1431.86 1945.9,1436.42 1951.12,1440.65 1956.59,1444.55 1962.3,1448.09 1968.22,1451.26 1974.33,1454.05 1980.6,1456.45 \n",
       "  1987.02,1458.45 1993.55,1460.03 2000.16,1461.2 2006.84,1461.94 2013.55,1462.26 2020.27,1462.15 2026.96,1461.62 2033.61,1460.67 2040.19,1459.29 2046.66,1457.5 \n",
       "  2053.01,1455.3 2059.21,1452.71 2065.22,1449.72 2071.04,1446.37 2076.63,1442.64 2081.98,1438.58 2087.06,1434.18 2091.84,1429.46 2096.32,1424.46 2100.48,1419.18 \n",
       "  2104.29,1413.64 2107.74,1407.88 2110.81,1401.91 2113.51,1395.76 2115.81,1389.44 2117.7,1383 2119.18,1376.45 2120.24,1369.81 2120.88,1363.13 2121.09,1356.41 \n",
       "  2121.09,1356.41 \n",
       "  \" fill=\"#ffff00\" fill-rule=\"evenodd\" fill-opacity=\"1\"/>\n",
       "<polyline clip-path=\"url(#clip3502)\" style=\"stroke:#000000; stroke-width:4; stroke-opacity:1; fill:none\" points=\"\n",
       "  2121.09,1356.41 2120.88,1349.7 2120.24,1343.01 2119.18,1336.38 2117.7,1329.82 2115.81,1323.38 2113.51,1317.07 2110.81,1310.91 2107.74,1304.94 2104.29,1299.18 \n",
       "  2100.48,1293.64 2096.32,1288.36 2091.84,1283.36 2087.06,1278.64 2081.98,1274.25 2076.63,1270.18 2071.04,1266.46 2065.22,1263.1 2059.21,1260.11 2053.01,1257.52 \n",
       "  2046.66,1255.32 2040.19,1253.53 2033.61,1252.16 2026.96,1251.2 2020.27,1250.67 2013.55,1250.56 2006.84,1250.88 2000.16,1251.63 1993.55,1252.79 1987.02,1254.38 \n",
       "  1980.6,1256.37 1974.33,1258.77 1968.22,1261.56 1962.3,1264.73 1956.59,1268.27 1951.12,1272.17 1945.9,1276.4 1940.97,1280.96 1936.33,1285.82 1932.01,1290.97 \n",
       "  1928.03,1296.38 1924.4,1302.03 1921.13,1307.9 1918.25,1313.97 1915.75,1320.2 1913.65,1326.59 1911.97,1333.09 1910.69,1339.68 1909.84,1346.35 1909.42,1353.05 \n",
       "  1909.42,1359.77 1909.84,1366.47 1910.69,1373.14 1911.97,1379.73 1913.65,1386.24 1915.75,1392.62 1918.25,1398.85 1921.13,1404.92 1924.4,1410.79 1928.03,1416.44 \n",
       "  1932.01,1421.85 1936.33,1427 1940.97,1431.86 1945.9,1436.42 1951.12,1440.65 1956.59,1444.55 1962.3,1448.09 1968.22,1451.26 1974.33,1454.05 1980.6,1456.45 \n",
       "  1987.02,1458.45 1993.55,1460.03 2000.16,1461.2 2006.84,1461.94 2013.55,1462.26 2020.27,1462.15 2026.96,1461.62 2033.61,1460.67 2040.19,1459.29 2046.66,1457.5 \n",
       "  2053.01,1455.3 2059.21,1452.71 2065.22,1449.72 2071.04,1446.37 2076.63,1442.64 2081.98,1438.58 2087.06,1434.18 2091.84,1429.46 2096.32,1424.46 2100.48,1419.18 \n",
       "  2104.29,1413.64 2107.74,1407.88 2110.81,1401.91 2113.51,1395.76 2115.81,1389.44 2117.7,1383 2119.18,1376.45 2120.24,1369.81 2120.88,1363.13 2121.09,1356.41 \n",
       "  \n",
       "  \"/>\n",
       "<polygon clip-path=\"url(#clip3500)\" points=\"\n",
       "1761.42,312.204 2103.08,312.204 2103.08,130.764 1761.42,130.764 \n",
       "  \" fill=\"#ffffff\" fill-rule=\"evenodd\" fill-opacity=\"1\"/>\n",
       "<polyline clip-path=\"url(#clip3500)\" style=\"stroke:#000000; stroke-width:4; stroke-opacity:1; fill:none\" points=\"\n",
       "  1761.42,312.204 2103.08,312.204 2103.08,130.764 1761.42,130.764 1761.42,312.204 \n",
       "  \"/>\n",
       "<polyline clip-path=\"url(#clip3500)\" style=\"stroke:#009af9; stroke-width:4; stroke-opacity:1; fill:none\" points=\"\n",
       "  1785.42,191.244 1929.42,191.244 \n",
       "  \"/>\n",
       "<g clip-path=\"url(#clip3500)\">\n",
       "<text style=\"fill:#000000; fill-opacity:1; font-family:Arial,Helvetica Neue,Helvetica,sans-serif; font-size:48px; text-anchor:start;\" transform=\"rotate(0, 1953.42, 208.744)\" x=\"1953.42\" y=\"208.744\">y1</text>\n",
       "</g>\n",
       "<polygon clip-path=\"url(#clip3500)\" points=\"\n",
       "1785.42,275.916 1929.42,275.916 1929.42,227.532 1785.42,227.532 1785.42,275.916 \n",
       "  \" fill=\"#ffff00\" fill-rule=\"evenodd\" fill-opacity=\"1\"/>\n",
       "<polyline clip-path=\"url(#clip3500)\" style=\"stroke:#000000; stroke-width:4; stroke-opacity:1; fill:none\" points=\"\n",
       "  1785.42,275.916 1929.42,275.916 1929.42,227.532 1785.42,227.532 1785.42,275.916 \n",
       "  \"/>\n",
       "<g clip-path=\"url(#clip3500)\">\n",
       "<text style=\"fill:#000000; fill-opacity:1; font-family:Arial,Helvetica Neue,Helvetica,sans-serif; font-size:48px; text-anchor:start;\" transform=\"rotate(0, 1953.42, 269.224)\" x=\"1953.42\" y=\"269.224\">false</text>\n",
       "</g>\n",
       "</svg>\n"
      ],
      "text/html": [
       "<?xml version=\"1.0\" encoding=\"utf-8\"?>\n",
       "<svg xmlns=\"http://www.w3.org/2000/svg\" xmlns:xlink=\"http://www.w3.org/1999/xlink\" width=\"600\" height=\"400\" viewBox=\"0 0 2400 1600\">\n",
       "<defs>\n",
       "  <clipPath id=\"clip3800\">\n",
       "    <rect x=\"0\" y=\"0\" width=\"2400\" height=\"1600\"/>\n",
       "  </clipPath>\n",
       "</defs>\n",
       "<polygon clip-path=\"url(#clip3800)\" points=\"\n",
       "0,1600 2400,1600 2400,0 0,0 \n",
       "  \" fill=\"#ffffff\" fill-rule=\"evenodd\" fill-opacity=\"1\"/>\n",
       "<defs>\n",
       "  <clipPath id=\"clip3801\">\n",
       "    <rect x=\"480\" y=\"0\" width=\"1681\" height=\"1600\"/>\n",
       "  </clipPath>\n",
       "</defs>\n",
       "<polygon clip-path=\"url(#clip3800)\" points=\"\n",
       "267.429,1503.47 2175.08,1503.47 2175.08,47.2441 267.429,47.2441 \n",
       "  \" fill=\"#ffffff\" fill-rule=\"evenodd\" fill-opacity=\"1\"/>\n",
       "<defs>\n",
       "  <clipPath id=\"clip3802\">\n",
       "    <rect x=\"267\" y=\"47\" width=\"1909\" height=\"1457\"/>\n",
       "  </clipPath>\n",
       "</defs>\n",
       "<polyline clip-path=\"url(#clip3802)\" style=\"stroke:#000000; stroke-width:2; stroke-opacity:0.1; fill:none\" points=\"\n",
       "  321.419,1503.47 321.419,47.2441 \n",
       "  \"/>\n",
       "<polyline clip-path=\"url(#clip3802)\" style=\"stroke:#000000; stroke-width:2; stroke-opacity:0.1; fill:none\" points=\"\n",
       "  744.871,1503.47 744.871,47.2441 \n",
       "  \"/>\n",
       "<polyline clip-path=\"url(#clip3802)\" style=\"stroke:#000000; stroke-width:2; stroke-opacity:0.1; fill:none\" points=\"\n",
       "  1168.32,1503.47 1168.32,47.2441 \n",
       "  \"/>\n",
       "<polyline clip-path=\"url(#clip3802)\" style=\"stroke:#000000; stroke-width:2; stroke-opacity:0.1; fill:none\" points=\"\n",
       "  1591.78,1503.47 1591.78,47.2441 \n",
       "  \"/>\n",
       "<polyline clip-path=\"url(#clip3802)\" style=\"stroke:#000000; stroke-width:2; stroke-opacity:0.1; fill:none\" points=\"\n",
       "  2015.23,1503.47 2015.23,47.2441 \n",
       "  \"/>\n",
       "<polyline clip-path=\"url(#clip3802)\" style=\"stroke:#000000; stroke-width:2; stroke-opacity:0.1; fill:none\" points=\"\n",
       "  267.429,1409.34 2175.08,1409.34 \n",
       "  \"/>\n",
       "<polyline clip-path=\"url(#clip3802)\" style=\"stroke:#000000; stroke-width:2; stroke-opacity:0.1; fill:none\" points=\"\n",
       "  267.429,1197.62 2175.08,1197.62 \n",
       "  \"/>\n",
       "<polyline clip-path=\"url(#clip3802)\" style=\"stroke:#000000; stroke-width:2; stroke-opacity:0.1; fill:none\" points=\"\n",
       "  267.429,985.89 2175.08,985.89 \n",
       "  \"/>\n",
       "<polyline clip-path=\"url(#clip3802)\" style=\"stroke:#000000; stroke-width:2; stroke-opacity:0.1; fill:none\" points=\"\n",
       "  267.429,774.164 2175.08,774.164 \n",
       "  \"/>\n",
       "<polyline clip-path=\"url(#clip3802)\" style=\"stroke:#000000; stroke-width:2; stroke-opacity:0.1; fill:none\" points=\"\n",
       "  267.429,562.438 2175.08,562.438 \n",
       "  \"/>\n",
       "<polyline clip-path=\"url(#clip3802)\" style=\"stroke:#000000; stroke-width:2; stroke-opacity:0.1; fill:none\" points=\"\n",
       "  267.429,350.712 2175.08,350.712 \n",
       "  \"/>\n",
       "<polyline clip-path=\"url(#clip3802)\" style=\"stroke:#000000; stroke-width:2; stroke-opacity:0.1; fill:none\" points=\"\n",
       "  267.429,138.986 2175.08,138.986 \n",
       "  \"/>\n",
       "<polyline clip-path=\"url(#clip3800)\" style=\"stroke:#000000; stroke-width:4; stroke-opacity:1; fill:none\" points=\"\n",
       "  267.429,1503.47 2175.08,1503.47 \n",
       "  \"/>\n",
       "<polyline clip-path=\"url(#clip3800)\" style=\"stroke:#000000; stroke-width:4; stroke-opacity:1; fill:none\" points=\"\n",
       "  267.429,1503.47 267.429,47.2441 \n",
       "  \"/>\n",
       "<polyline clip-path=\"url(#clip3800)\" style=\"stroke:#000000; stroke-width:4; stroke-opacity:1; fill:none\" points=\"\n",
       "  321.419,1503.47 321.419,1481.63 \n",
       "  \"/>\n",
       "<polyline clip-path=\"url(#clip3800)\" style=\"stroke:#000000; stroke-width:4; stroke-opacity:1; fill:none\" points=\"\n",
       "  744.871,1503.47 744.871,1481.63 \n",
       "  \"/>\n",
       "<polyline clip-path=\"url(#clip3800)\" style=\"stroke:#000000; stroke-width:4; stroke-opacity:1; fill:none\" points=\"\n",
       "  1168.32,1503.47 1168.32,1481.63 \n",
       "  \"/>\n",
       "<polyline clip-path=\"url(#clip3800)\" style=\"stroke:#000000; stroke-width:4; stroke-opacity:1; fill:none\" points=\"\n",
       "  1591.78,1503.47 1591.78,1481.63 \n",
       "  \"/>\n",
       "<polyline clip-path=\"url(#clip3800)\" style=\"stroke:#000000; stroke-width:4; stroke-opacity:1; fill:none\" points=\"\n",
       "  2015.23,1503.47 2015.23,1481.63 \n",
       "  \"/>\n",
       "<polyline clip-path=\"url(#clip3800)\" style=\"stroke:#000000; stroke-width:4; stroke-opacity:1; fill:none\" points=\"\n",
       "  267.429,1409.34 296.044,1409.34 \n",
       "  \"/>\n",
       "<polyline clip-path=\"url(#clip3800)\" style=\"stroke:#000000; stroke-width:4; stroke-opacity:1; fill:none\" points=\"\n",
       "  267.429,1197.62 296.044,1197.62 \n",
       "  \"/>\n",
       "<polyline clip-path=\"url(#clip3800)\" style=\"stroke:#000000; stroke-width:4; stroke-opacity:1; fill:none\" points=\"\n",
       "  267.429,985.89 296.044,985.89 \n",
       "  \"/>\n",
       "<polyline clip-path=\"url(#clip3800)\" style=\"stroke:#000000; stroke-width:4; stroke-opacity:1; fill:none\" points=\"\n",
       "  267.429,774.164 296.044,774.164 \n",
       "  \"/>\n",
       "<polyline clip-path=\"url(#clip3800)\" style=\"stroke:#000000; stroke-width:4; stroke-opacity:1; fill:none\" points=\"\n",
       "  267.429,562.438 296.044,562.438 \n",
       "  \"/>\n",
       "<polyline clip-path=\"url(#clip3800)\" style=\"stroke:#000000; stroke-width:4; stroke-opacity:1; fill:none\" points=\"\n",
       "  267.429,350.712 296.044,350.712 \n",
       "  \"/>\n",
       "<polyline clip-path=\"url(#clip3800)\" style=\"stroke:#000000; stroke-width:4; stroke-opacity:1; fill:none\" points=\"\n",
       "  267.429,138.986 296.044,138.986 \n",
       "  \"/>\n",
       "<g clip-path=\"url(#clip3800)\">\n",
       "<text style=\"fill:#000000; fill-opacity:1; font-family:Arial,Helvetica Neue,Helvetica,sans-serif; font-size:48px; text-anchor:middle;\" transform=\"rotate(0, 321.419, 1557.47)\" x=\"321.419\" y=\"1557.47\">0</text>\n",
       "</g>\n",
       "<g clip-path=\"url(#clip3800)\">\n",
       "<text style=\"fill:#000000; fill-opacity:1; font-family:Arial,Helvetica Neue,Helvetica,sans-serif; font-size:48px; text-anchor:middle;\" transform=\"rotate(0, 744.871, 1557.47)\" x=\"744.871\" y=\"1557.47\">2</text>\n",
       "</g>\n",
       "<g clip-path=\"url(#clip3800)\">\n",
       "<text style=\"fill:#000000; fill-opacity:1; font-family:Arial,Helvetica Neue,Helvetica,sans-serif; font-size:48px; text-anchor:middle;\" transform=\"rotate(0, 1168.32, 1557.47)\" x=\"1168.32\" y=\"1557.47\">4</text>\n",
       "</g>\n",
       "<g clip-path=\"url(#clip3800)\">\n",
       "<text style=\"fill:#000000; fill-opacity:1; font-family:Arial,Helvetica Neue,Helvetica,sans-serif; font-size:48px; text-anchor:middle;\" transform=\"rotate(0, 1591.78, 1557.47)\" x=\"1591.78\" y=\"1557.47\">6</text>\n",
       "</g>\n",
       "<g clip-path=\"url(#clip3800)\">\n",
       "<text style=\"fill:#000000; fill-opacity:1; font-family:Arial,Helvetica Neue,Helvetica,sans-serif; font-size:48px; text-anchor:middle;\" transform=\"rotate(0, 2015.23, 1557.47)\" x=\"2015.23\" y=\"1557.47\">8</text>\n",
       "</g>\n",
       "<g clip-path=\"url(#clip3800)\">\n",
       "<text style=\"fill:#000000; fill-opacity:1; font-family:Arial,Helvetica Neue,Helvetica,sans-serif; font-size:48px; text-anchor:end;\" transform=\"rotate(0, 243.429, 1426.84)\" x=\"243.429\" y=\"1426.84\">0</text>\n",
       "</g>\n",
       "<g clip-path=\"url(#clip3800)\">\n",
       "<text style=\"fill:#000000; fill-opacity:1; font-family:Arial,Helvetica Neue,Helvetica,sans-serif; font-size:48px; text-anchor:end;\" transform=\"rotate(0, 243.429, 1215.12)\" x=\"243.429\" y=\"1215.12\">1</text>\n",
       "</g>\n",
       "<g clip-path=\"url(#clip3800)\">\n",
       "<text style=\"fill:#000000; fill-opacity:1; font-family:Arial,Helvetica Neue,Helvetica,sans-serif; font-size:48px; text-anchor:end;\" transform=\"rotate(0, 243.429, 1003.39)\" x=\"243.429\" y=\"1003.39\">2</text>\n",
       "</g>\n",
       "<g clip-path=\"url(#clip3800)\">\n",
       "<text style=\"fill:#000000; fill-opacity:1; font-family:Arial,Helvetica Neue,Helvetica,sans-serif; font-size:48px; text-anchor:end;\" transform=\"rotate(0, 243.429, 791.664)\" x=\"243.429\" y=\"791.664\">3</text>\n",
       "</g>\n",
       "<g clip-path=\"url(#clip3800)\">\n",
       "<text style=\"fill:#000000; fill-opacity:1; font-family:Arial,Helvetica Neue,Helvetica,sans-serif; font-size:48px; text-anchor:end;\" transform=\"rotate(0, 243.429, 579.938)\" x=\"243.429\" y=\"579.938\">4</text>\n",
       "</g>\n",
       "<g clip-path=\"url(#clip3800)\">\n",
       "<text style=\"fill:#000000; fill-opacity:1; font-family:Arial,Helvetica Neue,Helvetica,sans-serif; font-size:48px; text-anchor:end;\" transform=\"rotate(0, 243.429, 368.212)\" x=\"243.429\" y=\"368.212\">5</text>\n",
       "</g>\n",
       "<g clip-path=\"url(#clip3800)\">\n",
       "<text style=\"fill:#000000; fill-opacity:1; font-family:Arial,Helvetica Neue,Helvetica,sans-serif; font-size:48px; text-anchor:end;\" transform=\"rotate(0, 243.429, 156.486)\" x=\"243.429\" y=\"156.486\">6</text>\n",
       "</g>\n",
       "<polyline clip-path=\"url(#clip3802)\" style=\"stroke:#009af9; stroke-width:4; stroke-opacity:1; fill:none\" points=\"\n",
       "  321.419,1409.34 321.419,1409.34 329.082,1386.02 336.745,1362.91 344.408,1340 352.071,1317.31 359.734,1294.82 367.397,1272.53 375.06,1250.46 382.723,1228.59 \n",
       "  390.386,1206.93 398.049,1185.48 405.712,1164.24 413.375,1143.2 421.038,1122.38 428.701,1101.75 436.364,1081.34 444.027,1061.14 451.689,1041.14 459.352,1021.35 \n",
       "  467.015,1001.77 474.678,982.394 482.341,963.227 490.004,944.268 497.667,925.517 505.33,906.974 512.993,888.638 520.656,870.51 528.319,852.589 535.982,834.877 \n",
       "  543.645,817.372 551.308,800.075 558.971,782.985 566.634,766.103 574.297,749.429 581.96,732.963 589.623,716.704 597.286,700.653 604.949,684.81 612.611,669.174 \n",
       "  620.274,653.746 627.937,638.526 635.6,623.513 643.263,608.709 650.926,594.112 658.589,579.722 666.252,565.541 673.915,551.567 681.578,537.8 689.241,524.242 \n",
       "  696.904,510.891 704.567,497.748 712.23,484.812 719.893,472.084 727.556,459.564 735.219,447.252 742.882,435.147 750.545,423.25 758.208,411.561 765.871,400.08 \n",
       "  773.534,388.806 781.196,377.74 788.859,366.881 796.522,356.231 804.185,345.788 811.848,335.552 819.511,325.525 827.174,315.705 834.837,306.092 842.5,296.688 \n",
       "  850.163,287.491 857.826,278.502 865.489,269.721 873.152,261.147 880.815,252.781 888.478,244.623 896.141,236.672 903.804,228.929 911.467,221.394 919.13,214.067 \n",
       "  926.793,206.947 934.456,200.035 942.118,193.33 949.781,186.834 957.444,180.545 965.107,174.464 972.77,168.59 980.433,162.924 988.096,157.466 995.759,152.216 \n",
       "  1003.42,147.173 1011.09,142.338 1018.75,137.71 1026.41,133.291 1034.07,129.079 1041.74,125.075 1049.4,121.278 1057.06,117.689 1064.73,114.308 1072.39,111.135 \n",
       "  1080.05,108.169 1087.71,105.411 1095.38,102.861 1103.04,100.518 1110.7,98.3834 1118.37,96.4562 1126.03,94.7367 1133.69,93.2249 1141.36,91.9209 1149.02,90.8245 \n",
       "  1156.68,89.9358 1164.34,89.2548 1172.01,88.7816 1179.67,88.516 1187.33,88.4582 1195,88.608 1202.66,88.9656 1210.32,89.5308 1217.98,90.3038 1225.65,91.2844 \n",
       "  1233.31,92.4728 1240.97,93.8689 1248.64,95.4726 1256.3,97.2841 1263.96,99.3033 1271.63,101.53 1279.29,103.965 1286.95,106.607 1294.61,109.457 1302.28,112.515 \n",
       "  1309.94,115.78 1317.6,119.253 1325.27,122.934 1332.93,126.823 1340.59,130.919 1348.26,135.223 1355.92,139.734 1363.58,144.454 1371.24,149.381 1378.91,154.515 \n",
       "  1386.57,159.858 1394.23,165.408 1401.9,171.166 1409.56,177.131 1417.22,183.305 1424.88,189.685 1432.55,196.274 1440.21,203.07 1447.87,210.075 1455.54,217.286 \n",
       "  1463.2,224.706 1470.86,232.333 1478.53,240.168 1486.19,248.21 1493.85,256.461 1501.51,264.919 1509.18,273.584 1516.84,282.458 1524.5,291.539 1532.17,300.828 \n",
       "  1539.83,310.324 1547.49,320.028 1555.15,329.94 1562.82,340.06 1570.48,350.387 1578.14,360.922 1585.81,371.665 1593.47,382.615 1601.13,393.773 1608.8,405.139 \n",
       "  1616.46,416.713 1624.12,428.494 1631.78,440.483 1639.45,452.68 1647.11,465.084 1654.77,477.696 1662.44,490.516 1670.1,503.543 1677.76,516.778 1685.42,530.221 \n",
       "  1693.09,543.872 1700.75,557.73 1708.41,571.796 1716.08,586.07 1723.74,600.551 1731.4,615.24 1739.07,630.137 1746.73,645.241 1754.39,660.553 1762.05,676.073 \n",
       "  1769.72,691.801 1777.38,707.736 1785.04,723.879 1792.71,740.23 1800.37,756.788 1808.03,773.555 1815.7,790.528 1823.36,807.71 1831.02,825.099 1838.68,842.696 \n",
       "  1846.35,860.501 1854.01,878.513 1861.67,896.733 1869.34,915.161 1877,933.796 1884.66,952.639 1892.32,971.69 1899.99,990.949 1907.65,1010.41 1915.31,1030.09 \n",
       "  1922.98,1049.97 1930.64,1070.06 1938.3,1090.36 1945.97,1110.86 1953.63,1131.57 1961.29,1152.49 1968.95,1173.62 1976.62,1194.96 1984.28,1216.5 1991.94,1238.25 \n",
       "  1999.61,1260.21 2007.27,1282.38 2014.93,1304.75 2022.59,1327.33 2030.26,1350.12 2037.92,1373.12 2045.58,1396.32 \n",
       "  \"/>\n",
       "<polygon clip-path=\"url(#clip3802)\" points=\"\n",
       "2121.09,1356.41 2120.88,1349.7 2120.24,1343.01 2119.18,1336.38 2117.7,1329.82 2115.81,1323.38 2113.51,1317.07 2110.81,1310.91 2107.74,1304.94 2104.29,1299.18 \n",
       "  2100.48,1293.64 2096.32,1288.36 2091.84,1283.36 2087.06,1278.64 2081.98,1274.25 2076.63,1270.18 2071.04,1266.46 2065.22,1263.1 2059.21,1260.11 2053.01,1257.52 \n",
       "  2046.66,1255.32 2040.19,1253.53 2033.61,1252.16 2026.96,1251.2 2020.27,1250.67 2013.55,1250.56 2006.84,1250.88 2000.16,1251.63 1993.55,1252.79 1987.02,1254.38 \n",
       "  1980.6,1256.37 1974.33,1258.77 1968.22,1261.56 1962.3,1264.73 1956.59,1268.27 1951.12,1272.17 1945.9,1276.4 1940.97,1280.96 1936.33,1285.82 1932.01,1290.97 \n",
       "  1928.03,1296.38 1924.4,1302.03 1921.13,1307.9 1918.25,1313.97 1915.75,1320.2 1913.65,1326.59 1911.97,1333.09 1910.69,1339.68 1909.84,1346.35 1909.42,1353.05 \n",
       "  1909.42,1359.77 1909.84,1366.47 1910.69,1373.14 1911.97,1379.73 1913.65,1386.24 1915.75,1392.62 1918.25,1398.85 1921.13,1404.92 1924.4,1410.79 1928.03,1416.44 \n",
       "  1932.01,1421.85 1936.33,1427 1940.97,1431.86 1945.9,1436.42 1951.12,1440.65 1956.59,1444.55 1962.3,1448.09 1968.22,1451.26 1974.33,1454.05 1980.6,1456.45 \n",
       "  1987.02,1458.45 1993.55,1460.03 2000.16,1461.2 2006.84,1461.94 2013.55,1462.26 2020.27,1462.15 2026.96,1461.62 2033.61,1460.67 2040.19,1459.29 2046.66,1457.5 \n",
       "  2053.01,1455.3 2059.21,1452.71 2065.22,1449.72 2071.04,1446.37 2076.63,1442.64 2081.98,1438.58 2087.06,1434.18 2091.84,1429.46 2096.32,1424.46 2100.48,1419.18 \n",
       "  2104.29,1413.64 2107.74,1407.88 2110.81,1401.91 2113.51,1395.76 2115.81,1389.44 2117.7,1383 2119.18,1376.45 2120.24,1369.81 2120.88,1363.13 2121.09,1356.41 \n",
       "  2121.09,1356.41 \n",
       "  \" fill=\"#ffff00\" fill-rule=\"evenodd\" fill-opacity=\"1\"/>\n",
       "<polyline clip-path=\"url(#clip3802)\" style=\"stroke:#000000; stroke-width:4; stroke-opacity:1; fill:none\" points=\"\n",
       "  2121.09,1356.41 2120.88,1349.7 2120.24,1343.01 2119.18,1336.38 2117.7,1329.82 2115.81,1323.38 2113.51,1317.07 2110.81,1310.91 2107.74,1304.94 2104.29,1299.18 \n",
       "  2100.48,1293.64 2096.32,1288.36 2091.84,1283.36 2087.06,1278.64 2081.98,1274.25 2076.63,1270.18 2071.04,1266.46 2065.22,1263.1 2059.21,1260.11 2053.01,1257.52 \n",
       "  2046.66,1255.32 2040.19,1253.53 2033.61,1252.16 2026.96,1251.2 2020.27,1250.67 2013.55,1250.56 2006.84,1250.88 2000.16,1251.63 1993.55,1252.79 1987.02,1254.38 \n",
       "  1980.6,1256.37 1974.33,1258.77 1968.22,1261.56 1962.3,1264.73 1956.59,1268.27 1951.12,1272.17 1945.9,1276.4 1940.97,1280.96 1936.33,1285.82 1932.01,1290.97 \n",
       "  1928.03,1296.38 1924.4,1302.03 1921.13,1307.9 1918.25,1313.97 1915.75,1320.2 1913.65,1326.59 1911.97,1333.09 1910.69,1339.68 1909.84,1346.35 1909.42,1353.05 \n",
       "  1909.42,1359.77 1909.84,1366.47 1910.69,1373.14 1911.97,1379.73 1913.65,1386.24 1915.75,1392.62 1918.25,1398.85 1921.13,1404.92 1924.4,1410.79 1928.03,1416.44 \n",
       "  1932.01,1421.85 1936.33,1427 1940.97,1431.86 1945.9,1436.42 1951.12,1440.65 1956.59,1444.55 1962.3,1448.09 1968.22,1451.26 1974.33,1454.05 1980.6,1456.45 \n",
       "  1987.02,1458.45 1993.55,1460.03 2000.16,1461.2 2006.84,1461.94 2013.55,1462.26 2020.27,1462.15 2026.96,1461.62 2033.61,1460.67 2040.19,1459.29 2046.66,1457.5 \n",
       "  2053.01,1455.3 2059.21,1452.71 2065.22,1449.72 2071.04,1446.37 2076.63,1442.64 2081.98,1438.58 2087.06,1434.18 2091.84,1429.46 2096.32,1424.46 2100.48,1419.18 \n",
       "  2104.29,1413.64 2107.74,1407.88 2110.81,1401.91 2113.51,1395.76 2115.81,1389.44 2117.7,1383 2119.18,1376.45 2120.24,1369.81 2120.88,1363.13 2121.09,1356.41 \n",
       "  \n",
       "  \"/>\n",
       "<polygon clip-path=\"url(#clip3800)\" points=\"\n",
       "1761.42,312.204 2103.08,312.204 2103.08,130.764 1761.42,130.764 \n",
       "  \" fill=\"#ffffff\" fill-rule=\"evenodd\" fill-opacity=\"1\"/>\n",
       "<polyline clip-path=\"url(#clip3800)\" style=\"stroke:#000000; stroke-width:4; stroke-opacity:1; fill:none\" points=\"\n",
       "  1761.42,312.204 2103.08,312.204 2103.08,130.764 1761.42,130.764 1761.42,312.204 \n",
       "  \"/>\n",
       "<polyline clip-path=\"url(#clip3800)\" style=\"stroke:#009af9; stroke-width:4; stroke-opacity:1; fill:none\" points=\"\n",
       "  1785.42,191.244 1929.42,191.244 \n",
       "  \"/>\n",
       "<g clip-path=\"url(#clip3800)\">\n",
       "<text style=\"fill:#000000; fill-opacity:1; font-family:Arial,Helvetica Neue,Helvetica,sans-serif; font-size:48px; text-anchor:start;\" transform=\"rotate(0, 1953.42, 208.744)\" x=\"1953.42\" y=\"208.744\">y1</text>\n",
       "</g>\n",
       "<polygon clip-path=\"url(#clip3800)\" points=\"\n",
       "1785.42,275.916 1929.42,275.916 1929.42,227.532 1785.42,227.532 1785.42,275.916 \n",
       "  \" fill=\"#ffff00\" fill-rule=\"evenodd\" fill-opacity=\"1\"/>\n",
       "<polyline clip-path=\"url(#clip3800)\" style=\"stroke:#000000; stroke-width:4; stroke-opacity:1; fill:none\" points=\"\n",
       "  1785.42,275.916 1929.42,275.916 1929.42,227.532 1785.42,227.532 1785.42,275.916 \n",
       "  \"/>\n",
       "<g clip-path=\"url(#clip3800)\">\n",
       "<text style=\"fill:#000000; fill-opacity:1; font-family:Arial,Helvetica Neue,Helvetica,sans-serif; font-size:48px; text-anchor:start;\" transform=\"rotate(0, 1953.42, 269.224)\" x=\"1953.42\" y=\"269.224\">false</text>\n",
       "</g>\n",
       "</svg>\n"
      ],
      "text/plain": [
       "Plot{Plots.GRBackend() n=2}"
      ]
     },
     "execution_count": 8,
     "metadata": {},
     "output_type": "execute_result"
    }
   ],
   "source": [
    "post_samples = rand((series, ball_pos, ball_radius), projectile_hits, 1000; alg = Replica)\n",
    "series_, ball_pos_, ball_radius_ = ntranspose(post_samples)\n",
    "i = rand(1:length(series_))\n",
    "vizscene(series_[i], ball_pos_[i], ball_radius_[i])"
   ]
  },
  {
   "cell_type": "markdown",
   "metadata": {},
   "source": [
    "### But For Causality"
   ]
  },
  {
   "cell_type": "markdown",
   "metadata": {},
   "source": [
    "But-for causality looks for an intervention that invalidates the cause and the effect\n",
    "Since we have soft constraints, we formulate this as an optimization problem\n",
    "The following function sketches the implementation of but_for"
   ]
  },
  {
   "cell_type": "code",
   "execution_count": 9,
   "metadata": {},
   "outputs": [
    {
     "data": {
      "text/plain": [
       "Main.##371.iscausebfsketch"
      ]
     },
     "execution_count": 9,
     "metadata": {},
     "output_type": "execute_result"
    }
   ],
   "source": [
    "\"\"\"\n",
    "`iscausebf(ω, c, e, iset; kwargs...)`\n",
    "\n",
    "But-for causality.\n",
    "\n",
    "Is `c` (provably) the actual cause of `e` in the causal world `ω`, allowing\n",
    "interventions on variables defined in  `isset`\n",
    "\"\"\"\n",
    "function iscausebfsketch(ω::Omega.Ω, c::RandVar, e::RandVar, iset;\n",
    "                   sizes = [length(i(ω)) for i in iset],\n",
    "                   proj = identity, # maps reals to types of intervened vars\n",
    "                   optargs...)\n",
    "  @assert Bool(c(ω)) && Bool(e(ω)) \"Both cause and effect must be true in ω\"\n",
    "  # Construct a loss function that is 1 when the constraint is satisfied\n",
    "  loss = let rngs = splitvec(sizes), butfor = Omega.ciid(ω -> !c(ω) & !e(ω)), proj = proj\n",
    "    function loss(vec, grad)\n",
    "      # Since optimization requries vectors, we must do some book keeping\n",
    "      replmap = Dict(iset[i] => proj(vec[rng]) for (i, rng) in enumerate(rngs))\n",
    "      # In loss function we construct intervened mode where intervenable variables\n",
    "      # in iset have been set to values under consideration\n",
    "      butforint = replace(butfor, replmap)\n",
    "      # Get a score of the degree tow hich the effect `e` stil holds (in log scale)\n",
    "      Omega.logerr(butforint(ω))\n",
    "    end\n",
    "  end\n",
    "  # optimize this loss function\n",
    "  nlopt(loss, ω, iset, sizes; optargs...)\n",
    "end"
   ]
  },
  {
   "cell_type": "markdown",
   "metadata": {},
   "source": [
    "Sample causal worlds where the condition is true (the projectile hits)"
   ]
  },
  {
   "cell_type": "code",
   "execution_count": 10,
   "metadata": {},
   "outputs": [
    {
     "name": "stdout",
     "output_type": "stream",
     "text": [
      "temps = [2.06115e-9, 4.53999e-5, 1.0, 22026.5]\n"
     ]
    },
    {
     "data": {
      "text/plain": [
       "1000-element Array{Omega.Space.LinearΩ{Array{Int64,1},UnitRange{Int64},Array{Real,1}},1}:\n",
       " Omega.Space.LinearΩ{Array{Int64,1},UnitRange{Int64},Array{Real,1}}(Dict([2329, 1]=>1:1,[2332, 1]=>2:2), Real[0.870911, 0.11582]) \n",
       " Omega.Space.LinearΩ{Array{Int64,1},UnitRange{Int64},Array{Real,1}}(Dict([2329, 1]=>1:1,[2332, 1]=>2:2), Real[0.242462, 0.586424])\n",
       " Omega.Space.LinearΩ{Array{Int64,1},UnitRange{Int64},Array{Real,1}}(Dict([2329, 1]=>1:1,[2332, 1]=>2:2), Real[0.688077, 0.644751])\n",
       " Omega.Space.LinearΩ{Array{Int64,1},UnitRange{Int64},Array{Real,1}}(Dict([2329, 1]=>1:1,[2332, 1]=>2:2), Real[0.688077, 0.644751])\n",
       " Omega.Space.LinearΩ{Array{Int64,1},UnitRange{Int64},Array{Real,1}}(Dict([2329, 1]=>1:1,[2332, 1]=>2:2), Real[0.688077, 0.638369])\n",
       " Omega.Space.LinearΩ{Array{Int64,1},UnitRange{Int64},Array{Real,1}}(Dict([2329, 1]=>1:1,[2332, 1]=>2:2), Real[0.688077, 0.361728])\n",
       " Omega.Space.LinearΩ{Array{Int64,1},UnitRange{Int64},Array{Real,1}}(Dict([2329, 1]=>1:1,[2332, 1]=>2:2), Real[0.883338, 0.345003])\n",
       " Omega.Space.LinearΩ{Array{Int64,1},UnitRange{Int64},Array{Real,1}}(Dict([2329, 1]=>1:1,[2332, 1]=>2:2), Real[0.883338, 0.345003])\n",
       " Omega.Space.LinearΩ{Array{Int64,1},UnitRange{Int64},Array{Real,1}}(Dict([2329, 1]=>1:1,[2332, 1]=>2:2), Real[0.74309, 0.660037]) \n",
       " Omega.Space.LinearΩ{Array{Int64,1},UnitRange{Int64},Array{Real,1}}(Dict([2329, 1]=>1:1,[2332, 1]=>2:2), Real[0.814413, 0.345003])\n",
       " ⋮                                                                                                                                \n",
       " Omega.Space.LinearΩ{Array{Int64,1},UnitRange{Int64},Array{Real,1}}(Dict([2329, 1]=>1:1,[2332, 1]=>2:2), Real[0.332726, 0.607674])\n",
       " Omega.Space.LinearΩ{Array{Int64,1},UnitRange{Int64},Array{Real,1}}(Dict([2329, 1]=>1:1,[2332, 1]=>2:2), Real[0.332726, 0.607674])\n",
       " Omega.Space.LinearΩ{Array{Int64,1},UnitRange{Int64},Array{Real,1}}(Dict([2329, 1]=>1:1,[2332, 1]=>2:2), Real[0.926676, 0.319328])\n",
       " Omega.Space.LinearΩ{Array{Int64,1},UnitRange{Int64},Array{Real,1}}(Dict([2329, 1]=>1:1,[2332, 1]=>2:2), Real[0.33339, 0.607674]) \n",
       " Omega.Space.LinearΩ{Array{Int64,1},UnitRange{Int64},Array{Real,1}}(Dict([2329, 1]=>1:1,[2332, 1]=>2:2), Real[0.926676, 0.319328])\n",
       " Omega.Space.LinearΩ{Array{Int64,1},UnitRange{Int64},Array{Real,1}}(Dict([2329, 1]=>1:1,[2332, 1]=>2:2), Real[0.33339, 0.607674]) \n",
       " Omega.Space.LinearΩ{Array{Int64,1},UnitRange{Int64},Array{Real,1}}(Dict([2329, 1]=>1:1,[2332, 1]=>2:2), Real[0.926676, 0.319328])\n",
       " Omega.Space.LinearΩ{Array{Int64,1},UnitRange{Int64},Array{Real,1}}(Dict([2329, 1]=>1:1,[2332, 1]=>2:2), Real[0.33339, 0.607674]) \n",
       " Omega.Space.LinearΩ{Array{Int64,1},UnitRange{Int64},Array{Real,1}}(Dict([2329, 1]=>1:1,[2332, 1]=>2:2), Real[0.926676, 0.319328])"
      ]
     },
     "execution_count": 10,
     "metadata": {},
     "output_type": "execute_result"
    }
   ],
   "source": [
    "ωs = rand(Random.MersenneTwister(), defΩ(Replica), logerr(projectile_hits),  1000, Replica)"
   ]
  },
  {
   "cell_type": "markdown",
   "metadata": {},
   "source": [
    "Sanity check"
   ]
  },
  {
   "cell_type": "code",
   "execution_count": 11,
   "metadata": {},
   "outputs": [
    {
     "data": {
      "text/plain": [
       "true"
      ]
     },
     "execution_count": 11,
     "metadata": {},
     "output_type": "execute_result"
    }
   ],
   "source": [
    "ω = ωs[end]\n",
    "Bool(projectile_hits(ω))"
   ]
  },
  {
   "cell_type": "markdown",
   "metadata": {},
   "source": [
    "Check for but-for: in world ω, is value that θ takes in this world cause of prjectile hitting?"
   ]
  },
  {
   "cell_type": "code",
   "execution_count": 12,
   "metadata": {},
   "outputs": [
    {
     "data": {
      "text/plain": [
       "true"
      ]
     },
     "execution_count": 12,
     "metadata": {},
     "output_type": "execute_result"
    }
   ],
   "source": [
    "Omega.iscausebf(ω, θ ==ₛ θ(ω), projectile_hits, [θ], proj = first)"
   ]
  },
  {
   "cell_type": "markdown",
   "metadata": {},
   "source": [
    "Check for but-for: in world ω, is fact that projectile hit cause that that θ had the value it did?"
   ]
  },
  {
   "cell_type": "code",
   "execution_count": 13,
   "metadata": {},
   "outputs": [
    {
     "data": {
      "text/plain": [
       "true"
      ]
     },
     "execution_count": 13,
     "metadata": {},
     "output_type": "execute_result"
    }
   ],
   "source": [
    "Omega.iscausebf(ω, projectile_hits, θ ==ₛ θ(ω), [θ], proj = first)"
   ]
  },
  {
   "cell_type": "markdown",
   "metadata": {},
   "source": [
    "*This notebook was generated using [Literate.jl](https://github.com/fredrikekre/Literate.jl).*"
   ]
  }
 ],
 "metadata": {
  "@webio": {
   "lastCommId": "E1347DF9ECB6471FBCD19258AC6C9DB1",
   "lastKernelId": "ec738ad9-f405-487a-ab3d-e011e73f201e"
  },
  "kernelspec": {
   "display_name": "Julia 1.1.0",
   "language": "julia",
   "name": "julia-1.1"
  },
  "language_info": {
   "file_extension": ".jl",
   "mimetype": "application/julia",
   "name": "julia",
   "version": "1.1.0"
  }
 },
 "nbformat": 4,
 "nbformat_minor": 3
}
