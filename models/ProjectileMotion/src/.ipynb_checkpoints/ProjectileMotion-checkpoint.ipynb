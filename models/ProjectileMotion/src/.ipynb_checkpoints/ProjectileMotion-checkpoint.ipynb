{
 "cells": [
  {
   "cell_type": "code",
   "execution_count": 1,
   "metadata": {},
   "outputs": [
    {
     "data": {
      "text/plain": [
       "Main.##390.vizscene"
      ]
     },
     "execution_count": 1,
     "metadata": {},
     "output_type": "execute_result"
    }
   ],
   "source": [
    "using Omega\n",
    "using Omega.Inference: ReplicaAlg\n",
    "using Plots\n",
    "import Statistics\n",
    "using Random\n",
    "include(\"viz.jl\")"
   ]
  },
  {
   "cell_type": "markdown",
   "metadata": {},
   "source": [
    "Consider a projectile launched at an angle θ with initial velocity vo on a level plane\n",
    "We know the  equations of motion are:"
   ]
  },
  {
   "cell_type": "markdown",
   "metadata": {},
   "source": [
    "\\begin{equation}\n",
    "x(t) = v_0 \\cos \\theta t  \\;\\;\\;\\;\\;\\; \\\\\n",
    "y(t) = v_0 \\sin \\theta t - \\frac{1}{2}gt^2\n",
    "\\end{equation}"
   ]
  },
  {
   "cell_type": "markdown",
   "metadata": {},
   "source": [
    "Launch point and gravity are constants but we have uncertainty over velocity,"
   ]
  },
  {
   "cell_type": "code",
   "execution_count": 2,
   "metadata": {},
   "outputs": [
    {
     "data": {
      "text/plain": [
       "14895:Omega.reifyapply(+, 0.7853981633974483, Normal)::Float64"
      ]
     },
     "execution_count": 2,
     "metadata": {},
     "output_type": "execute_result"
    }
   ],
   "source": [
    "const v0 = normal(10, 1)\n",
    "const u0 = constant((0.0, 0.0))\n",
    "const g = constant(9.81)\n",
    "const θ = π/4 + normal(0, 1)"
   ]
  },
  {
   "cell_type": "markdown",
   "metadata": {},
   "source": [
    "We will simulate step by step, which preserves causal order"
   ]
  },
  {
   "cell_type": "code",
   "execution_count": 3,
   "metadata": {},
   "outputs": [
    {
     "data": {
      "text/plain": [
       "Main.##390.simulate"
      ]
     },
     "execution_count": 3,
     "metadata": {},
     "output_type": "execute_result"
    }
   ],
   "source": [
    "\"Simulate projectile motion for `nsteps` with `Δt`\"\n",
    "function simulate(u0, v0, θ, g; maxsteps = 10000, Δt = 0.01)\n",
    "  t = 0.0\n",
    "  series = [u0]\n",
    "  for i = 1:(maxsteps - 1)\n",
    "    x = v0 * t * cos(θ)\n",
    "    y = v0 * t * sin(θ) - 0.5 * g * t^2\n",
    "    if y < 0\n",
    "      break\n",
    "    end\n",
    "    push!(series, (x, y))\n",
    "    t += Δt\n",
    "  end\n",
    "  series\n",
    "end"
   ]
  },
  {
   "cell_type": "markdown",
   "metadata": {},
   "source": [
    "`series` is a random variable over position of the projectile"
   ]
  },
  {
   "cell_type": "code",
   "execution_count": 4,
   "metadata": {},
   "outputs": [
    {
     "data": {
      "text/plain": [
       "14896:Omega.reifyapply(Main.##390.simulate, getfield(Omega, Symbol(\"##1#2\")){Tuple{Float64,Float64}}((0.0, 0.0)), Normal, Omega.reifyapply, getfield(Omega, Symbol(\"##1#2\")){Float64}(9.81))::Array{Tuple{Float64,Float64},1}"
      ]
     },
     "execution_count": 4,
     "metadata": {},
     "output_type": "execute_result"
    }
   ],
   "source": [
    "const series = lift(simulate)(u0, v0, θ, g)"
   ]
  },
  {
   "cell_type": "markdown",
   "metadata": {},
   "source": [
    "### But-For causality\n",
    "Next we will add a (yellow) ball to the scene, which the projectile may or may not hit."
   ]
  },
  {
   "cell_type": "markdown",
   "metadata": {},
   "source": [
    "We assume a ball of constant radius and position"
   ]
  },
  {
   "cell_type": "code",
   "execution_count": 5,
   "metadata": {
    "collapsed": true
   },
   "outputs": [],
   "source": [
    "const ball_radius = constant(0.5)\n",
    "const ball_pos = constant((8.0, 0.25));"
   ]
  },
  {
   "cell_type": "markdown",
   "metadata": {},
   "source": [
    "We can simulate projectile samples from the prior"
   ]
  },
  {
   "cell_type": "code",
   "execution_count": 6,
   "metadata": {},
   "outputs": [
    {
     "data": {
      "image/png": "[encoded data removed]",
      "image/svg+xml": [
       "<?xml version=\"1.0\" encoding=\"utf-8\"?>\n",
       "<svg xmlns=\"http://www.w3.org/2000/svg\" xmlns:xlink=\"http://www.w3.org/1999/xlink\" width=\"600\" height=\"400\" viewBox=\"0 0 2400 1600\">\n",
       "<defs>\n",
       "  <clipPath id=\"clip8900\">\n",
       "    <rect x=\"0\" y=\"0\" width=\"2400\" height=\"1600\"/>\n",
       "  </clipPath>\n",
       "</defs>\n",
       "<polygon clip-path=\"url(#clip8900)\" points=\"\n",
       "0,1600 2400,1600 2400,0 0,0 \n",
       "  \" fill=\"#ffffff\" fill-rule=\"evenodd\" fill-opacity=\"1\"/>\n",
       "<defs>\n",
       "  <clipPath id=\"clip8901\">\n",
       "    <rect x=\"480\" y=\"0\" width=\"1681\" height=\"1600\"/>\n",
       "  </clipPath>\n",
       "</defs>\n",
       "<polygon clip-path=\"url(#clip8900)\" points=\"\n",
       "121.251,1378.96 2321.26,1378.96 2321.26,171.756 121.251,171.756 \n",
       "  \" fill=\"#ffffff\" fill-rule=\"evenodd\" fill-opacity=\"1\"/>\n",
       "<defs>\n",
       "  <clipPath id=\"clip8902\">\n",
       "    <rect x=\"121\" y=\"171\" width=\"2201\" height=\"1208\"/>\n",
       "  </clipPath>\n",
       "</defs>\n",
       "<polyline clip-path=\"url(#clip8902)\" style=\"stroke:#000000; stroke-width:2; stroke-opacity:0.1; fill:none\" points=\"\n",
       "  183.515,1378.96 183.515,171.756 \n",
       "  \"/>\n",
       "<polyline clip-path=\"url(#clip8902)\" style=\"stroke:#000000; stroke-width:2; stroke-opacity:0.1; fill:none\" points=\"\n",
       "  671.863,1378.96 671.863,171.756 \n",
       "  \"/>\n",
       "<polyline clip-path=\"url(#clip8902)\" style=\"stroke:#000000; stroke-width:2; stroke-opacity:0.1; fill:none\" points=\"\n",
       "  1160.21,1378.96 1160.21,171.756 \n",
       "  \"/>\n",
       "<polyline clip-path=\"url(#clip8902)\" style=\"stroke:#000000; stroke-width:2; stroke-opacity:0.1; fill:none\" points=\"\n",
       "  1648.56,1378.96 1648.56,171.756 \n",
       "  \"/>\n",
       "<polyline clip-path=\"url(#clip8902)\" style=\"stroke:#000000; stroke-width:2; stroke-opacity:0.1; fill:none\" points=\"\n",
       "  2136.91,1378.96 2136.91,171.756 \n",
       "  \"/>\n",
       "<polyline clip-path=\"url(#clip8902)\" style=\"stroke:#000000; stroke-width:2; stroke-opacity:0.1; fill:none\" points=\"\n",
       "  121.251,1283.77 2321.26,1283.77 \n",
       "  \"/>\n",
       "<polyline clip-path=\"url(#clip8902)\" style=\"stroke:#000000; stroke-width:2; stroke-opacity:0.1; fill:none\" points=\"\n",
       "  121.251,1039.59 2321.26,1039.59 \n",
       "  \"/>\n",
       "<polyline clip-path=\"url(#clip8902)\" style=\"stroke:#000000; stroke-width:2; stroke-opacity:0.1; fill:none\" points=\"\n",
       "  121.251,795.42 2321.26,795.42 \n",
       "  \"/>\n",
       "<polyline clip-path=\"url(#clip8902)\" style=\"stroke:#000000; stroke-width:2; stroke-opacity:0.1; fill:none\" points=\"\n",
       "  121.251,551.246 2321.26,551.246 \n",
       "  \"/>\n",
       "<polyline clip-path=\"url(#clip8902)\" style=\"stroke:#000000; stroke-width:2; stroke-opacity:0.1; fill:none\" points=\"\n",
       "  121.251,307.071 2321.26,307.071 \n",
       "  \"/>\n",
       "<polyline clip-path=\"url(#clip8900)\" style=\"stroke:#000000; stroke-width:4; stroke-opacity:1; fill:none\" points=\"\n",
       "  121.251,1378.96 2321.26,1378.96 \n",
       "  \"/>\n",
       "<polyline clip-path=\"url(#clip8900)\" style=\"stroke:#000000; stroke-width:4; stroke-opacity:1; fill:none\" points=\"\n",
       "  121.251,1378.96 121.251,171.756 \n",
       "  \"/>\n",
       "<polyline clip-path=\"url(#clip8900)\" style=\"stroke:#000000; stroke-width:4; stroke-opacity:1; fill:none\" points=\"\n",
       "  183.515,1378.96 183.515,1360.85 \n",
       "  \"/>\n",
       "<polyline clip-path=\"url(#clip8900)\" style=\"stroke:#000000; stroke-width:4; stroke-opacity:1; fill:none\" points=\"\n",
       "  671.863,1378.96 671.863,1360.85 \n",
       "  \"/>\n",
       "<polyline clip-path=\"url(#clip8900)\" style=\"stroke:#000000; stroke-width:4; stroke-opacity:1; fill:none\" points=\"\n",
       "  1160.21,1378.96 1160.21,1360.85 \n",
       "  \"/>\n",
       "<polyline clip-path=\"url(#clip8900)\" style=\"stroke:#000000; stroke-width:4; stroke-opacity:1; fill:none\" points=\"\n",
       "  1648.56,1378.96 1648.56,1360.85 \n",
       "  \"/>\n",
       "<polyline clip-path=\"url(#clip8900)\" style=\"stroke:#000000; stroke-width:4; stroke-opacity:1; fill:none\" points=\"\n",
       "  2136.91,1378.96 2136.91,1360.85 \n",
       "  \"/>\n",
       "<polyline clip-path=\"url(#clip8900)\" style=\"stroke:#000000; stroke-width:4; stroke-opacity:1; fill:none\" points=\"\n",
       "  121.251,1283.77 154.251,1283.77 \n",
       "  \"/>\n",
       "<polyline clip-path=\"url(#clip8900)\" style=\"stroke:#000000; stroke-width:4; stroke-opacity:1; fill:none\" points=\"\n",
       "  121.251,1039.59 154.251,1039.59 \n",
       "  \"/>\n",
       "<polyline clip-path=\"url(#clip8900)\" style=\"stroke:#000000; stroke-width:4; stroke-opacity:1; fill:none\" points=\"\n",
       "  121.251,795.42 154.251,795.42 \n",
       "  \"/>\n",
       "<polyline clip-path=\"url(#clip8900)\" style=\"stroke:#000000; stroke-width:4; stroke-opacity:1; fill:none\" points=\"\n",
       "  121.251,551.246 154.251,551.246 \n",
       "  \"/>\n",
       "<polyline clip-path=\"url(#clip8900)\" style=\"stroke:#000000; stroke-width:4; stroke-opacity:1; fill:none\" points=\"\n",
       "  121.251,307.071 154.251,307.071 \n",
       "  \"/>\n",
       "<g clip-path=\"url(#clip8900)\">\n",
       "<text style=\"fill:#000000; fill-opacity:1; font-family:Arial,Helvetica Neue,Helvetica,sans-serif; font-size:48px; text-anchor:middle;\" transform=\"rotate(0, 183.515, 1432.96)\" x=\"183.515\" y=\"1432.96\">0</text>\n",
       "</g>\n",
       "<g clip-path=\"url(#clip8900)\">\n",
       "<text style=\"fill:#000000; fill-opacity:1; font-family:Arial,Helvetica Neue,Helvetica,sans-serif; font-size:48px; text-anchor:middle;\" transform=\"rotate(0, 671.863, 1432.96)\" x=\"671.863\" y=\"1432.96\">2</text>\n",
       "</g>\n",
       "<g clip-path=\"url(#clip8900)\">\n",
       "<text style=\"fill:#000000; fill-opacity:1; font-family:Arial,Helvetica Neue,Helvetica,sans-serif; font-size:48px; text-anchor:middle;\" transform=\"rotate(0, 1160.21, 1432.96)\" x=\"1160.21\" y=\"1432.96\">4</text>\n",
       "</g>\n",
       "<g clip-path=\"url(#clip8900)\">\n",
       "<text style=\"fill:#000000; fill-opacity:1; font-family:Arial,Helvetica Neue,Helvetica,sans-serif; font-size:48px; text-anchor:middle;\" transform=\"rotate(0, 1648.56, 1432.96)\" x=\"1648.56\" y=\"1432.96\">6</text>\n",
       "</g>\n",
       "<g clip-path=\"url(#clip8900)\">\n",
       "<text style=\"fill:#000000; fill-opacity:1; font-family:Arial,Helvetica Neue,Helvetica,sans-serif; font-size:48px; text-anchor:middle;\" transform=\"rotate(0, 2136.91, 1432.96)\" x=\"2136.91\" y=\"1432.96\">8</text>\n",
       "</g>\n",
       "<g clip-path=\"url(#clip8900)\">\n",
       "<text style=\"fill:#000000; fill-opacity:1; font-family:Arial,Helvetica Neue,Helvetica,sans-serif; font-size:48px; text-anchor:end;\" transform=\"rotate(0, 97.2505, 1301.27)\" x=\"97.2505\" y=\"1301.27\">0</text>\n",
       "</g>\n",
       "<g clip-path=\"url(#clip8900)\">\n",
       "<text style=\"fill:#000000; fill-opacity:1; font-family:Arial,Helvetica Neue,Helvetica,sans-serif; font-size:48px; text-anchor:end;\" transform=\"rotate(0, 97.2505, 1057.09)\" x=\"97.2505\" y=\"1057.09\">1</text>\n",
       "</g>\n",
       "<g clip-path=\"url(#clip8900)\">\n",
       "<text style=\"fill:#000000; fill-opacity:1; font-family:Arial,Helvetica Neue,Helvetica,sans-serif; font-size:48px; text-anchor:end;\" transform=\"rotate(0, 97.2505, 812.92)\" x=\"97.2505\" y=\"812.92\">2</text>\n",
       "</g>\n",
       "<g clip-path=\"url(#clip8900)\">\n",
       "<text style=\"fill:#000000; fill-opacity:1; font-family:Arial,Helvetica Neue,Helvetica,sans-serif; font-size:48px; text-anchor:end;\" transform=\"rotate(0, 97.2505, 568.746)\" x=\"97.2505\" y=\"568.746\">3</text>\n",
       "</g>\n",
       "<g clip-path=\"url(#clip8900)\">\n",
       "<text style=\"fill:#000000; fill-opacity:1; font-family:Arial,Helvetica Neue,Helvetica,sans-serif; font-size:48px; text-anchor:end;\" transform=\"rotate(0, 97.2505, 324.571)\" x=\"97.2505\" y=\"324.571\">4</text>\n",
       "</g>\n",
       "<polyline clip-path=\"url(#clip8902)\" style=\"stroke:#009af9; stroke-width:4; stroke-opacity:1; fill:none\" points=\"\n",
       "  183.515,1283.77 183.515,1283.77 188.739,1261.16 193.963,1238.8 199.187,1216.68 204.411,1194.79 209.635,1173.14 214.859,1151.74 220.083,1130.57 225.307,1109.64 \n",
       "  230.531,1088.96 235.755,1068.51 240.979,1048.3 246.203,1028.33 251.427,1008.6 256.651,989.111 261.875,969.861 267.098,950.85 272.322,932.079 277.546,913.547 \n",
       "  282.77,895.255 287.994,877.202 293.218,859.389 298.442,841.815 303.666,824.481 308.89,807.387 314.114,790.532 319.338,773.916 324.562,757.54 329.786,741.404 \n",
       "  335.01,725.507 340.234,709.849 345.458,694.431 350.682,679.253 355.906,664.314 361.13,649.615 366.354,635.156 371.578,620.935 376.802,606.955 382.026,593.214 \n",
       "  387.25,579.712 392.474,566.45 397.698,553.428 402.922,540.645 408.146,528.101 413.37,515.797 418.594,503.733 423.818,491.908 429.042,480.323 434.266,468.977 \n",
       "  439.49,457.871 444.714,447.004 449.938,436.377 455.161,425.989 460.385,415.841 465.609,405.933 470.833,396.264 476.057,386.834 481.281,377.645 486.505,368.694 \n",
       "  491.729,359.983 496.953,351.512 502.177,343.28 507.401,335.288 512.625,327.535 517.849,320.022 523.073,312.748 528.297,305.714 533.521,298.92 538.745,292.365 \n",
       "  543.969,286.049 549.193,279.973 554.417,274.137 559.641,268.54 564.865,263.182 570.089,258.065 575.313,253.186 580.537,248.547 585.761,244.148 590.985,239.989 \n",
       "  596.209,236.068 601.433,232.388 606.657,228.947 611.881,225.745 617.105,222.783 622.329,220.061 627.553,217.578 632.777,215.334 638,213.33 643.224,211.566 \n",
       "  648.448,210.041 653.672,208.756 658.896,207.71 664.12,206.904 669.344,206.337 674.568,206.01 679.792,205.923 685.016,206.074 690.24,206.466 695.464,207.097 \n",
       "  700.688,207.967 705.912,209.078 711.136,210.427 716.36,212.016 721.584,213.845 726.808,215.913 732.032,218.221 737.256,220.768 742.48,223.555 747.704,226.581 \n",
       "  752.928,229.847 758.152,233.353 763.376,237.098 768.6,241.082 773.824,245.306 779.048,249.77 784.272,254.473 789.496,259.415 794.72,264.598 799.944,270.019 \n",
       "  805.168,275.68 810.392,281.581 815.616,287.722 820.84,294.101 826.063,300.721 831.287,307.58 836.511,314.678 841.735,322.016 846.959,329.594 852.183,337.411 \n",
       "  857.407,345.467 862.631,353.763 867.855,362.299 873.079,371.074 878.303,380.089 883.527,389.343 888.751,398.837 893.975,408.57 899.199,418.543 904.423,428.756 \n",
       "  909.647,439.207 914.871,449.899 920.095,460.83 925.319,472 930.543,483.411 935.767,495.06 940.991,506.949 946.215,519.078 951.439,531.446 956.663,544.054 \n",
       "  961.887,556.901 967.111,569.988 972.335,583.314 977.559,596.88 982.783,610.686 988.007,624.731 993.231,639.015 998.455,653.539 1003.68,668.303 1008.9,683.306 \n",
       "  1014.13,698.548 1019.35,714.031 1024.57,729.752 1029.8,745.713 1035.02,761.914 1040.25,778.355 1045.47,795.034 1050.69,811.954 1055.92,829.113 1061.14,846.511 \n",
       "  1066.37,864.149 1071.59,882.027 1076.81,900.144 1082.04,918.5 1087.26,937.096 1092.49,955.932 1097.71,975.007 1102.93,994.322 1108.16,1013.88 1113.38,1033.67 \n",
       "  1118.61,1053.7 1123.83,1073.98 1129.05,1094.49 1134.28,1115.24 1139.5,1136.23 1144.73,1157.46 1149.95,1178.93 1155.17,1200.64 1160.4,1222.59 1165.62,1244.78 \n",
       "  1170.85,1267.21 \n",
       "  \"/>\n",
       "<polygon clip-path=\"url(#clip8902)\" points=\"\n",
       "2259,1222.72 2258.75,1214.98 2258.01,1207.27 2256.79,1199.62 2255.08,1192.06 2252.9,1184.63 2250.25,1177.35 2247.14,1170.25 2243.59,1163.37 2239.61,1156.72 \n",
       "  2235.22,1150.34 2230.43,1144.25 2225.27,1138.47 2219.75,1133.04 2213.89,1127.97 2207.73,1123.28 2201.28,1118.98 2194.57,1115.11 2187.63,1111.67 2180.48,1108.68 \n",
       "  2173.16,1106.14 2165.69,1104.08 2158.11,1102.49 2150.44,1101.39 2142.72,1100.78 2134.97,1100.65 2127.23,1101.02 2119.53,1101.88 2111.9,1103.23 2104.38,1105.05 \n",
       "  2096.98,1107.35 2089.74,1110.12 2082.69,1113.34 2075.86,1116.99 2069.28,1121.08 2062.97,1125.57 2056.96,1130.46 2051.27,1135.71 2045.92,1141.32 2040.94,1147.26 \n",
       "  2036.35,1153.49 2032.16,1160.01 2028.39,1166.78 2025.06,1173.78 2022.18,1180.97 2019.77,1188.33 2017.82,1195.83 2016.35,1203.43 2015.37,1211.12 2014.88,1218.85 \n",
       "  2014.88,1226.6 2015.37,1234.33 2016.35,1242.01 2017.82,1249.62 2019.77,1257.12 2022.18,1264.48 2025.06,1271.67 2028.39,1278.67 2032.16,1285.44 2036.35,1291.96 \n",
       "  2040.94,1298.19 2045.92,1304.13 2051.27,1309.74 2056.96,1314.99 2062.97,1319.88 2069.28,1324.37 2075.86,1328.46 2082.69,1332.11 2089.74,1335.33 2096.98,1338.1 \n",
       "  2104.38,1340.4 2111.9,1342.22 2119.53,1343.57 2127.23,1344.43 2134.97,1344.8 2142.72,1344.67 2150.44,1344.06 2158.11,1342.96 2165.69,1341.37 2173.16,1339.31 \n",
       "  2180.48,1336.77 2187.63,1333.78 2194.57,1330.34 2201.28,1326.47 2207.73,1322.17 2213.89,1317.48 2219.75,1312.41 2225.27,1306.97 2230.43,1301.2 2235.22,1295.11 \n",
       "  2239.61,1288.73 2243.59,1282.08 2247.14,1275.2 2250.25,1268.1 2252.9,1260.82 2255.08,1253.39 2256.79,1245.83 2258.01,1238.18 2258.75,1230.47 2259,1222.72 \n",
       "  2259,1222.72 \n",
       "  \" fill=\"#ffff00\" fill-rule=\"evenodd\" fill-opacity=\"1\"/>\n",
       "<polyline clip-path=\"url(#clip8902)\" style=\"stroke:#000000; stroke-width:4; stroke-opacity:1; fill:none\" points=\"\n",
       "  2259,1222.72 2258.75,1214.98 2258.01,1207.27 2256.79,1199.62 2255.08,1192.06 2252.9,1184.63 2250.25,1177.35 2247.14,1170.25 2243.59,1163.37 2239.61,1156.72 \n",
       "  2235.22,1150.34 2230.43,1144.25 2225.27,1138.47 2219.75,1133.04 2213.89,1127.97 2207.73,1123.28 2201.28,1118.98 2194.57,1115.11 2187.63,1111.67 2180.48,1108.68 \n",
       "  2173.16,1106.14 2165.69,1104.08 2158.11,1102.49 2150.44,1101.39 2142.72,1100.78 2134.97,1100.65 2127.23,1101.02 2119.53,1101.88 2111.9,1103.23 2104.38,1105.05 \n",
       "  2096.98,1107.35 2089.74,1110.12 2082.69,1113.34 2075.86,1116.99 2069.28,1121.08 2062.97,1125.57 2056.96,1130.46 2051.27,1135.71 2045.92,1141.32 2040.94,1147.26 \n",
       "  2036.35,1153.49 2032.16,1160.01 2028.39,1166.78 2025.06,1173.78 2022.18,1180.97 2019.77,1188.33 2017.82,1195.83 2016.35,1203.43 2015.37,1211.12 2014.88,1218.85 \n",
       "  2014.88,1226.6 2015.37,1234.33 2016.35,1242.01 2017.82,1249.62 2019.77,1257.12 2022.18,1264.48 2025.06,1271.67 2028.39,1278.67 2032.16,1285.44 2036.35,1291.96 \n",
       "  2040.94,1298.19 2045.92,1304.13 2051.27,1309.74 2056.96,1314.99 2062.97,1319.88 2069.28,1324.37 2075.86,1328.46 2082.69,1332.11 2089.74,1335.33 2096.98,1338.1 \n",
       "  2104.38,1340.4 2111.9,1342.22 2119.53,1343.57 2127.23,1344.43 2134.97,1344.8 2142.72,1344.67 2150.44,1344.06 2158.11,1342.96 2165.69,1341.37 2173.16,1339.31 \n",
       "  2180.48,1336.77 2187.63,1333.78 2194.57,1330.34 2201.28,1326.47 2207.73,1322.17 2213.89,1317.48 2219.75,1312.41 2225.27,1306.97 2230.43,1301.2 2235.22,1295.11 \n",
       "  2239.61,1288.73 2243.59,1282.08 2247.14,1275.2 2250.25,1268.1 2252.9,1260.82 2255.08,1253.39 2256.79,1245.83 2258.01,1238.18 2258.75,1230.47 2259,1222.72 \n",
       "  \n",
       "  \"/>\n",
       "</svg>\n"
      ],
      "text/html": [
       "<?xml version=\"1.0\" encoding=\"utf-8\"?>\n",
       "<svg xmlns=\"http://www.w3.org/2000/svg\" xmlns:xlink=\"http://www.w3.org/1999/xlink\" width=\"600\" height=\"400\" viewBox=\"0 0 2400 1600\">\n",
       "<defs>\n",
       "  <clipPath id=\"clip9200\">\n",
       "    <rect x=\"0\" y=\"0\" width=\"2400\" height=\"1600\"/>\n",
       "  </clipPath>\n",
       "</defs>\n",
       "<polygon clip-path=\"url(#clip9200)\" points=\"\n",
       "0,1600 2400,1600 2400,0 0,0 \n",
       "  \" fill=\"#ffffff\" fill-rule=\"evenodd\" fill-opacity=\"1\"/>\n",
       "<defs>\n",
       "  <clipPath id=\"clip9201\">\n",
       "    <rect x=\"480\" y=\"0\" width=\"1681\" height=\"1600\"/>\n",
       "  </clipPath>\n",
       "</defs>\n",
       "<polygon clip-path=\"url(#clip9200)\" points=\"\n",
       "121.251,1378.96 2321.26,1378.96 2321.26,171.756 121.251,171.756 \n",
       "  \" fill=\"#ffffff\" fill-rule=\"evenodd\" fill-opacity=\"1\"/>\n",
       "<defs>\n",
       "  <clipPath id=\"clip9202\">\n",
       "    <rect x=\"121\" y=\"171\" width=\"2201\" height=\"1208\"/>\n",
       "  </clipPath>\n",
       "</defs>\n",
       "<polyline clip-path=\"url(#clip9202)\" style=\"stroke:#000000; stroke-width:2; stroke-opacity:0.1; fill:none\" points=\"\n",
       "  183.515,1378.96 183.515,171.756 \n",
       "  \"/>\n",
       "<polyline clip-path=\"url(#clip9202)\" style=\"stroke:#000000; stroke-width:2; stroke-opacity:0.1; fill:none\" points=\"\n",
       "  671.863,1378.96 671.863,171.756 \n",
       "  \"/>\n",
       "<polyline clip-path=\"url(#clip9202)\" style=\"stroke:#000000; stroke-width:2; stroke-opacity:0.1; fill:none\" points=\"\n",
       "  1160.21,1378.96 1160.21,171.756 \n",
       "  \"/>\n",
       "<polyline clip-path=\"url(#clip9202)\" style=\"stroke:#000000; stroke-width:2; stroke-opacity:0.1; fill:none\" points=\"\n",
       "  1648.56,1378.96 1648.56,171.756 \n",
       "  \"/>\n",
       "<polyline clip-path=\"url(#clip9202)\" style=\"stroke:#000000; stroke-width:2; stroke-opacity:0.1; fill:none\" points=\"\n",
       "  2136.91,1378.96 2136.91,171.756 \n",
       "  \"/>\n",
       "<polyline clip-path=\"url(#clip9202)\" style=\"stroke:#000000; stroke-width:2; stroke-opacity:0.1; fill:none\" points=\"\n",
       "  121.251,1283.77 2321.26,1283.77 \n",
       "  \"/>\n",
       "<polyline clip-path=\"url(#clip9202)\" style=\"stroke:#000000; stroke-width:2; stroke-opacity:0.1; fill:none\" points=\"\n",
       "  121.251,1039.59 2321.26,1039.59 \n",
       "  \"/>\n",
       "<polyline clip-path=\"url(#clip9202)\" style=\"stroke:#000000; stroke-width:2; stroke-opacity:0.1; fill:none\" points=\"\n",
       "  121.251,795.42 2321.26,795.42 \n",
       "  \"/>\n",
       "<polyline clip-path=\"url(#clip9202)\" style=\"stroke:#000000; stroke-width:2; stroke-opacity:0.1; fill:none\" points=\"\n",
       "  121.251,551.246 2321.26,551.246 \n",
       "  \"/>\n",
       "<polyline clip-path=\"url(#clip9202)\" style=\"stroke:#000000; stroke-width:2; stroke-opacity:0.1; fill:none\" points=\"\n",
       "  121.251,307.071 2321.26,307.071 \n",
       "  \"/>\n",
       "<polyline clip-path=\"url(#clip9200)\" style=\"stroke:#000000; stroke-width:4; stroke-opacity:1; fill:none\" points=\"\n",
       "  121.251,1378.96 2321.26,1378.96 \n",
       "  \"/>\n",
       "<polyline clip-path=\"url(#clip9200)\" style=\"stroke:#000000; stroke-width:4; stroke-opacity:1; fill:none\" points=\"\n",
       "  121.251,1378.96 121.251,171.756 \n",
       "  \"/>\n",
       "<polyline clip-path=\"url(#clip9200)\" style=\"stroke:#000000; stroke-width:4; stroke-opacity:1; fill:none\" points=\"\n",
       "  183.515,1378.96 183.515,1360.85 \n",
       "  \"/>\n",
       "<polyline clip-path=\"url(#clip9200)\" style=\"stroke:#000000; stroke-width:4; stroke-opacity:1; fill:none\" points=\"\n",
       "  671.863,1378.96 671.863,1360.85 \n",
       "  \"/>\n",
       "<polyline clip-path=\"url(#clip9200)\" style=\"stroke:#000000; stroke-width:4; stroke-opacity:1; fill:none\" points=\"\n",
       "  1160.21,1378.96 1160.21,1360.85 \n",
       "  \"/>\n",
       "<polyline clip-path=\"url(#clip9200)\" style=\"stroke:#000000; stroke-width:4; stroke-opacity:1; fill:none\" points=\"\n",
       "  1648.56,1378.96 1648.56,1360.85 \n",
       "  \"/>\n",
       "<polyline clip-path=\"url(#clip9200)\" style=\"stroke:#000000; stroke-width:4; stroke-opacity:1; fill:none\" points=\"\n",
       "  2136.91,1378.96 2136.91,1360.85 \n",
       "  \"/>\n",
       "<polyline clip-path=\"url(#clip9200)\" style=\"stroke:#000000; stroke-width:4; stroke-opacity:1; fill:none\" points=\"\n",
       "  121.251,1283.77 154.251,1283.77 \n",
       "  \"/>\n",
       "<polyline clip-path=\"url(#clip9200)\" style=\"stroke:#000000; stroke-width:4; stroke-opacity:1; fill:none\" points=\"\n",
       "  121.251,1039.59 154.251,1039.59 \n",
       "  \"/>\n",
       "<polyline clip-path=\"url(#clip9200)\" style=\"stroke:#000000; stroke-width:4; stroke-opacity:1; fill:none\" points=\"\n",
       "  121.251,795.42 154.251,795.42 \n",
       "  \"/>\n",
       "<polyline clip-path=\"url(#clip9200)\" style=\"stroke:#000000; stroke-width:4; stroke-opacity:1; fill:none\" points=\"\n",
       "  121.251,551.246 154.251,551.246 \n",
       "  \"/>\n",
       "<polyline clip-path=\"url(#clip9200)\" style=\"stroke:#000000; stroke-width:4; stroke-opacity:1; fill:none\" points=\"\n",
       "  121.251,307.071 154.251,307.071 \n",
       "  \"/>\n",
       "<g clip-path=\"url(#clip9200)\">\n",
       "<text style=\"fill:#000000; fill-opacity:1; font-family:Arial,Helvetica Neue,Helvetica,sans-serif; font-size:48px; text-anchor:middle;\" transform=\"rotate(0, 183.515, 1432.96)\" x=\"183.515\" y=\"1432.96\">0</text>\n",
       "</g>\n",
       "<g clip-path=\"url(#clip9200)\">\n",
       "<text style=\"fill:#000000; fill-opacity:1; font-family:Arial,Helvetica Neue,Helvetica,sans-serif; font-size:48px; text-anchor:middle;\" transform=\"rotate(0, 671.863, 1432.96)\" x=\"671.863\" y=\"1432.96\">2</text>\n",
       "</g>\n",
       "<g clip-path=\"url(#clip9200)\">\n",
       "<text style=\"fill:#000000; fill-opacity:1; font-family:Arial,Helvetica Neue,Helvetica,sans-serif; font-size:48px; text-anchor:middle;\" transform=\"rotate(0, 1160.21, 1432.96)\" x=\"1160.21\" y=\"1432.96\">4</text>\n",
       "</g>\n",
       "<g clip-path=\"url(#clip9200)\">\n",
       "<text style=\"fill:#000000; fill-opacity:1; font-family:Arial,Helvetica Neue,Helvetica,sans-serif; font-size:48px; text-anchor:middle;\" transform=\"rotate(0, 1648.56, 1432.96)\" x=\"1648.56\" y=\"1432.96\">6</text>\n",
       "</g>\n",
       "<g clip-path=\"url(#clip9200)\">\n",
       "<text style=\"fill:#000000; fill-opacity:1; font-family:Arial,Helvetica Neue,Helvetica,sans-serif; font-size:48px; text-anchor:middle;\" transform=\"rotate(0, 2136.91, 1432.96)\" x=\"2136.91\" y=\"1432.96\">8</text>\n",
       "</g>\n",
       "<g clip-path=\"url(#clip9200)\">\n",
       "<text style=\"fill:#000000; fill-opacity:1; font-family:Arial,Helvetica Neue,Helvetica,sans-serif; font-size:48px; text-anchor:end;\" transform=\"rotate(0, 97.2505, 1301.27)\" x=\"97.2505\" y=\"1301.27\">0</text>\n",
       "</g>\n",
       "<g clip-path=\"url(#clip9200)\">\n",
       "<text style=\"fill:#000000; fill-opacity:1; font-family:Arial,Helvetica Neue,Helvetica,sans-serif; font-size:48px; text-anchor:end;\" transform=\"rotate(0, 97.2505, 1057.09)\" x=\"97.2505\" y=\"1057.09\">1</text>\n",
       "</g>\n",
       "<g clip-path=\"url(#clip9200)\">\n",
       "<text style=\"fill:#000000; fill-opacity:1; font-family:Arial,Helvetica Neue,Helvetica,sans-serif; font-size:48px; text-anchor:end;\" transform=\"rotate(0, 97.2505, 812.92)\" x=\"97.2505\" y=\"812.92\">2</text>\n",
       "</g>\n",
       "<g clip-path=\"url(#clip9200)\">\n",
       "<text style=\"fill:#000000; fill-opacity:1; font-family:Arial,Helvetica Neue,Helvetica,sans-serif; font-size:48px; text-anchor:end;\" transform=\"rotate(0, 97.2505, 568.746)\" x=\"97.2505\" y=\"568.746\">3</text>\n",
       "</g>\n",
       "<g clip-path=\"url(#clip9200)\">\n",
       "<text style=\"fill:#000000; fill-opacity:1; font-family:Arial,Helvetica Neue,Helvetica,sans-serif; font-size:48px; text-anchor:end;\" transform=\"rotate(0, 97.2505, 324.571)\" x=\"97.2505\" y=\"324.571\">4</text>\n",
       "</g>\n",
       "<polyline clip-path=\"url(#clip9202)\" style=\"stroke:#009af9; stroke-width:4; stroke-opacity:1; fill:none\" points=\"\n",
       "  183.515,1283.77 183.515,1283.77 188.739,1261.16 193.963,1238.8 199.187,1216.68 204.411,1194.79 209.635,1173.14 214.859,1151.74 220.083,1130.57 225.307,1109.64 \n",
       "  230.531,1088.96 235.755,1068.51 240.979,1048.3 246.203,1028.33 251.427,1008.6 256.651,989.111 261.875,969.861 267.098,950.85 272.322,932.079 277.546,913.547 \n",
       "  282.77,895.255 287.994,877.202 293.218,859.389 298.442,841.815 303.666,824.481 308.89,807.387 314.114,790.532 319.338,773.916 324.562,757.54 329.786,741.404 \n",
       "  335.01,725.507 340.234,709.849 345.458,694.431 350.682,679.253 355.906,664.314 361.13,649.615 366.354,635.156 371.578,620.935 376.802,606.955 382.026,593.214 \n",
       "  387.25,579.712 392.474,566.45 397.698,553.428 402.922,540.645 408.146,528.101 413.37,515.797 418.594,503.733 423.818,491.908 429.042,480.323 434.266,468.977 \n",
       "  439.49,457.871 444.714,447.004 449.938,436.377 455.161,425.989 460.385,415.841 465.609,405.933 470.833,396.264 476.057,386.834 481.281,377.645 486.505,368.694 \n",
       "  491.729,359.983 496.953,351.512 502.177,343.28 507.401,335.288 512.625,327.535 517.849,320.022 523.073,312.748 528.297,305.714 533.521,298.92 538.745,292.365 \n",
       "  543.969,286.049 549.193,279.973 554.417,274.137 559.641,268.54 564.865,263.182 570.089,258.065 575.313,253.186 580.537,248.547 585.761,244.148 590.985,239.989 \n",
       "  596.209,236.068 601.433,232.388 606.657,228.947 611.881,225.745 617.105,222.783 622.329,220.061 627.553,217.578 632.777,215.334 638,213.33 643.224,211.566 \n",
       "  648.448,210.041 653.672,208.756 658.896,207.71 664.12,206.904 669.344,206.337 674.568,206.01 679.792,205.923 685.016,206.074 690.24,206.466 695.464,207.097 \n",
       "  700.688,207.967 705.912,209.078 711.136,210.427 716.36,212.016 721.584,213.845 726.808,215.913 732.032,218.221 737.256,220.768 742.48,223.555 747.704,226.581 \n",
       "  752.928,229.847 758.152,233.353 763.376,237.098 768.6,241.082 773.824,245.306 779.048,249.77 784.272,254.473 789.496,259.415 794.72,264.598 799.944,270.019 \n",
       "  805.168,275.68 810.392,281.581 815.616,287.722 820.84,294.101 826.063,300.721 831.287,307.58 836.511,314.678 841.735,322.016 846.959,329.594 852.183,337.411 \n",
       "  857.407,345.467 862.631,353.763 867.855,362.299 873.079,371.074 878.303,380.089 883.527,389.343 888.751,398.837 893.975,408.57 899.199,418.543 904.423,428.756 \n",
       "  909.647,439.207 914.871,449.899 920.095,460.83 925.319,472 930.543,483.411 935.767,495.06 940.991,506.949 946.215,519.078 951.439,531.446 956.663,544.054 \n",
       "  961.887,556.901 967.111,569.988 972.335,583.314 977.559,596.88 982.783,610.686 988.007,624.731 993.231,639.015 998.455,653.539 1003.68,668.303 1008.9,683.306 \n",
       "  1014.13,698.548 1019.35,714.031 1024.57,729.752 1029.8,745.713 1035.02,761.914 1040.25,778.355 1045.47,795.034 1050.69,811.954 1055.92,829.113 1061.14,846.511 \n",
       "  1066.37,864.149 1071.59,882.027 1076.81,900.144 1082.04,918.5 1087.26,937.096 1092.49,955.932 1097.71,975.007 1102.93,994.322 1108.16,1013.88 1113.38,1033.67 \n",
       "  1118.61,1053.7 1123.83,1073.98 1129.05,1094.49 1134.28,1115.24 1139.5,1136.23 1144.73,1157.46 1149.95,1178.93 1155.17,1200.64 1160.4,1222.59 1165.62,1244.78 \n",
       "  1170.85,1267.21 \n",
       "  \"/>\n",
       "<polygon clip-path=\"url(#clip9202)\" points=\"\n",
       "2259,1222.72 2258.75,1214.98 2258.01,1207.27 2256.79,1199.62 2255.08,1192.06 2252.9,1184.63 2250.25,1177.35 2247.14,1170.25 2243.59,1163.37 2239.61,1156.72 \n",
       "  2235.22,1150.34 2230.43,1144.25 2225.27,1138.47 2219.75,1133.04 2213.89,1127.97 2207.73,1123.28 2201.28,1118.98 2194.57,1115.11 2187.63,1111.67 2180.48,1108.68 \n",
       "  2173.16,1106.14 2165.69,1104.08 2158.11,1102.49 2150.44,1101.39 2142.72,1100.78 2134.97,1100.65 2127.23,1101.02 2119.53,1101.88 2111.9,1103.23 2104.38,1105.05 \n",
       "  2096.98,1107.35 2089.74,1110.12 2082.69,1113.34 2075.86,1116.99 2069.28,1121.08 2062.97,1125.57 2056.96,1130.46 2051.27,1135.71 2045.92,1141.32 2040.94,1147.26 \n",
       "  2036.35,1153.49 2032.16,1160.01 2028.39,1166.78 2025.06,1173.78 2022.18,1180.97 2019.77,1188.33 2017.82,1195.83 2016.35,1203.43 2015.37,1211.12 2014.88,1218.85 \n",
       "  2014.88,1226.6 2015.37,1234.33 2016.35,1242.01 2017.82,1249.62 2019.77,1257.12 2022.18,1264.48 2025.06,1271.67 2028.39,1278.67 2032.16,1285.44 2036.35,1291.96 \n",
       "  2040.94,1298.19 2045.92,1304.13 2051.27,1309.74 2056.96,1314.99 2062.97,1319.88 2069.28,1324.37 2075.86,1328.46 2082.69,1332.11 2089.74,1335.33 2096.98,1338.1 \n",
       "  2104.38,1340.4 2111.9,1342.22 2119.53,1343.57 2127.23,1344.43 2134.97,1344.8 2142.72,1344.67 2150.44,1344.06 2158.11,1342.96 2165.69,1341.37 2173.16,1339.31 \n",
       "  2180.48,1336.77 2187.63,1333.78 2194.57,1330.34 2201.28,1326.47 2207.73,1322.17 2213.89,1317.48 2219.75,1312.41 2225.27,1306.97 2230.43,1301.2 2235.22,1295.11 \n",
       "  2239.61,1288.73 2243.59,1282.08 2247.14,1275.2 2250.25,1268.1 2252.9,1260.82 2255.08,1253.39 2256.79,1245.83 2258.01,1238.18 2258.75,1230.47 2259,1222.72 \n",
       "  2259,1222.72 \n",
       "  \" fill=\"#ffff00\" fill-rule=\"evenodd\" fill-opacity=\"1\"/>\n",
       "<polyline clip-path=\"url(#clip9202)\" style=\"stroke:#000000; stroke-width:4; stroke-opacity:1; fill:none\" points=\"\n",
       "  2259,1222.72 2258.75,1214.98 2258.01,1207.27 2256.79,1199.62 2255.08,1192.06 2252.9,1184.63 2250.25,1177.35 2247.14,1170.25 2243.59,1163.37 2239.61,1156.72 \n",
       "  2235.22,1150.34 2230.43,1144.25 2225.27,1138.47 2219.75,1133.04 2213.89,1127.97 2207.73,1123.28 2201.28,1118.98 2194.57,1115.11 2187.63,1111.67 2180.48,1108.68 \n",
       "  2173.16,1106.14 2165.69,1104.08 2158.11,1102.49 2150.44,1101.39 2142.72,1100.78 2134.97,1100.65 2127.23,1101.02 2119.53,1101.88 2111.9,1103.23 2104.38,1105.05 \n",
       "  2096.98,1107.35 2089.74,1110.12 2082.69,1113.34 2075.86,1116.99 2069.28,1121.08 2062.97,1125.57 2056.96,1130.46 2051.27,1135.71 2045.92,1141.32 2040.94,1147.26 \n",
       "  2036.35,1153.49 2032.16,1160.01 2028.39,1166.78 2025.06,1173.78 2022.18,1180.97 2019.77,1188.33 2017.82,1195.83 2016.35,1203.43 2015.37,1211.12 2014.88,1218.85 \n",
       "  2014.88,1226.6 2015.37,1234.33 2016.35,1242.01 2017.82,1249.62 2019.77,1257.12 2022.18,1264.48 2025.06,1271.67 2028.39,1278.67 2032.16,1285.44 2036.35,1291.96 \n",
       "  2040.94,1298.19 2045.92,1304.13 2051.27,1309.74 2056.96,1314.99 2062.97,1319.88 2069.28,1324.37 2075.86,1328.46 2082.69,1332.11 2089.74,1335.33 2096.98,1338.1 \n",
       "  2104.38,1340.4 2111.9,1342.22 2119.53,1343.57 2127.23,1344.43 2134.97,1344.8 2142.72,1344.67 2150.44,1344.06 2158.11,1342.96 2165.69,1341.37 2173.16,1339.31 \n",
       "  2180.48,1336.77 2187.63,1333.78 2194.57,1330.34 2201.28,1326.47 2207.73,1322.17 2213.89,1317.48 2219.75,1312.41 2225.27,1306.97 2230.43,1301.2 2235.22,1295.11 \n",
       "  2239.61,1288.73 2243.59,1282.08 2247.14,1275.2 2250.25,1268.1 2252.9,1260.82 2255.08,1253.39 2256.79,1245.83 2258.01,1238.18 2258.75,1230.47 2259,1222.72 \n",
       "  \n",
       "  \"/>\n",
       "</svg>\n"
      ],
      "text/plain": [
       "Plot{Plots.GRBackend() n=2}"
      ]
     },
     "execution_count": 6,
     "metadata": {},
     "output_type": "execute_result"
    }
   ],
   "source": [
    "series_, ball_pos_, ball_radius_ = rand((series, ball_pos, ball_radius))\n",
    "vizscene(series_, ball_pos_, ball_radius_)"
   ]
  },
  {
   "cell_type": "markdown",
   "metadata": {},
   "source": [
    "Next we do simple collision detection to see if the projectile intersects the ball"
   ]
  },
  {
   "cell_type": "code",
   "execution_count": 7,
   "metadata": {},
   "outputs": [
    {
     "data": {
      "text/plain": [
       "14901:Main.##390.projectile_hits_()::Omega.Soft.DualSoftBool{Omega.Soft.SoftBool{Float64}}"
      ]
     },
     "execution_count": 7,
     "metadata": {},
     "output_type": "execute_result"
    }
   ],
   "source": [
    "\"Is this position inside the ball\"\n",
    "isinside(pos, ball_pos, ball_radius) = sqrt(sum((pos .- ball_pos).^2)) <ₛ ball_radius\n",
    "\n",
    "\"Does the projectile hit the ball?\"\n",
    "function projectile_hits_(ω)\n",
    "  series_ = series(ω)\n",
    "  ball_pos_, ball_radius_ = ball_pos(ω), ball_radius(ω)\n",
    "  hits_vs_t = map(pos -> isinside(pos, ball_pos_, ball_radius_), series_)\n",
    "  anyₛ(hits_vs_t)\n",
    "end\n",
    "\n",
    "const projectile_hits = ciid(projectile_hits_)"
   ]
  },
  {
   "cell_type": "markdown",
   "metadata": {},
   "source": [
    "The prior probability that the projectile hits the ball can be approximated:"
   ]
  },
  {
   "cell_type": "code",
   "execution_count": 8,
   "metadata": {},
   "outputs": [
    {
     "data": {
      "text/plain": [
       "0.085"
      ]
     },
     "execution_count": 8,
     "metadata": {},
     "output_type": "execute_result"
    }
   ],
   "source": [
    "Statistics.mean(Bool.(rand(projectile_hits, 1000)))"
   ]
  },
  {
   "cell_type": "markdown",
   "metadata": {},
   "source": [
    "Find a world where the conditions are true"
   ]
  },
  {
   "cell_type": "code",
   "execution_count": 9,
   "metadata": {},
   "outputs": [
    {
     "name": "stdout",
     "output_type": "stream",
     "text": [
      "temps = [2.06115e-9, 4.53999e-5, 1.0, 22026.5]\n"
     ]
    },
    {
     "data": {
      "image/png": "[encoded data removed]",
      "image/svg+xml": [
       "<?xml version=\"1.0\" encoding=\"utf-8\"?>\n",
       "<svg xmlns=\"http://www.w3.org/2000/svg\" xmlns:xlink=\"http://www.w3.org/1999/xlink\" width=\"600\" height=\"400\" viewBox=\"0 0 2400 1600\">\n",
       "<defs>\n",
       "  <clipPath id=\"clip9500\">\n",
       "    <rect x=\"0\" y=\"0\" width=\"2400\" height=\"1600\"/>\n",
       "  </clipPath>\n",
       "</defs>\n",
       "<polygon clip-path=\"url(#clip9500)\" points=\"\n",
       "0,1600 2400,1600 2400,0 0,0 \n",
       "  \" fill=\"#ffffff\" fill-rule=\"evenodd\" fill-opacity=\"1\"/>\n",
       "<defs>\n",
       "  <clipPath id=\"clip9501\">\n",
       "    <rect x=\"480\" y=\"0\" width=\"1681\" height=\"1600\"/>\n",
       "  </clipPath>\n",
       "</defs>\n",
       "<polygon clip-path=\"url(#clip9500)\" points=\"\n",
       "121.251,1205.3 2321.26,1205.3 2321.26,345.422 121.251,345.422 \n",
       "  \" fill=\"#ffffff\" fill-rule=\"evenodd\" fill-opacity=\"1\"/>\n",
       "<defs>\n",
       "  <clipPath id=\"clip9502\">\n",
       "    <rect x=\"121\" y=\"345\" width=\"2201\" height=\"861\"/>\n",
       "  </clipPath>\n",
       "</defs>\n",
       "<polyline clip-path=\"url(#clip9502)\" style=\"stroke:#000000; stroke-width:2; stroke-opacity:0.1; fill:none\" points=\"\n",
       "  183.515,1205.3 183.515,345.422 \n",
       "  \"/>\n",
       "<polyline clip-path=\"url(#clip9502)\" style=\"stroke:#000000; stroke-width:2; stroke-opacity:0.1; fill:none\" points=\"\n",
       "  671.863,1205.3 671.863,345.422 \n",
       "  \"/>\n",
       "<polyline clip-path=\"url(#clip9502)\" style=\"stroke:#000000; stroke-width:2; stroke-opacity:0.1; fill:none\" points=\"\n",
       "  1160.21,1205.3 1160.21,345.422 \n",
       "  \"/>\n",
       "<polyline clip-path=\"url(#clip9502)\" style=\"stroke:#000000; stroke-width:2; stroke-opacity:0.1; fill:none\" points=\"\n",
       "  1648.56,1205.3 1648.56,345.422 \n",
       "  \"/>\n",
       "<polyline clip-path=\"url(#clip9502)\" style=\"stroke:#000000; stroke-width:2; stroke-opacity:0.1; fill:none\" points=\"\n",
       "  2136.91,1205.3 2136.91,345.422 \n",
       "  \"/>\n",
       "<polyline clip-path=\"url(#clip9502)\" style=\"stroke:#000000; stroke-width:2; stroke-opacity:0.1; fill:none\" points=\"\n",
       "  121.251,1119.93 2321.26,1119.93 \n",
       "  \"/>\n",
       "<polyline clip-path=\"url(#clip9502)\" style=\"stroke:#000000; stroke-width:2; stroke-opacity:0.1; fill:none\" points=\"\n",
       "  121.251,875.759 2321.26,875.759 \n",
       "  \"/>\n",
       "<polyline clip-path=\"url(#clip9502)\" style=\"stroke:#000000; stroke-width:2; stroke-opacity:0.1; fill:none\" points=\"\n",
       "  121.251,631.585 2321.26,631.585 \n",
       "  \"/>\n",
       "<polyline clip-path=\"url(#clip9502)\" style=\"stroke:#000000; stroke-width:2; stroke-opacity:0.1; fill:none\" points=\"\n",
       "  121.251,387.41 2321.26,387.41 \n",
       "  \"/>\n",
       "<polyline clip-path=\"url(#clip9500)\" style=\"stroke:#000000; stroke-width:4; stroke-opacity:1; fill:none\" points=\"\n",
       "  121.251,1205.3 2321.26,1205.3 \n",
       "  \"/>\n",
       "<polyline clip-path=\"url(#clip9500)\" style=\"stroke:#000000; stroke-width:4; stroke-opacity:1; fill:none\" points=\"\n",
       "  121.251,1205.3 121.251,345.422 \n",
       "  \"/>\n",
       "<polyline clip-path=\"url(#clip9500)\" style=\"stroke:#000000; stroke-width:4; stroke-opacity:1; fill:none\" points=\"\n",
       "  183.515,1205.3 183.515,1192.4 \n",
       "  \"/>\n",
       "<polyline clip-path=\"url(#clip9500)\" style=\"stroke:#000000; stroke-width:4; stroke-opacity:1; fill:none\" points=\"\n",
       "  671.863,1205.3 671.863,1192.4 \n",
       "  \"/>\n",
       "<polyline clip-path=\"url(#clip9500)\" style=\"stroke:#000000; stroke-width:4; stroke-opacity:1; fill:none\" points=\"\n",
       "  1160.21,1205.3 1160.21,1192.4 \n",
       "  \"/>\n",
       "<polyline clip-path=\"url(#clip9500)\" style=\"stroke:#000000; stroke-width:4; stroke-opacity:1; fill:none\" points=\"\n",
       "  1648.56,1205.3 1648.56,1192.4 \n",
       "  \"/>\n",
       "<polyline clip-path=\"url(#clip9500)\" style=\"stroke:#000000; stroke-width:4; stroke-opacity:1; fill:none\" points=\"\n",
       "  2136.91,1205.3 2136.91,1192.4 \n",
       "  \"/>\n",
       "<polyline clip-path=\"url(#clip9500)\" style=\"stroke:#000000; stroke-width:4; stroke-opacity:1; fill:none\" points=\"\n",
       "  121.251,1119.93 154.251,1119.93 \n",
       "  \"/>\n",
       "<polyline clip-path=\"url(#clip9500)\" style=\"stroke:#000000; stroke-width:4; stroke-opacity:1; fill:none\" points=\"\n",
       "  121.251,875.759 154.251,875.759 \n",
       "  \"/>\n",
       "<polyline clip-path=\"url(#clip9500)\" style=\"stroke:#000000; stroke-width:4; stroke-opacity:1; fill:none\" points=\"\n",
       "  121.251,631.585 154.251,631.585 \n",
       "  \"/>\n",
       "<polyline clip-path=\"url(#clip9500)\" style=\"stroke:#000000; stroke-width:4; stroke-opacity:1; fill:none\" points=\"\n",
       "  121.251,387.41 154.251,387.41 \n",
       "  \"/>\n",
       "<g clip-path=\"url(#clip9500)\">\n",
       "<text style=\"fill:#000000; fill-opacity:1; font-family:Arial,Helvetica Neue,Helvetica,sans-serif; font-size:48px; text-anchor:middle;\" transform=\"rotate(0, 183.515, 1259.3)\" x=\"183.515\" y=\"1259.3\">0</text>\n",
       "</g>\n",
       "<g clip-path=\"url(#clip9500)\">\n",
       "<text style=\"fill:#000000; fill-opacity:1; font-family:Arial,Helvetica Neue,Helvetica,sans-serif; font-size:48px; text-anchor:middle;\" transform=\"rotate(0, 671.863, 1259.3)\" x=\"671.863\" y=\"1259.3\">2</text>\n",
       "</g>\n",
       "<g clip-path=\"url(#clip9500)\">\n",
       "<text style=\"fill:#000000; fill-opacity:1; font-family:Arial,Helvetica Neue,Helvetica,sans-serif; font-size:48px; text-anchor:middle;\" transform=\"rotate(0, 1160.21, 1259.3)\" x=\"1160.21\" y=\"1259.3\">4</text>\n",
       "</g>\n",
       "<g clip-path=\"url(#clip9500)\">\n",
       "<text style=\"fill:#000000; fill-opacity:1; font-family:Arial,Helvetica Neue,Helvetica,sans-serif; font-size:48px; text-anchor:middle;\" transform=\"rotate(0, 1648.56, 1259.3)\" x=\"1648.56\" y=\"1259.3\">6</text>\n",
       "</g>\n",
       "<g clip-path=\"url(#clip9500)\">\n",
       "<text style=\"fill:#000000; fill-opacity:1; font-family:Arial,Helvetica Neue,Helvetica,sans-serif; font-size:48px; text-anchor:middle;\" transform=\"rotate(0, 2136.91, 1259.3)\" x=\"2136.91\" y=\"1259.3\">8</text>\n",
       "</g>\n",
       "<g clip-path=\"url(#clip9500)\">\n",
       "<text style=\"fill:#000000; fill-opacity:1; font-family:Arial,Helvetica Neue,Helvetica,sans-serif; font-size:48px; text-anchor:end;\" transform=\"rotate(0, 97.2505, 1137.43)\" x=\"97.2505\" y=\"1137.43\">0</text>\n",
       "</g>\n",
       "<g clip-path=\"url(#clip9500)\">\n",
       "<text style=\"fill:#000000; fill-opacity:1; font-family:Arial,Helvetica Neue,Helvetica,sans-serif; font-size:48px; text-anchor:end;\" transform=\"rotate(0, 97.2505, 893.259)\" x=\"97.2505\" y=\"893.259\">1</text>\n",
       "</g>\n",
       "<g clip-path=\"url(#clip9500)\">\n",
       "<text style=\"fill:#000000; fill-opacity:1; font-family:Arial,Helvetica Neue,Helvetica,sans-serif; font-size:48px; text-anchor:end;\" transform=\"rotate(0, 97.2505, 649.085)\" x=\"97.2505\" y=\"649.085\">2</text>\n",
       "</g>\n",
       "<g clip-path=\"url(#clip9500)\">\n",
       "<text style=\"fill:#000000; fill-opacity:1; font-family:Arial,Helvetica Neue,Helvetica,sans-serif; font-size:48px; text-anchor:end;\" transform=\"rotate(0, 97.2505, 404.91)\" x=\"97.2505\" y=\"404.91\">3</text>\n",
       "</g>\n",
       "<polyline clip-path=\"url(#clip9502)\" style=\"stroke:#009af9; stroke-width:4; stroke-opacity:1; fill:none\" points=\"\n",
       "  183.515,1119.93 183.515,1119.93 196.091,1101.1 208.666,1082.5 221.242,1064.14 233.818,1046.02 246.394,1028.14 258.97,1010.5 271.545,993.099 284.121,975.938 \n",
       "  296.697,959.016 309.273,942.334 321.848,925.892 334.424,909.689 347,893.726 359.576,878.002 372.151,862.518 384.727,847.273 397.303,832.268 409.879,817.502 \n",
       "  422.454,802.976 435.03,788.69 447.606,774.643 460.182,760.835 472.757,747.267 485.333,733.939 497.909,720.85 510.485,708 523.06,695.39 535.636,683.02 \n",
       "  548.212,670.889 560.788,658.998 573.363,647.346 585.939,635.934 598.515,624.762 611.091,613.829 623.667,603.135 636.242,592.681 648.818,582.466 661.394,572.491 \n",
       "  673.97,562.756 686.545,553.26 699.121,544.004 711.697,534.987 724.273,526.21 736.848,517.672 749.424,509.374 762,501.315 774.576,493.496 787.151,485.916 \n",
       "  799.727,478.576 812.303,471.476 824.879,464.615 837.454,457.993 850.03,451.611 862.606,445.469 875.182,439.566 887.757,433.903 900.333,428.479 912.909,423.295 \n",
       "  925.485,418.35 938.061,413.645 950.636,409.179 963.212,404.953 975.788,400.966 988.364,397.219 1000.94,393.712 1013.52,390.444 1026.09,387.415 1038.67,384.626 \n",
       "  1051.24,382.077 1063.82,379.767 1076.39,377.697 1088.97,375.866 1101.55,374.275 1114.12,372.923 1126.7,371.811 1139.27,370.938 1151.85,370.305 1164.42,369.912 \n",
       "  1177,369.758 1189.58,369.843 1202.15,370.168 1214.73,370.733 1227.3,371.537 1239.88,372.581 1252.45,373.864 1265.03,375.387 1277.61,377.149 1290.18,379.151 \n",
       "  1302.76,381.392 1315.33,383.873 1327.91,386.593 1340.48,389.553 1353.06,392.753 1365.64,396.192 1378.21,399.87 1390.79,403.788 1403.36,407.946 1415.94,412.343 \n",
       "  1428.52,416.98 1441.09,421.856 1453.67,426.971 1466.24,432.327 1478.82,437.922 1491.39,443.756 1503.97,449.83 1516.55,456.143 1529.12,462.696 1541.7,469.489 \n",
       "  1554.27,476.521 1566.85,483.792 1579.42,491.303 1592,499.054 1604.58,507.044 1617.15,515.274 1629.73,523.743 1642.3,532.452 1654.88,541.4 1667.45,550.588 \n",
       "  1680.03,560.015 1692.61,569.682 1705.18,579.589 1717.76,589.735 1730.33,600.12 1742.91,610.745 1755.48,621.61 1768.06,632.714 1780.64,644.057 1793.21,655.641 \n",
       "  1805.79,667.463 1818.36,679.526 1830.94,691.827 1843.52,704.369 1856.09,717.149 1868.67,730.17 1881.24,743.43 1893.82,756.929 1906.39,770.668 1918.97,784.647 \n",
       "  1931.55,798.865 1944.12,813.322 1956.7,828.02 1969.27,842.956 1981.85,858.132 1994.42,873.548 2007,889.203 2019.58,905.098 2032.15,921.233 2044.73,937.606 \n",
       "  2057.3,954.22 2069.88,971.073 2082.45,988.165 2095.03,1005.5 2107.61,1023.07 2120.18,1040.88 2132.76,1058.93 2145.33,1077.22 2157.91,1095.75 2170.48,1114.52 \n",
       "  \n",
       "  \"/>\n",
       "<polygon clip-path=\"url(#clip9502)\" points=\"\n",
       "2259,1058.89 2258.75,1051.15 2258.01,1043.43 2256.79,1035.78 2255.08,1028.23 2252.9,1020.79 2250.25,1013.51 2247.14,1006.42 2243.59,999.531 2239.61,992.884 \n",
       "  2235.22,986.503 2230.43,980.413 2225.27,974.64 2219.75,969.205 2213.89,964.132 2207.73,959.44 2201.28,955.149 2194.57,951.275 2187.63,947.835 2180.48,944.842 \n",
       "  2173.16,942.308 2165.69,940.244 2158.11,938.657 2150.44,937.555 2142.72,936.941 2134.97,936.818 2127.23,937.186 2119.53,938.045 2111.9,939.39 2104.38,941.217 \n",
       "  2096.98,943.517 2089.74,946.282 2082.69,949.5 2075.86,953.159 2069.28,957.243 2062.97,961.737 2056.96,966.622 2051.27,971.879 2045.92,977.485 2040.94,983.42 \n",
       "  2036.35,989.659 2032.16,996.176 2028.39,1002.95 2025.06,1009.94 2022.18,1017.13 2019.77,1024.49 2017.82,1031.99 2016.35,1039.6 2015.37,1047.28 2014.88,1055.02 \n",
       "  2014.88,1062.76 2015.37,1070.49 2016.35,1078.18 2017.82,1085.79 2019.77,1093.29 2022.18,1100.65 2025.06,1107.84 2028.39,1114.83 2032.16,1121.6 2036.35,1128.12 \n",
       "  2040.94,1134.36 2045.92,1140.29 2051.27,1145.9 2056.96,1151.16 2062.97,1156.04 2069.28,1160.54 2075.86,1164.62 2082.69,1168.28 2089.74,1171.5 2096.98,1174.26 \n",
       "  2104.38,1176.56 2111.9,1178.39 2119.53,1179.73 2127.23,1180.59 2134.97,1180.96 2142.72,1180.84 2150.44,1180.22 2158.11,1179.12 2165.69,1177.54 2173.16,1175.47 \n",
       "  2180.48,1172.94 2187.63,1169.94 2194.57,1166.5 2201.28,1162.63 2207.73,1158.34 2213.89,1153.65 2219.75,1148.57 2225.27,1143.14 2230.43,1137.37 2235.22,1131.28 \n",
       "  2239.61,1124.89 2243.59,1118.25 2247.14,1111.36 2250.25,1104.26 2252.9,1096.98 2255.08,1089.55 2256.79,1081.99 2258.01,1074.34 2258.75,1066.63 2259,1058.89 \n",
       "  2259,1058.89 \n",
       "  \" fill=\"#ffff00\" fill-rule=\"evenodd\" fill-opacity=\"1\"/>\n",
       "<polyline clip-path=\"url(#clip9502)\" style=\"stroke:#000000; stroke-width:4; stroke-opacity:1; fill:none\" points=\"\n",
       "  2259,1058.89 2258.75,1051.15 2258.01,1043.43 2256.79,1035.78 2255.08,1028.23 2252.9,1020.79 2250.25,1013.51 2247.14,1006.42 2243.59,999.531 2239.61,992.884 \n",
       "  2235.22,986.503 2230.43,980.413 2225.27,974.64 2219.75,969.205 2213.89,964.132 2207.73,959.44 2201.28,955.149 2194.57,951.275 2187.63,947.835 2180.48,944.842 \n",
       "  2173.16,942.308 2165.69,940.244 2158.11,938.657 2150.44,937.555 2142.72,936.941 2134.97,936.818 2127.23,937.186 2119.53,938.045 2111.9,939.39 2104.38,941.217 \n",
       "  2096.98,943.517 2089.74,946.282 2082.69,949.5 2075.86,953.159 2069.28,957.243 2062.97,961.737 2056.96,966.622 2051.27,971.879 2045.92,977.485 2040.94,983.42 \n",
       "  2036.35,989.659 2032.16,996.176 2028.39,1002.95 2025.06,1009.94 2022.18,1017.13 2019.77,1024.49 2017.82,1031.99 2016.35,1039.6 2015.37,1047.28 2014.88,1055.02 \n",
       "  2014.88,1062.76 2015.37,1070.49 2016.35,1078.18 2017.82,1085.79 2019.77,1093.29 2022.18,1100.65 2025.06,1107.84 2028.39,1114.83 2032.16,1121.6 2036.35,1128.12 \n",
       "  2040.94,1134.36 2045.92,1140.29 2051.27,1145.9 2056.96,1151.16 2062.97,1156.04 2069.28,1160.54 2075.86,1164.62 2082.69,1168.28 2089.74,1171.5 2096.98,1174.26 \n",
       "  2104.38,1176.56 2111.9,1178.39 2119.53,1179.73 2127.23,1180.59 2134.97,1180.96 2142.72,1180.84 2150.44,1180.22 2158.11,1179.12 2165.69,1177.54 2173.16,1175.47 \n",
       "  2180.48,1172.94 2187.63,1169.94 2194.57,1166.5 2201.28,1162.63 2207.73,1158.34 2213.89,1153.65 2219.75,1148.57 2225.27,1143.14 2230.43,1137.37 2235.22,1131.28 \n",
       "  2239.61,1124.89 2243.59,1118.25 2247.14,1111.36 2250.25,1104.26 2252.9,1096.98 2255.08,1089.55 2256.79,1081.99 2258.01,1074.34 2258.75,1066.63 2259,1058.89 \n",
       "  \n",
       "  \"/>\n",
       "</svg>\n"
      ],
      "text/html": [
       "<?xml version=\"1.0\" encoding=\"utf-8\"?>\n",
       "<svg xmlns=\"http://www.w3.org/2000/svg\" xmlns:xlink=\"http://www.w3.org/1999/xlink\" width=\"600\" height=\"400\" viewBox=\"0 0 2400 1600\">\n",
       "<defs>\n",
       "  <clipPath id=\"clip9800\">\n",
       "    <rect x=\"0\" y=\"0\" width=\"2400\" height=\"1600\"/>\n",
       "  </clipPath>\n",
       "</defs>\n",
       "<polygon clip-path=\"url(#clip9800)\" points=\"\n",
       "0,1600 2400,1600 2400,0 0,0 \n",
       "  \" fill=\"#ffffff\" fill-rule=\"evenodd\" fill-opacity=\"1\"/>\n",
       "<defs>\n",
       "  <clipPath id=\"clip9801\">\n",
       "    <rect x=\"480\" y=\"0\" width=\"1681\" height=\"1600\"/>\n",
       "  </clipPath>\n",
       "</defs>\n",
       "<polygon clip-path=\"url(#clip9800)\" points=\"\n",
       "121.251,1205.3 2321.26,1205.3 2321.26,345.422 121.251,345.422 \n",
       "  \" fill=\"#ffffff\" fill-rule=\"evenodd\" fill-opacity=\"1\"/>\n",
       "<defs>\n",
       "  <clipPath id=\"clip9802\">\n",
       "    <rect x=\"121\" y=\"345\" width=\"2201\" height=\"861\"/>\n",
       "  </clipPath>\n",
       "</defs>\n",
       "<polyline clip-path=\"url(#clip9802)\" style=\"stroke:#000000; stroke-width:2; stroke-opacity:0.1; fill:none\" points=\"\n",
       "  183.515,1205.3 183.515,345.422 \n",
       "  \"/>\n",
       "<polyline clip-path=\"url(#clip9802)\" style=\"stroke:#000000; stroke-width:2; stroke-opacity:0.1; fill:none\" points=\"\n",
       "  671.863,1205.3 671.863,345.422 \n",
       "  \"/>\n",
       "<polyline clip-path=\"url(#clip9802)\" style=\"stroke:#000000; stroke-width:2; stroke-opacity:0.1; fill:none\" points=\"\n",
       "  1160.21,1205.3 1160.21,345.422 \n",
       "  \"/>\n",
       "<polyline clip-path=\"url(#clip9802)\" style=\"stroke:#000000; stroke-width:2; stroke-opacity:0.1; fill:none\" points=\"\n",
       "  1648.56,1205.3 1648.56,345.422 \n",
       "  \"/>\n",
       "<polyline clip-path=\"url(#clip9802)\" style=\"stroke:#000000; stroke-width:2; stroke-opacity:0.1; fill:none\" points=\"\n",
       "  2136.91,1205.3 2136.91,345.422 \n",
       "  \"/>\n",
       "<polyline clip-path=\"url(#clip9802)\" style=\"stroke:#000000; stroke-width:2; stroke-opacity:0.1; fill:none\" points=\"\n",
       "  121.251,1119.93 2321.26,1119.93 \n",
       "  \"/>\n",
       "<polyline clip-path=\"url(#clip9802)\" style=\"stroke:#000000; stroke-width:2; stroke-opacity:0.1; fill:none\" points=\"\n",
       "  121.251,875.759 2321.26,875.759 \n",
       "  \"/>\n",
       "<polyline clip-path=\"url(#clip9802)\" style=\"stroke:#000000; stroke-width:2; stroke-opacity:0.1; fill:none\" points=\"\n",
       "  121.251,631.585 2321.26,631.585 \n",
       "  \"/>\n",
       "<polyline clip-path=\"url(#clip9802)\" style=\"stroke:#000000; stroke-width:2; stroke-opacity:0.1; fill:none\" points=\"\n",
       "  121.251,387.41 2321.26,387.41 \n",
       "  \"/>\n",
       "<polyline clip-path=\"url(#clip9800)\" style=\"stroke:#000000; stroke-width:4; stroke-opacity:1; fill:none\" points=\"\n",
       "  121.251,1205.3 2321.26,1205.3 \n",
       "  \"/>\n",
       "<polyline clip-path=\"url(#clip9800)\" style=\"stroke:#000000; stroke-width:4; stroke-opacity:1; fill:none\" points=\"\n",
       "  121.251,1205.3 121.251,345.422 \n",
       "  \"/>\n",
       "<polyline clip-path=\"url(#clip9800)\" style=\"stroke:#000000; stroke-width:4; stroke-opacity:1; fill:none\" points=\"\n",
       "  183.515,1205.3 183.515,1192.4 \n",
       "  \"/>\n",
       "<polyline clip-path=\"url(#clip9800)\" style=\"stroke:#000000; stroke-width:4; stroke-opacity:1; fill:none\" points=\"\n",
       "  671.863,1205.3 671.863,1192.4 \n",
       "  \"/>\n",
       "<polyline clip-path=\"url(#clip9800)\" style=\"stroke:#000000; stroke-width:4; stroke-opacity:1; fill:none\" points=\"\n",
       "  1160.21,1205.3 1160.21,1192.4 \n",
       "  \"/>\n",
       "<polyline clip-path=\"url(#clip9800)\" style=\"stroke:#000000; stroke-width:4; stroke-opacity:1; fill:none\" points=\"\n",
       "  1648.56,1205.3 1648.56,1192.4 \n",
       "  \"/>\n",
       "<polyline clip-path=\"url(#clip9800)\" style=\"stroke:#000000; stroke-width:4; stroke-opacity:1; fill:none\" points=\"\n",
       "  2136.91,1205.3 2136.91,1192.4 \n",
       "  \"/>\n",
       "<polyline clip-path=\"url(#clip9800)\" style=\"stroke:#000000; stroke-width:4; stroke-opacity:1; fill:none\" points=\"\n",
       "  121.251,1119.93 154.251,1119.93 \n",
       "  \"/>\n",
       "<polyline clip-path=\"url(#clip9800)\" style=\"stroke:#000000; stroke-width:4; stroke-opacity:1; fill:none\" points=\"\n",
       "  121.251,875.759 154.251,875.759 \n",
       "  \"/>\n",
       "<polyline clip-path=\"url(#clip9800)\" style=\"stroke:#000000; stroke-width:4; stroke-opacity:1; fill:none\" points=\"\n",
       "  121.251,631.585 154.251,631.585 \n",
       "  \"/>\n",
       "<polyline clip-path=\"url(#clip9800)\" style=\"stroke:#000000; stroke-width:4; stroke-opacity:1; fill:none\" points=\"\n",
       "  121.251,387.41 154.251,387.41 \n",
       "  \"/>\n",
       "<g clip-path=\"url(#clip9800)\">\n",
       "<text style=\"fill:#000000; fill-opacity:1; font-family:Arial,Helvetica Neue,Helvetica,sans-serif; font-size:48px; text-anchor:middle;\" transform=\"rotate(0, 183.515, 1259.3)\" x=\"183.515\" y=\"1259.3\">0</text>\n",
       "</g>\n",
       "<g clip-path=\"url(#clip9800)\">\n",
       "<text style=\"fill:#000000; fill-opacity:1; font-family:Arial,Helvetica Neue,Helvetica,sans-serif; font-size:48px; text-anchor:middle;\" transform=\"rotate(0, 671.863, 1259.3)\" x=\"671.863\" y=\"1259.3\">2</text>\n",
       "</g>\n",
       "<g clip-path=\"url(#clip9800)\">\n",
       "<text style=\"fill:#000000; fill-opacity:1; font-family:Arial,Helvetica Neue,Helvetica,sans-serif; font-size:48px; text-anchor:middle;\" transform=\"rotate(0, 1160.21, 1259.3)\" x=\"1160.21\" y=\"1259.3\">4</text>\n",
       "</g>\n",
       "<g clip-path=\"url(#clip9800)\">\n",
       "<text style=\"fill:#000000; fill-opacity:1; font-family:Arial,Helvetica Neue,Helvetica,sans-serif; font-size:48px; text-anchor:middle;\" transform=\"rotate(0, 1648.56, 1259.3)\" x=\"1648.56\" y=\"1259.3\">6</text>\n",
       "</g>\n",
       "<g clip-path=\"url(#clip9800)\">\n",
       "<text style=\"fill:#000000; fill-opacity:1; font-family:Arial,Helvetica Neue,Helvetica,sans-serif; font-size:48px; text-anchor:middle;\" transform=\"rotate(0, 2136.91, 1259.3)\" x=\"2136.91\" y=\"1259.3\">8</text>\n",
       "</g>\n",
       "<g clip-path=\"url(#clip9800)\">\n",
       "<text style=\"fill:#000000; fill-opacity:1; font-family:Arial,Helvetica Neue,Helvetica,sans-serif; font-size:48px; text-anchor:end;\" transform=\"rotate(0, 97.2505, 1137.43)\" x=\"97.2505\" y=\"1137.43\">0</text>\n",
       "</g>\n",
       "<g clip-path=\"url(#clip9800)\">\n",
       "<text style=\"fill:#000000; fill-opacity:1; font-family:Arial,Helvetica Neue,Helvetica,sans-serif; font-size:48px; text-anchor:end;\" transform=\"rotate(0, 97.2505, 893.259)\" x=\"97.2505\" y=\"893.259\">1</text>\n",
       "</g>\n",
       "<g clip-path=\"url(#clip9800)\">\n",
       "<text style=\"fill:#000000; fill-opacity:1; font-family:Arial,Helvetica Neue,Helvetica,sans-serif; font-size:48px; text-anchor:end;\" transform=\"rotate(0, 97.2505, 649.085)\" x=\"97.2505\" y=\"649.085\">2</text>\n",
       "</g>\n",
       "<g clip-path=\"url(#clip9800)\">\n",
       "<text style=\"fill:#000000; fill-opacity:1; font-family:Arial,Helvetica Neue,Helvetica,sans-serif; font-size:48px; text-anchor:end;\" transform=\"rotate(0, 97.2505, 404.91)\" x=\"97.2505\" y=\"404.91\">3</text>\n",
       "</g>\n",
       "<polyline clip-path=\"url(#clip9802)\" style=\"stroke:#009af9; stroke-width:4; stroke-opacity:1; fill:none\" points=\"\n",
       "  183.515,1119.93 183.515,1119.93 196.091,1101.1 208.666,1082.5 221.242,1064.14 233.818,1046.02 246.394,1028.14 258.97,1010.5 271.545,993.099 284.121,975.938 \n",
       "  296.697,959.016 309.273,942.334 321.848,925.892 334.424,909.689 347,893.726 359.576,878.002 372.151,862.518 384.727,847.273 397.303,832.268 409.879,817.502 \n",
       "  422.454,802.976 435.03,788.69 447.606,774.643 460.182,760.835 472.757,747.267 485.333,733.939 497.909,720.85 510.485,708 523.06,695.39 535.636,683.02 \n",
       "  548.212,670.889 560.788,658.998 573.363,647.346 585.939,635.934 598.515,624.762 611.091,613.829 623.667,603.135 636.242,592.681 648.818,582.466 661.394,572.491 \n",
       "  673.97,562.756 686.545,553.26 699.121,544.004 711.697,534.987 724.273,526.21 736.848,517.672 749.424,509.374 762,501.315 774.576,493.496 787.151,485.916 \n",
       "  799.727,478.576 812.303,471.476 824.879,464.615 837.454,457.993 850.03,451.611 862.606,445.469 875.182,439.566 887.757,433.903 900.333,428.479 912.909,423.295 \n",
       "  925.485,418.35 938.061,413.645 950.636,409.179 963.212,404.953 975.788,400.966 988.364,397.219 1000.94,393.712 1013.52,390.444 1026.09,387.415 1038.67,384.626 \n",
       "  1051.24,382.077 1063.82,379.767 1076.39,377.697 1088.97,375.866 1101.55,374.275 1114.12,372.923 1126.7,371.811 1139.27,370.938 1151.85,370.305 1164.42,369.912 \n",
       "  1177,369.758 1189.58,369.843 1202.15,370.168 1214.73,370.733 1227.3,371.537 1239.88,372.581 1252.45,373.864 1265.03,375.387 1277.61,377.149 1290.18,379.151 \n",
       "  1302.76,381.392 1315.33,383.873 1327.91,386.593 1340.48,389.553 1353.06,392.753 1365.64,396.192 1378.21,399.87 1390.79,403.788 1403.36,407.946 1415.94,412.343 \n",
       "  1428.52,416.98 1441.09,421.856 1453.67,426.971 1466.24,432.327 1478.82,437.922 1491.39,443.756 1503.97,449.83 1516.55,456.143 1529.12,462.696 1541.7,469.489 \n",
       "  1554.27,476.521 1566.85,483.792 1579.42,491.303 1592,499.054 1604.58,507.044 1617.15,515.274 1629.73,523.743 1642.3,532.452 1654.88,541.4 1667.45,550.588 \n",
       "  1680.03,560.015 1692.61,569.682 1705.18,579.589 1717.76,589.735 1730.33,600.12 1742.91,610.745 1755.48,621.61 1768.06,632.714 1780.64,644.057 1793.21,655.641 \n",
       "  1805.79,667.463 1818.36,679.526 1830.94,691.827 1843.52,704.369 1856.09,717.149 1868.67,730.17 1881.24,743.43 1893.82,756.929 1906.39,770.668 1918.97,784.647 \n",
       "  1931.55,798.865 1944.12,813.322 1956.7,828.02 1969.27,842.956 1981.85,858.132 1994.42,873.548 2007,889.203 2019.58,905.098 2032.15,921.233 2044.73,937.606 \n",
       "  2057.3,954.22 2069.88,971.073 2082.45,988.165 2095.03,1005.5 2107.61,1023.07 2120.18,1040.88 2132.76,1058.93 2145.33,1077.22 2157.91,1095.75 2170.48,1114.52 \n",
       "  \n",
       "  \"/>\n",
       "<polygon clip-path=\"url(#clip9802)\" points=\"\n",
       "2259,1058.89 2258.75,1051.15 2258.01,1043.43 2256.79,1035.78 2255.08,1028.23 2252.9,1020.79 2250.25,1013.51 2247.14,1006.42 2243.59,999.531 2239.61,992.884 \n",
       "  2235.22,986.503 2230.43,980.413 2225.27,974.64 2219.75,969.205 2213.89,964.132 2207.73,959.44 2201.28,955.149 2194.57,951.275 2187.63,947.835 2180.48,944.842 \n",
       "  2173.16,942.308 2165.69,940.244 2158.11,938.657 2150.44,937.555 2142.72,936.941 2134.97,936.818 2127.23,937.186 2119.53,938.045 2111.9,939.39 2104.38,941.217 \n",
       "  2096.98,943.517 2089.74,946.282 2082.69,949.5 2075.86,953.159 2069.28,957.243 2062.97,961.737 2056.96,966.622 2051.27,971.879 2045.92,977.485 2040.94,983.42 \n",
       "  2036.35,989.659 2032.16,996.176 2028.39,1002.95 2025.06,1009.94 2022.18,1017.13 2019.77,1024.49 2017.82,1031.99 2016.35,1039.6 2015.37,1047.28 2014.88,1055.02 \n",
       "  2014.88,1062.76 2015.37,1070.49 2016.35,1078.18 2017.82,1085.79 2019.77,1093.29 2022.18,1100.65 2025.06,1107.84 2028.39,1114.83 2032.16,1121.6 2036.35,1128.12 \n",
       "  2040.94,1134.36 2045.92,1140.29 2051.27,1145.9 2056.96,1151.16 2062.97,1156.04 2069.28,1160.54 2075.86,1164.62 2082.69,1168.28 2089.74,1171.5 2096.98,1174.26 \n",
       "  2104.38,1176.56 2111.9,1178.39 2119.53,1179.73 2127.23,1180.59 2134.97,1180.96 2142.72,1180.84 2150.44,1180.22 2158.11,1179.12 2165.69,1177.54 2173.16,1175.47 \n",
       "  2180.48,1172.94 2187.63,1169.94 2194.57,1166.5 2201.28,1162.63 2207.73,1158.34 2213.89,1153.65 2219.75,1148.57 2225.27,1143.14 2230.43,1137.37 2235.22,1131.28 \n",
       "  2239.61,1124.89 2243.59,1118.25 2247.14,1111.36 2250.25,1104.26 2252.9,1096.98 2255.08,1089.55 2256.79,1081.99 2258.01,1074.34 2258.75,1066.63 2259,1058.89 \n",
       "  2259,1058.89 \n",
       "  \" fill=\"#ffff00\" fill-rule=\"evenodd\" fill-opacity=\"1\"/>\n",
       "<polyline clip-path=\"url(#clip9802)\" style=\"stroke:#000000; stroke-width:4; stroke-opacity:1; fill:none\" points=\"\n",
       "  2259,1058.89 2258.75,1051.15 2258.01,1043.43 2256.79,1035.78 2255.08,1028.23 2252.9,1020.79 2250.25,1013.51 2247.14,1006.42 2243.59,999.531 2239.61,992.884 \n",
       "  2235.22,986.503 2230.43,980.413 2225.27,974.64 2219.75,969.205 2213.89,964.132 2207.73,959.44 2201.28,955.149 2194.57,951.275 2187.63,947.835 2180.48,944.842 \n",
       "  2173.16,942.308 2165.69,940.244 2158.11,938.657 2150.44,937.555 2142.72,936.941 2134.97,936.818 2127.23,937.186 2119.53,938.045 2111.9,939.39 2104.38,941.217 \n",
       "  2096.98,943.517 2089.74,946.282 2082.69,949.5 2075.86,953.159 2069.28,957.243 2062.97,961.737 2056.96,966.622 2051.27,971.879 2045.92,977.485 2040.94,983.42 \n",
       "  2036.35,989.659 2032.16,996.176 2028.39,1002.95 2025.06,1009.94 2022.18,1017.13 2019.77,1024.49 2017.82,1031.99 2016.35,1039.6 2015.37,1047.28 2014.88,1055.02 \n",
       "  2014.88,1062.76 2015.37,1070.49 2016.35,1078.18 2017.82,1085.79 2019.77,1093.29 2022.18,1100.65 2025.06,1107.84 2028.39,1114.83 2032.16,1121.6 2036.35,1128.12 \n",
       "  2040.94,1134.36 2045.92,1140.29 2051.27,1145.9 2056.96,1151.16 2062.97,1156.04 2069.28,1160.54 2075.86,1164.62 2082.69,1168.28 2089.74,1171.5 2096.98,1174.26 \n",
       "  2104.38,1176.56 2111.9,1178.39 2119.53,1179.73 2127.23,1180.59 2134.97,1180.96 2142.72,1180.84 2150.44,1180.22 2158.11,1179.12 2165.69,1177.54 2173.16,1175.47 \n",
       "  2180.48,1172.94 2187.63,1169.94 2194.57,1166.5 2201.28,1162.63 2207.73,1158.34 2213.89,1153.65 2219.75,1148.57 2225.27,1143.14 2230.43,1137.37 2235.22,1131.28 \n",
       "  2239.61,1124.89 2243.59,1118.25 2247.14,1111.36 2250.25,1104.26 2252.9,1096.98 2255.08,1089.55 2256.79,1081.99 2258.01,1074.34 2258.75,1066.63 2259,1058.89 \n",
       "  \n",
       "  \"/>\n",
       "</svg>\n"
      ],
      "text/plain": [
       "Plot{Plots.GRBackend() n=2}"
      ]
     },
     "execution_count": 9,
     "metadata": {},
     "output_type": "execute_result"
    }
   ],
   "source": [
    "post_samples = rand((series, ball_pos, ball_radius), projectile_hits, 1000; alg = Replica)\n",
    "series_, ball_pos_, ball_radius_ = ntranspose(post_samples)\n",
    "i = rand(1:length(series_))\n",
    "vizscene(series_[i], ball_pos_[i], ball_radius_[i])"
   ]
  },
  {
   "cell_type": "markdown",
   "metadata": {},
   "source": [
    "### But For Causality"
   ]
  },
  {
   "cell_type": "markdown",
   "metadata": {},
   "source": [
    "We will now use but-for causality to determine whether the angle of projection is the cause of the projectile hitting the ball"
   ]
  },
  {
   "cell_type": "markdown",
   "metadata": {},
   "source": [
    "But-for causality looks for an intervention that invalidates the cause and the effect\n",
    "Since we have soft constraints, we formulate this as an optimization problem\n",
    "The following function sketches the implementation of but_for.  The full implementation can be found in our version"
   ]
  },
  {
   "cell_type": "code",
   "execution_count": 10,
   "metadata": {},
   "outputs": [
    {
     "data": {
      "text/plain": [
       "Main.##390.iscausebfsketch"
      ]
     },
     "execution_count": 10,
     "metadata": {},
     "output_type": "execute_result"
    }
   ],
   "source": [
    "\"\"\"\n",
    "`iscausebf(ω, c, e, iset; kwargs...)`\n",
    "\n",
    "But-for causality.\n",
    "\n",
    "Is `c` (provably) the actual cause of `e` in the causal world `ω`, allowing\n",
    "interventions on variables defined in  `isset`\n",
    "\"\"\"\n",
    "function iscausebfsketch(ω::Omega.Ω, c::RandVar, e::RandVar, iset;\n",
    "                   sizes = [length(i(ω)) for i in iset],\n",
    "                   proj = identity, # maps reals to types of intervened vars\n",
    "                   optargs...)\n",
    "  @assert Bool(c(ω)) && Bool(e(ω)) \"Both cause and effect must be true in ω\"\n",
    "  # Construct a loss function that is 1 when the constraint is satisfied\n",
    "  loss = let rngs = splitvec(sizes), butfor = Omega.ciid(ω -> !c(ω) & !e(ω)), proj = proj\n",
    "    function loss(vec, grad)\n",
    "      # Since optimization requries vectors, we must do some book keeping\n",
    "      replmap = Dict(iset[i] => proj(vec[rng]) for (i, rng) in enumerate(rngs))\n",
    "      # In loss function we construct intervened mode where intervenable variables\n",
    "      # in iset have been set to values under consideration\n",
    "      butforint = replace(butfor, replmap)\n",
    "      # Get a score of the degree tow hich the effect `e` stil holds (in log scale)\n",
    "      Omega.logerr(butforint(ω))\n",
    "    end\n",
    "  end\n",
    "  # optimize this loss function\n",
    "  nlopt(loss, ω, iset, sizes; optargs...)\n",
    "end"
   ]
  },
  {
   "cell_type": "markdown",
   "metadata": {},
   "source": [
    "Next, we must construct a causal world world where the condition is true (the projectile hits):"
   ]
  },
  {
   "cell_type": "code",
   "execution_count": 11,
   "metadata": {},
   "outputs": [
    {
     "name": "stdout",
     "output_type": "stream",
     "text": [
      "temps = [2.06115e-9, 4.53999e-5, 1.0, 22026.5]\n"
     ]
    }
   ],
   "source": [
    "ωs = rand(Random.MersenneTwister(), defΩ(Replica), logerr(projectile_hits),  1000, Replica);"
   ]
  },
  {
   "cell_type": "markdown",
   "metadata": {},
   "source": [
    "Take a single sample from this set and do a sanity check (the project really does hit)"
   ]
  },
  {
   "cell_type": "code",
   "execution_count": 12,
   "metadata": {},
   "outputs": [
    {
     "data": {
      "text/plain": [
       "true"
      ]
     },
     "execution_count": 12,
     "metadata": {},
     "output_type": "execute_result"
    }
   ],
   "source": [
    "ω = ωs[end]\n",
    "Bool(projectile_hits(ω))"
   ]
  },
  {
   "cell_type": "markdown",
   "metadata": {},
   "source": [
    "Finally, we can check but-for causality: in world ω, is value that θ takes in this world cause of prjectile hitting?"
   ]
  },
  {
   "cell_type": "code",
   "execution_count": 13,
   "metadata": {},
   "outputs": [
    {
     "data": {
      "text/plain": [
       "true"
      ]
     },
     "execution_count": 13,
     "metadata": {},
     "output_type": "execute_result"
    }
   ],
   "source": [
    "Omega.iscausebf(ω, θ ==ₛ θ(ω), projectile_hits, [θ], proj = first)"
   ]
  },
  {
   "cell_type": "markdown",
   "metadata": {},
   "source": [
    "*This notebook was generated using [Literate.jl](https://github.com/fredrikekre/Literate.jl).*"
   ]
  }
 ],
 "metadata": {
  "@webio": {
   "lastCommId": "43F393441E4C4508847AB7802648BB5A",
   "lastKernelId": "ec738ad9-f405-487a-ab3d-e011e73f201e"
  },
  "kernelspec": {
   "display_name": "Julia 1.1.0",
   "language": "julia",
   "name": "julia-1.1"
  },
  "language_info": {
   "file_extension": ".jl",
   "mimetype": "application/julia",
   "name": "julia",
   "version": "1.1.0"
  }
 },
 "nbformat": 4,
 "nbformat_minor": 3
}
