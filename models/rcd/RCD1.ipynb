{
 "cells": [
  {
   "cell_type": "markdown",
   "metadata": {},
   "source": [
    "# Higher-Order Probabilities"
   ]
  },
  {
   "cell_type": "code",
   "execution_count": null,
   "metadata": {
    "scrolled": true
   },
   "outputs": [],
   "source": [
    "using Omega\n",
    "using Distributions\n",
    "using Plots"
   ]
  },
  {
   "cell_type": "code",
   "execution_count": null,
   "metadata": {},
   "outputs": [],
   "source": [
    "faircoin = bernoulli(0.5, Bool)\n",
    "headsbiased = bernoulli(0.5, Bool)\n",
    "function coin_(ω)\n",
    "  weight = if faircoin(ω)\n",
    "    0.5\n",
    "  elseif headsbiased(ω)\n",
    "    0.6\n",
    "  else\n",
    "    0.4\n",
    "  end\n",
    "  bernoulli(ω, weight, Bool)\n",
    "end\n",
    "coin = ciid(coin_)"
   ]
  },
  {
   "cell_type": "code",
   "execution_count": 3,
   "metadata": {},
   "outputs": [],
   "source": [
    "coinrcd = coin ∥ (faircoin, headsbiased);"
   ]
  },
  {
   "cell_type": "code",
   "execution_count": 4,
   "metadata": {},
   "outputs": [
    {
     "data": {
      "text/plain": [
       "Bool"
      ]
     },
     "execution_count": 4,
     "metadata": {},
     "output_type": "execute_result"
    }
   ],
   "source": [
    "typeof(rand(coin))"
   ]
  },
  {
   "cell_type": "code",
   "execution_count": 5,
   "metadata": {},
   "outputs": [
    {
     "data": {
      "text/plain": [
       "Omega.URandVar{getfield(Omega, Symbol(\"##5#6\")){Omega.URandVar{typeof(coin_),Tuple{}},Omega.URandVar{typeof(Omega.reifyapply),Tuple{typeof(==),Omega.URandVar{typeof(Omega.applymany),Tuple{Tuple{Omega.Prim.Bernoulli{Bool,Float64},Omega.Prim.Bernoulli{Bool,Float64}}}},Tuple{Bool,Bool}}}},Tuple{}}"
      ]
     },
     "execution_count": 5,
     "metadata": {},
     "output_type": "execute_result"
    }
   ],
   "source": [
    "typeof(rand(coinrcd))"
   ]
  },
  {
   "cell_type": "code",
   "execution_count": 7,
   "metadata": {},
   "outputs": [],
   "source": [
    "probdist = lprob(coinrcd, 10000);"
   ]
  },
  {
   "cell_type": "code",
   "execution_count": 8,
   "metadata": {},
   "outputs": [
    {
     "data": {
      "text/plain": [
       "Float64"
      ]
     },
     "execution_count": 8,
     "metadata": {},
     "output_type": "execute_result"
    }
   ],
   "source": [
    "typeof(rand(probdist))"
   ]
  },
  {
   "cell_type": "code",
   "execution_count": null,
   "metadata": {},
   "outputs": [],
   "source": [
    "probsamples = rand(probdist, )"
   ]
  },
  {
   "cell_type": "code",
   "execution_count": null,
   "metadata": {},
   "outputs": [],
   "source": [
    "histogram(probsamples, nbins=100, xlims = [0.0, 1.0], normalize = true, label=\"\")"
   ]
  }
 ],
 "metadata": {
  "kernelspec": {
   "display_name": "Julia 1.0.1",
   "language": "julia",
   "name": "julia-1.0"
  },
  "language_info": {
   "file_extension": ".jl",
   "mimetype": "application/julia",
   "name": "julia",
   "version": "1.0.1"
  }
 },
 "nbformat": 4,
 "nbformat_minor": 2
}
